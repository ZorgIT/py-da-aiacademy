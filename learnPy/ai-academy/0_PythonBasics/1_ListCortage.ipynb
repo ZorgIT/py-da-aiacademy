{
 "cells": [
  {
   "cell_type": "code",
   "execution_count": 1,
   "id": "a78cd4d7-21fb-40d9-a1f7-fb984e5b8cfa",
   "metadata": {},
   "outputs": [
    {
     "data": {
      "text/plain": [
       "[]"
      ]
     },
     "execution_count": 1,
     "metadata": {},
     "output_type": "execute_result"
    }
   ],
   "source": [
    "my_list = list()\n",
    "my_list"
   ]
  },
  {
   "cell_type": "code",
   "execution_count": 5,
   "id": "76551116-1d48-4b56-95fa-f12e1ac53e86",
   "metadata": {},
   "outputs": [
    {
     "data": {
      "text/plain": [
       "[1, 2, 3]"
      ]
     },
     "execution_count": 5,
     "metadata": {},
     "output_type": "execute_result"
    }
   ],
   "source": [
    "my_list2 = [1,2,3]\n",
    "my_list2"
   ]
  },
  {
   "cell_type": "code",
   "execution_count": 11,
   "id": "1615e5d2-cd4d-4b2e-a684-b30ddd29fc21",
   "metadata": {},
   "outputs": [
    {
     "data": {
      "text/plain": [
       "[1, 2, 3, 4, 5, 6, 7, 8, 9, 10]"
      ]
     },
     "execution_count": 11,
     "metadata": {},
     "output_type": "execute_result"
    }
   ],
   "source": [
    "#Создание и заполнение списков\n",
    "numbers = [1,2,3,4,5,6,7,8,9,10]\n",
    "numbers"
   ]
  },
  {
   "cell_type": "code",
   "execution_count": 13,
   "id": "ba424990-adad-4937-8862-f71852259223",
   "metadata": {},
   "outputs": [
    {
     "data": {
      "text/plain": [
       "['Супермен', 'Бетмен', 'Черная пантера', 'Чудо женщина']"
      ]
     },
     "execution_count": 13,
     "metadata": {},
     "output_type": "execute_result"
    }
   ],
   "source": [
    "super_list = [\"Супермен\",\"Бетмен\", \"Черная пантера\", \"Чудо женщина\"]\n",
    "super_list"
   ]
  },
  {
   "cell_type": "code",
   "execution_count": 39,
   "id": "cbedded4-c67a-497f-99ed-9e3058a12a1e",
   "metadata": {},
   "outputs": [
    {
     "data": {
      "text/plain": [
       "['Кошка', ' Собака', ' Хомяк', ' Морская Свника', ' Попугай']"
      ]
     },
     "execution_count": 39,
     "metadata": {},
     "output_type": "execute_result"
    }
   ],
   "source": [
    "#Вариант заполнения писка\n",
    "animals = \"Кошка, собака, хомяк, морская свника, попугай\".title().split(',')\n",
    "animals"
   ]
  },
  {
   "cell_type": "code",
   "execution_count": 37,
   "id": "28904da9-dacc-4737-b6c0-c8e784e7b6ae",
   "metadata": {},
   "outputs": [
    {
     "data": {
      "text/plain": [
       "'Кошка'"
      ]
     },
     "execution_count": 37,
     "metadata": {},
     "output_type": "execute_result"
    }
   ],
   "source": [
    "animals[0]"
   ]
  },
  {
   "cell_type": "code",
   "execution_count": 63,
   "id": "911f93b2-e4a2-444d-aa70-3816eedf1914",
   "metadata": {},
   "outputs": [
    {
     "data": {
      "text/plain": [
       "['оранжевый', 'желтый', 'зеленый', 'голубой', 'синий']"
      ]
     },
     "execution_count": 63,
     "metadata": {},
     "output_type": "execute_result"
    }
   ],
   "source": [
    "#Работа со срезами\n",
    "colors = 'красный,оранжевый,желтый,зеленый,голубой,синий,фиолетовый'.split(\",\")\n",
    "colors[1:6]"
   ]
  },
  {
   "cell_type": "code",
   "execution_count": 65,
   "id": "ed5099f9-ab48-44fc-912d-8cc2be544fb1",
   "metadata": {},
   "outputs": [
    {
     "data": {
      "text/plain": [
       "['желтый', 'зеленый', 'голубой']"
      ]
     },
     "execution_count": 65,
     "metadata": {},
     "output_type": "execute_result"
    }
   ],
   "source": [
    "colors[2:5]"
   ]
  },
  {
   "cell_type": "code",
   "execution_count": 67,
   "id": "8ae7c19b-8663-4317-ae77-3761a723fd6d",
   "metadata": {},
   "outputs": [
    {
     "data": {
      "text/plain": [
       "['желтый', 'зеленый', 'голубой']"
      ]
     },
     "execution_count": 67,
     "metadata": {},
     "output_type": "execute_result"
    }
   ],
   "source": [
    "colors[2:-2]"
   ]
  },
  {
   "cell_type": "code",
   "execution_count": 69,
   "id": "3f12891c-40f1-447d-ae22-6e9e4dec39fa",
   "metadata": {},
   "outputs": [
    {
     "data": {
      "text/plain": [
       "['желтый', 'зеленый', 'голубой']"
      ]
     },
     "execution_count": 69,
     "metadata": {},
     "output_type": "execute_result"
    }
   ],
   "source": [
    "colors[-5:-2]"
   ]
  },
  {
   "cell_type": "code",
   "execution_count": 71,
   "id": "ade37307-3526-4a44-975e-ef6fe83676b8",
   "metadata": {},
   "outputs": [
    {
     "data": {
      "text/plain": [
       "['желтый', 'зеленый', 'голубой', 'синий', 'фиолетовый']"
      ]
     },
     "execution_count": 71,
     "metadata": {},
     "output_type": "execute_result"
    }
   ],
   "source": [
    "#Границы срезов\n",
    "colors[2:] #идти до конца списка"
   ]
  },
  {
   "cell_type": "code",
   "execution_count": 73,
   "id": "b5a77152-bfcb-417c-b6a3-6a943ee50a0a",
   "metadata": {},
   "outputs": [
    {
     "data": {
      "text/plain": [
       "['красный', 'оранжевый', 'желтый', 'зеленый']"
      ]
     },
     "execution_count": 73,
     "metadata": {},
     "output_type": "execute_result"
    }
   ],
   "source": [
    "colors[:4] #идти от начала до 4 элемента не включительно"
   ]
  },
  {
   "cell_type": "code",
   "execution_count": 83,
   "id": "72611e16-d542-4de7-9154-1890acfa0aaa",
   "metadata": {},
   "outputs": [
    {
     "data": {
      "text/plain": [
       "['голова', 'руки', 'ноги', 'глаза', 'уши', 'рот', 'нос', 'туловище']"
      ]
     },
     "execution_count": 83,
     "metadata": {},
     "output_type": "execute_result"
    }
   ],
   "source": [
    "body = ['голова', 'руки', 'ноги', 'глаза', 'уши', 'рот', 'нос', 'туловище']\n",
    "body[:]\n"
   ]
  },
  {
   "cell_type": "code",
   "execution_count": 87,
   "id": "2ee5548a-a3f9-4efb-9f6b-569f052e69ac",
   "metadata": {},
   "outputs": [
    {
     "data": {
      "text/plain": [
       "['красный',\n",
       " 'оранжевый',\n",
       " 'желтый',\n",
       " 'зеленый',\n",
       " 'голубой',\n",
       " 'синий',\n",
       " 'фиолетовый',\n",
       " 'бирюзовый',\n",
       " 'бирюзовый']"
      ]
     },
     "execution_count": 87,
     "metadata": {},
     "output_type": "execute_result"
    }
   ],
   "source": [
    "#Методы работы со списками\n",
    "colors.append(\"бирюзовый\")\n",
    "colors"
   ]
  },
  {
   "cell_type": "code",
   "execution_count": 103,
   "id": "5a26c2ce-60d2-41c7-be54-8452421782c4",
   "metadata": {},
   "outputs": [
    {
     "data": {
      "text/plain": [
       "['Red']"
      ]
     },
     "execution_count": 103,
     "metadata": {},
     "output_type": "execute_result"
    }
   ],
   "source": [
    "colors1 = []\n",
    "colors1.append(\"Red\")\n",
    "colors1"
   ]
  },
  {
   "cell_type": "code",
   "execution_count": 109,
   "id": "f1d2ccaf-315f-4f6c-b144-27c3d4435e47",
   "metadata": {},
   "outputs": [
    {
     "data": {
      "text/plain": [
       "[10, 29, 31, 65, 87, 90, 100]"
      ]
     },
     "execution_count": 111,
     "metadata": {},
     "output_type": "execute_result"
    }
   ],
   "source": [
    "#Сортировка списков\n",
    "my_list1 = [10,65,31,29,90,87,100]\n",
    "my_list1.sort()\n",
    "my_list1"
   ]
  },
  {
   "cell_type": "code",
   "execution_count": 115,
   "id": "d9f667d5-5f1c-49dd-b05f-413da22ff83c",
   "metadata": {},
   "outputs": [
    {
     "data": {
      "text/plain": [
       "[100, 90, 87, 65, 31, 29, 10]"
      ]
     },
     "execution_count": 115,
     "metadata": {},
     "output_type": "execute_result"
    }
   ],
   "source": [
    "#Сортировка списков\n",
    "my_list1 = [10,65,31,29,90,87,100]\n",
    "my_list1.sort(reverse = True) #Обратная сортировка\n",
    "my_list1"
   ]
  },
  {
   "cell_type": "code",
   "execution_count": 119,
   "id": "9d01096f-d29b-4c6c-a89a-2711c272330c",
   "metadata": {},
   "outputs": [
    {
     "data": {
      "text/plain": [
       "[1, 4, 9, 16, 25, 36, 49, 64, 81, 100]"
      ]
     },
     "execution_count": 119,
     "metadata": {},
     "output_type": "execute_result"
    }
   ],
   "source": [
    "my_list = []\n",
    "for number in range(1,11):\n",
    "    my_list.append(number**2)\n",
    "my_list"
   ]
  },
  {
   "cell_type": "code",
   "execution_count": 121,
   "id": "19a4e705-073b-4435-be1d-8632719e4ad3",
   "metadata": {},
   "outputs": [
    {
     "name": "stdout",
     "output_type": "stream",
     "text": [
      "399\n"
     ]
    }
   ],
   "source": [
    "my_list = [1, 10, 45, 31, 12, 54, 111, 398, 97, 63]\n",
    "result = max(my_list) + min(my_list) + my_list.count('batman')\n",
    "print(result)"
   ]
  },
  {
   "cell_type": "code",
   "execution_count": 125,
   "id": "7d901e97-74b9-4435-8f47-dc1f008ba31b",
   "metadata": {},
   "outputs": [
    {
     "data": {
      "text/plain": [
       "['а', 'а', 'а', 'б', 'б', 'п', 'п', 'я']"
      ]
     },
     "execution_count": 125,
     "metadata": {},
     "output_type": "execute_result"
    }
   ],
   "source": [
    "fruits = 'яблоко банан апельсин баклажан перец помидор арбуз ананас'.split()\n",
    "my_list = []\n",
    "for fruit in fruits:\n",
    "    my_list.append(fruit[0])\n",
    "my_list.sort()\n",
    "my_list"
   ]
  },
  {
   "cell_type": "code",
   "execution_count": 129,
   "id": "0606658f-364d-4413-97c1-c92054a296e7",
   "metadata": {},
   "outputs": [
    {
     "data": {
      "text/plain": [
       "408"
      ]
     },
     "execution_count": 129,
     "metadata": {},
     "output_type": "execute_result"
    }
   ],
   "source": [
    "m_list = []\n",
    "for i in range(1,51):\n",
    "  if (i%3 ==0):\n",
    "    m_list.append(i)\n",
    "sum(m_list)"
   ]
  },
  {
   "cell_type": "code",
   "execution_count": 133,
   "id": "f245c091-d86c-40dc-b7f0-dd11cb26f4d8",
   "metadata": {},
   "outputs": [
    {
     "name": "stdout",
     "output_type": "stream",
     "text": [
      "15\n"
     ]
    }
   ],
   "source": [
    "raw_list = (['переменные', 'циклы', 'условия'\n",
    "             , 'списки', 'словари'\n",
    "             , 'файлы', 'функции'])\n",
    "min = len(raw_list[0])\n",
    "max = min\n",
    "for word in raw_list:\n",
    "  length_cur_word =len(word)  \n",
    "  if (length_cur_word > max):\n",
    "    max = length_cur_word\n",
    "  elif (length_cur_word < min):\n",
    "      min = length_cur_word\n",
    "print(min+ max)\n",
    "\n",
    "      \n"
   ]
  },
  {
   "cell_type": "code",
   "execution_count": 135,
   "id": "985d64a8-d0a6-42dc-89c7-2bd34c43a480",
   "metadata": {},
   "outputs": [
    {
     "name": "stdout",
     "output_type": "stream",
     "text": [
      "[1, 2, 3, 4, 5, 6, 7, 8, 9, 10, 11, 12, 13, 14, 15, 16, 17, 18, 19, 20, 21, 22, 23, 24]\n"
     ]
    }
   ],
   "source": [
    "#Генераторы списков\n",
    "my_list = [x for x in range(1,25)]\n",
    "print(my_list)"
   ]
  },
  {
   "cell_type": "code",
   "execution_count": 137,
   "id": "d497afbf-725a-410a-acf2-9c61095067c6",
   "metadata": {},
   "outputs": [
    {
     "name": "stdout",
     "output_type": "stream",
     "text": [
      "[1, 2, 3, 4, 6, 7, 8, 9, 11, 12, 13, 14, 16, 17, 18, 19, 21, 22, 23, 24]\n"
     ]
    }
   ],
   "source": [
    "my_list = [x for x in range(1,25) if x%5 !=0 ]\n",
    "print(my_list)"
   ]
  },
  {
   "cell_type": "code",
   "execution_count": 141,
   "id": "bc1668c7-7d86-41e4-8433-b9ebcc348e4a",
   "metadata": {},
   "outputs": [
    {
     "data": {
      "text/plain": [
       "[100,\n",
       " 225,\n",
       " 400,\n",
       " 625,\n",
       " 900,\n",
       " 1225,\n",
       " 1600,\n",
       " 2025,\n",
       " 2500,\n",
       " 3025,\n",
       " 3600,\n",
       " 4225,\n",
       " 4900,\n",
       " 5625,\n",
       " 6400,\n",
       " 7225,\n",
       " 8100,\n",
       " 9025]"
      ]
     },
     "execution_count": 141,
     "metadata": {},
     "output_type": "execute_result"
    }
   ],
   "source": [
    "numbers = [x**2 for x in range(10, 100, 5)]\n",
    "numbers"
   ]
  },
  {
   "cell_type": "code",
   "execution_count": 145,
   "id": "cfe1bd9d-8b98-41bf-8f53-d70a6ab7e0b7",
   "metadata": {},
   "outputs": [
    {
     "data": {
      "text/plain": [
       "['п', 'р', 'в', 'т']"
      ]
     },
     "execution_count": 145,
     "metadata": {},
     "output_type": "execute_result"
    }
   ],
   "source": [
    "my_list = [x for x in 'привет' if x in ['п', 'р', 'в', 'т']]\n",
    "my_list"
   ]
  },
  {
   "cell_type": "code",
   "execution_count": 147,
   "id": "48974ffa-cb9d-4290-aec4-8a18d8fd1177",
   "metadata": {},
   "outputs": [],
   "source": [
    "my_list = [x for x in range(1,50) if x%7 == 0]"
   ]
  },
  {
   "cell_type": "code",
   "execution_count": 151,
   "id": "6165f6c7-cd0d-44fe-8a66-7c6ff69c0665",
   "metadata": {},
   "outputs": [],
   "source": [
    "if (length_cur_word > max):\n",
    "    max = length_cur_word\n",
    "elif (length_cur_word < min):  # Corrected indentation\n",
    "    min = length_cur_word"
   ]
  },
  {
   "cell_type": "code",
   "execution_count": null,
   "id": "87506f8a-01d3-4cc7-9f8a-89dd654f12a6",
   "metadata": {},
   "outputs": [],
   "source": []
  }
 ],
 "metadata": {
  "kernelspec": {
   "display_name": "Python 3 (ipykernel)",
   "language": "python",
   "name": "python3"
  },
  "language_info": {
   "codemirror_mode": {
    "name": "ipython",
    "version": 3
   },
   "file_extension": ".py",
   "mimetype": "text/x-python",
   "name": "python",
   "nbconvert_exporter": "python",
   "pygments_lexer": "ipython3",
   "version": "3.10.9"
  }
 },
 "nbformat": 4,
 "nbformat_minor": 5
}
