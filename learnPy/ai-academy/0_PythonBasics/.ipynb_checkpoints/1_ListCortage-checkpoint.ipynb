{
 "cells": [
  {
   "cell_type": "code",
   "execution_count": 1,
   "id": "a78cd4d7-21fb-40d9-a1f7-fb984e5b8cfa",
   "metadata": {},
   "outputs": [
    {
     "data": {
      "text/plain": [
       "[]"
      ]
     },
     "execution_count": 1,
     "metadata": {},
     "output_type": "execute_result"
    }
   ],
   "source": [
    "my_list = list()\n",
    "my_list"
   ]
  },
  {
   "cell_type": "code",
   "execution_count": 5,
   "id": "76551116-1d48-4b56-95fa-f12e1ac53e86",
   "metadata": {},
   "outputs": [
    {
     "data": {
      "text/plain": [
       "[1, 2, 3]"
      ]
     },
     "execution_count": 5,
     "metadata": {},
     "output_type": "execute_result"
    }
   ],
   "source": [
    "my_list2 = [1,2,3]\n",
    "my_list2"
   ]
  },
  {
   "cell_type": "code",
   "execution_count": 11,
   "id": "1615e5d2-cd4d-4b2e-a684-b30ddd29fc21",
   "metadata": {},
   "outputs": [
    {
     "data": {
      "text/plain": [
       "[1, 2, 3, 4, 5, 6, 7, 8, 9, 10]"
      ]
     },
     "execution_count": 11,
     "metadata": {},
     "output_type": "execute_result"
    }
   ],
   "source": [
    "#Создание и заполнение списков\n",
    "numbers = [1,2,3,4,5,6,7,8,9,10]\n",
    "numbers"
   ]
  },
  {
   "cell_type": "code",
   "execution_count": 13,
   "id": "ba424990-adad-4937-8862-f71852259223",
   "metadata": {},
   "outputs": [
    {
     "data": {
      "text/plain": [
       "['Супермен', 'Бетмен', 'Черная пантера', 'Чудо женщина']"
      ]
     },
     "execution_count": 13,
     "metadata": {},
     "output_type": "execute_result"
    }
   ],
   "source": [
    "super_list = [\"Супермен\",\"Бетмен\", \"Черная пантера\", \"Чудо женщина\"]\n",
    "super_list"
   ]
  },
  {
   "cell_type": "code",
   "execution_count": 39,
   "id": "cbedded4-c67a-497f-99ed-9e3058a12a1e",
   "metadata": {},
   "outputs": [
    {
     "data": {
      "text/plain": [
       "['Кошка', ' Собака', ' Хомяк', ' Морская Свника', ' Попугай']"
      ]
     },
     "execution_count": 39,
     "metadata": {},
     "output_type": "execute_result"
    }
   ],
   "source": [
    "#Вариант заполнения писка\n",
    "animals = \"Кошка, собака, хомяк, морская свника, попугай\".title().split(',')\n",
    "animals"
   ]
  },
  {
   "cell_type": "code",
   "execution_count": 37,
   "id": "28904da9-dacc-4737-b6c0-c8e784e7b6ae",
   "metadata": {},
   "outputs": [
    {
     "data": {
      "text/plain": [
       "'Кошка'"
      ]
     },
     "execution_count": 37,
     "metadata": {},
     "output_type": "execute_result"
    }
   ],
   "source": [
    "animals[0]"
   ]
  },
  {
   "cell_type": "code",
   "execution_count": 43,
   "id": "911f93b2-e4a2-444d-aa70-3816eedf1914",
   "metadata": {},
   "outputs": [
    {
     "data": {
      "text/plain": [
       "['оранжевый', 'желтый', 'зеленый', 'голубой', 'синий']"
      ]
     },
     "execution_count": 43,
     "metadata": {},
     "output_type": "execute_result"
    }
   ],
   "source": [
    "#Работа со срезами\n",
    "colors = 'красный,оранжевый,желтый,зеленый,голубой,синий,фиолетовый'.split(\",\")\n",
    "colors[1:6]"
   ]
  },
  {
   "cell_type": "code",
   "execution_count": 45,
   "id": "ed5099f9-ab48-44fc-912d-8cc2be544fb1",
   "metadata": {},
   "outputs": [
    {
     "data": {
      "text/plain": [
       "['желтый', 'зеленый', 'голубой']"
      ]
     },
     "execution_count": 45,
     "metadata": {},
     "output_type": "execute_result"
    }
   ],
   "source": [
    "colors[2:5]"
   ]
  },
  {
   "cell_type": "code",
   "execution_count": 49,
   "id": "8ae7c19b-8663-4317-ae77-3761a723fd6d",
   "metadata": {},
   "outputs": [
    {
     "data": {
      "text/plain": [
       "['желтый', 'зеленый', 'голубой']"
      ]
     },
     "execution_count": 49,
     "metadata": {},
     "output_type": "execute_result"
    }
   ],
   "source": [
    "colors[2:-2]"
   ]
  },
  {
   "cell_type": "code",
   "execution_count": 51,
   "id": "3f12891c-40f1-447d-ae22-6e9e4dec39fa",
   "metadata": {},
   "outputs": [
    {
     "data": {
      "text/plain": [
       "['желтый', 'зеленый', 'голубой']"
      ]
     },
     "execution_count": 51,
     "metadata": {},
     "output_type": "execute_result"
    }
   ],
   "source": [
    "colors[-5:-2]"
   ]
  },
  {
   "cell_type": "code",
   "execution_count": 53,
   "id": "ade37307-3526-4a44-975e-ef6fe83676b8",
   "metadata": {},
   "outputs": [
    {
     "data": {
      "text/plain": [
       "['желтый', 'зеленый', 'голубой', 'синий', 'фиолетовый']"
      ]
     },
     "execution_count": 53,
     "metadata": {},
     "output_type": "execute_result"
    }
   ],
   "source": [
    "#Границы срезов\n",
    "colors[2:] #идти до конца списка"
   ]
  },
  {
   "cell_type": "code",
   "execution_count": 57,
   "id": "b5a77152-bfcb-417c-b6a3-6a943ee50a0a",
   "metadata": {},
   "outputs": [
    {
     "data": {
      "text/plain": [
       "['красный', 'оранжевый', 'желтый', 'зеленый']"
      ]
     },
     "execution_count": 57,
     "metadata": {},
     "output_type": "execute_result"
    }
   ],
   "source": [
    "colors[:4] #идти от начала до 4 элемента"
   ]
  },
  {
   "cell_type": "code",
   "execution_count": null,
   "id": "72611e16-d542-4de7-9154-1890acfa0aaa",
   "metadata": {},
   "outputs": [],
   "source": []
  }
 ],
 "metadata": {
  "kernelspec": {
   "display_name": "Python 3 (ipykernel)",
   "language": "python",
   "name": "python3"
  },
  "language_info": {
   "codemirror_mode": {
    "name": "ipython",
    "version": 3
   },
   "file_extension": ".py",
   "mimetype": "text/x-python",
   "name": "python",
   "nbconvert_exporter": "python",
   "pygments_lexer": "ipython3",
   "version": "3.10.9"
  }
 },
 "nbformat": 4,
 "nbformat_minor": 5
}
