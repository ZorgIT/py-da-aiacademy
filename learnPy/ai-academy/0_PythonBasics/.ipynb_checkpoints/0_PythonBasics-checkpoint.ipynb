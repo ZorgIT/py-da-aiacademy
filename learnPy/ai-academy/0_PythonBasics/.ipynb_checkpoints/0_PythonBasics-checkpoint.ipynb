{
 "cells": [
  {
   "cell_type": "code",
   "execution_count": 5,
   "id": "6675b54c-b088-4449-adbe-8370411be556",
   "metadata": {},
   "outputs": [
    {
     "name": "stdout",
     "output_type": "stream",
     "text": [
      "Hello, Wordl!1\n"
     ]
    }
   ],
   "source": [
    "print(\"Hello,\" + \" Wordl!1\")"
   ]
  },
  {
   "cell_type": "code",
   "execution_count": 9,
   "id": "f36aaa6d-d1a1-4273-93f3-e1e2b700438a",
   "metadata": {},
   "outputs": [
    {
     "data": {
      "text/plain": [
       "17"
      ]
     },
     "execution_count": 9,
     "metadata": {},
     "output_type": "execute_result"
    }
   ],
   "source": [
    "a = 5\n",
    "b = 12\n",
    "c = a + b\n",
    "c"
   ]
  },
  {
   "cell_type": "code",
   "execution_count": 12,
   "id": "9608f9b8-afd5-4330-9c7b-32f950175473",
   "metadata": {},
   "outputs": [
    {
     "data": {
      "text/plain": [
       "int"
      ]
     },
     "execution_count": 12,
     "metadata": {},
     "output_type": "execute_result"
    }
   ],
   "source": [
    "students_count = 508\n",
    "int"
   ]
  },
  {
   "cell_type": "code",
   "execution_count": 16,
   "id": "e0e0fa4b-bc9e-431f-9764-c0e9e3d4ec4a",
   "metadata": {},
   "outputs": [
    {
     "data": {
      "text/plain": [
       "float"
      ]
     },
     "execution_count": 16,
     "metadata": {},
     "output_type": "execute_result"
    }
   ],
   "source": [
    "room_temp =  25.3\n",
    "float"
   ]
  },
  {
   "cell_type": "code",
   "execution_count": null,
   "id": "db20b654-124f-4124-8885-94c28762ebe6",
   "metadata": {},
   "outputs": [],
   "source": [
    "movie = \"Зеленая книга\"\n",
    "string"
   ]
  },
  {
   "cell_type": "code",
   "execution_count": 17,
   "id": "b28aec64-7357-4075-8a9c-13a3a39238d4",
   "metadata": {},
   "outputs": [
    {
     "data": {
      "text/plain": [
       "str"
      ]
     },
     "execution_count": 17,
     "metadata": {},
     "output_type": "execute_result"
    }
   ],
   "source": [
    "print(type(\"Питонисты\"))\n",
    "print(type(25))\n",
    "\n"
   ]
  },
  {
   "cell_type": "code",
   "execution_count": 25,
   "id": "25079adf-d7a0-42ce-a13b-17ea9a507c66",
   "metadata": {},
   "outputs": [
    {
     "name": "stdout",
     "output_type": "stream",
     "text": [
      "2.0\n",
      "20.0\n"
     ]
    }
   ],
   "source": [
    "\"\"\"\n",
    "Команды приведения типов данных\n",
    "\n",
    "\"\"\"\n",
    "str()\n",
    "int()\n",
    "float()\n",
    "a = float(2)\n",
    "print (a)\n",
    "\n",
    "b = float(\"20\")\n",
    "print(b)"
   ]
  },
  {
   "cell_type": "code",
   "execution_count": 27,
   "id": "8b21870b-aaf8-42f3-8066-ca3a38eae153",
   "metadata": {},
   "outputs": [
    {
     "data": {
      "text/plain": [
       "'hey!'"
      ]
     },
     "execution_count": 27,
     "metadata": {},
     "output_type": "execute_result"
    }
   ],
   "source": [
    "'hey' + '!'"
   ]
  },
  {
   "cell_type": "code",
   "execution_count": 29,
   "id": "0ae44d45-9045-4ddf-9b45-11e7b0d92447",
   "metadata": {},
   "outputs": [
    {
     "name": "stdout",
     "output_type": "stream",
     "text": [
      "dfd\n"
     ]
    }
   ],
   "source": [
    "print(\"dfd\")"
   ]
  },
  {
   "cell_type": "code",
   "execution_count": 31,
   "id": "38154307-aed8-4fff-998a-ef52fbdc8efa",
   "metadata": {},
   "outputs": [
    {
     "data": {
      "text/plain": [
       "float"
      ]
     },
     "execution_count": 31,
     "metadata": {},
     "output_type": "execute_result"
    }
   ],
   "source": [
    "type(2+3.4)"
   ]
  },
  {
   "cell_type": "code",
   "execution_count": 46,
   "id": "5d35dee5-1328-4097-bde3-55455da76549",
   "metadata": {},
   "outputs": [
    {
     "name": "stdout",
     "output_type": "stream",
     "text": [
      "texttext\n"
     ]
    }
   ],
   "source": [
    "print(\"text\" +\"text\")"
   ]
  },
  {
   "cell_type": "code",
   "execution_count": 40,
   "id": "a2a09c31-0a1d-434d-89dc-d0f90f44ab53",
   "metadata": {},
   "outputs": [
    {
     "data": {
      "text/plain": [
       "True"
      ]
     },
     "execution_count": 40,
     "metadata": {},
     "output_type": "execute_result"
    }
   ],
   "source": [
    "x = 2 \n",
    "y = 12\n",
    "z = True\n",
    "y - x > x or y <= 4 * x and x < y or z"
   ]
  },
  {
   "cell_type": "code",
   "execution_count": 44,
   "id": "600656d4-1a60-4087-a729-b84393289da7",
   "metadata": {},
   "outputs": [
    {
     "name": "stdout",
     "output_type": "stream",
     "text": [
      "Деньги удвоятся через 12 лет\n"
     ]
    }
   ],
   "source": [
    "money = 1 \n",
    "year = 0\n",
    "multiplier = 1.06\n",
    "while money<2:\n",
    "    money = money*multiplier\n",
    "    year = year+1\n",
    "else:\n",
    "    print(\"Деньги удвоятся через\", year, \"лет\")"
   ]
  },
  {
   "cell_type": "code",
   "execution_count": 45,
   "id": "68fb5bd4-77e2-420b-9178-66af4635133b",
   "metadata": {},
   "outputs": [
    {
     "name": "stdout",
     "output_type": "stream",
     "text": [
      "6\n"
     ]
    }
   ],
   "source": [
    "a = 3\n",
    "b = 2\n",
    "while a < 10 :\n",
    "    a = a+2\n",
    "    b = b+1\n",
    "print(b)\n"
   ]
  },
  {
   "cell_type": "code",
   "execution_count": 2,
   "id": "28140583-4b74-4bed-a278-eb5540160c81",
   "metadata": {},
   "outputs": [
    {
     "name": "stdout",
     "output_type": "stream",
     "text": [
      "10\n"
     ]
    }
   ],
   "source": [
    "b = 0\n",
    "for i in range(5):\n",
    "    b = b+i\n",
    "print(b)\n"
   ]
  },
  {
   "cell_type": "code",
   "execution_count": 4,
   "id": "b180f9be-a335-4fda-9dfa-82f2a58f7ed6",
   "metadata": {},
   "outputs": [
    {
     "name": "stdout",
     "output_type": "stream",
     "text": [
      "2013 год невисокосный\n",
      "2014 год невисокосный\n",
      "2015 год невисокосный\n",
      "2016 год високосный\n",
      "2017 год невисокосный\n",
      "2018 год невисокосный\n",
      "2019 год невисокосный\n",
      "2020 год високосный\n"
     ]
    }
   ],
   "source": [
    "year_1 = 2013\n",
    "year_2 = 2020\n",
    "for i in range(year_1,year_2+1):\n",
    "  if (i%4==0 and i%100!=0) or (i%400==0):\n",
    "    print(i,\"год високосный\")\n",
    "  else:\n",
    "    print(i,\"год невисокосный\")"
   ]
  },
  {
   "cell_type": "code",
   "execution_count": 6,
   "id": "2f263a46-b4f6-4055-9b5b-4ecb0175191f",
   "metadata": {},
   "outputs": [
    {
     "data": {
      "text/plain": [
       "4"
      ]
     },
     "execution_count": 6,
     "metadata": {},
     "output_type": "execute_result"
    }
   ],
   "source": [
    "len(\"test\")"
   ]
  },
  {
   "cell_type": "code",
   "execution_count": 15,
   "id": "b6a24fec-e4b1-4ca8-b7f8-fb50c2cc06e2",
   "metadata": {},
   "outputs": [
    {
     "name": "stdout",
     "output_type": "stream",
     "text": [
      "Б!!е!!з!!п!!е!!р!!с!!п!!е!!к!!т!!и!!в!!н!!ы!!й!! !!б!!е!!з!!п!!е!!р!!с!!п!!и!!к!!т!!и!!в!!н!!я!!к!!"
     ]
    }
   ],
   "source": [
    "string = \"Безперспективный безперспиктивняк\"\n",
    "for letter in string:\n",
    "    print(letter, end='!!')"
   ]
  },
  {
   "cell_type": "code",
   "execution_count": 21,
   "id": "c648df97-2197-4b6f-96c5-67e607412829",
   "metadata": {},
   "outputs": [
    {
     "name": "stdout",
     "output_type": "stream",
     "text": [
      "Б\n",
      "я\n"
     ]
    }
   ],
   "source": [
    "print(string[0]) #обращение к символу по индексу\n",
    "print(string[-1]) #допустим отрицательный индекс - "
   ]
  }
 ],
 "metadata": {
  "kernelspec": {
   "display_name": "Python 3 (ipykernel)",
   "language": "python",
   "name": "python3"
  },
  "language_info": {
   "codemirror_mode": {
    "name": "ipython",
    "version": 3
   },
   "file_extension": ".py",
   "mimetype": "text/x-python",
   "name": "python",
   "nbconvert_exporter": "python",
   "pygments_lexer": "ipython3",
   "version": "3.12.4"
  }
 },
 "nbformat": 4,
 "nbformat_minor": 5
}
