{
 "cells": [
  {
   "cell_type": "code",
   "execution_count": 5,
   "id": "e9dbc159-1740-4331-833f-d53a1bc1f861",
   "metadata": {},
   "outputs": [],
   "source": [
    "#Определение функции\n",
    "def my_square(x):\n",
    "    s = x**2\n",
    "    return s\n",
    "\n",
    "print(my_square(5))"
   ]
  },
  {
   "cell_type": "code",
   "execution_count": 19,
   "id": "690c3620-4b56-4656-9a3d-26ea1014f15a",
   "metadata": {},
   "outputs": [
    {
     "data": {
      "text/plain": [
       "86.83333333333333"
      ]
     },
     "execution_count": 19,
     "metadata": {},
     "output_type": "execute_result"
    }
   ],
   "source": [
    "def my_avg(x):\n",
    "    sum = 0\n",
    "    for i in x:\n",
    "        sum += i\n",
    "    return sum/len(x)\n",
    "    \n",
    "a = [25, 56,37,98,200,105]\n",
    "my_avg(a)"
   ]
  },
  {
   "cell_type": "code",
   "execution_count": 29,
   "id": "ac2eb6e9-6884-4401-a72b-646a02670826",
   "metadata": {},
   "outputs": [
    {
     "name": "stdout",
     "output_type": "stream",
     "text": [
      "3060\n"
     ]
    }
   ],
   "source": [
    "\"\"\"\n",
    "напиши программу, которая содержит специальную функцию, рассчитывающую прибыль\n",
    "напиши функцию business, которая принимает на вход количество проданных шипучек, а результат её работы — полученная прибыль. Стоимость одной шипучки — 18 монет.\n",
    "\"\"\"\n",
    "def business(x):\n",
    "    summary = x*18\n",
    "    return summary\n",
    "print(business(170))"
   ]
  },
  {
   "cell_type": "code",
   "execution_count": 35,
   "id": "61ab08fc-ca48-4be7-83f0-17f4f6adaa85",
   "metadata": {},
   "outputs": [
    {
     "name": "stdout",
     "output_type": "stream",
     "text": [
      "3.0\n"
     ]
    }
   ],
   "source": [
    "\"\"\"\n",
    "Построй функцию get_average, которая принимает на вход список чисел и возвращает среднее арифметическое. Например, для списка [5, 2, 1, 3, 4] функция должна вернуть 3.\n",
    "\"\"\"\n",
    "def get_average(x):\n",
    "    sum = 0\n",
    "    for i in x:\n",
    "        sum += i\n",
    "    return sum/len(x)\n",
    "\n",
    "a=[5,2,1,3,4]\n",
    "print(get_average(a))"
   ]
  },
  {
   "cell_type": "code",
   "execution_count": 37,
   "id": "ac7429f3-6a11-4e9b-9f83-76bca573a3c0",
   "metadata": {},
   "outputs": [
    {
     "name": "stdout",
     "output_type": "stream",
     "text": [
      "Hello\n"
     ]
    }
   ],
   "source": [
    "#Функции как объект\n",
    "def say_hello():\n",
    "    print(\"Hello\")\n",
    "    \n",
    "greetings = say_hello\n",
    "\n",
    "greetings()"
   ]
  },
  {
   "cell_type": "code",
   "execution_count": 45,
   "id": "8dd30ede-d4b8-4288-9706-d715991dc2eb",
   "metadata": {},
   "outputs": [
    {
     "data": {
      "text/plain": [
       "['Mr, Boris', 'Mr, Ivan', 'Mr, Bob']"
      ]
     },
     "execution_count": 45,
     "metadata": {},
     "output_type": "execute_result"
    }
   ],
   "source": [
    "#Функция map  - применение некоторой фукнкции к списку\n",
    "def polite_name(name):\n",
    "    return 'Mr, ' + name\n",
    "\n",
    "guests = [\"Boris\", \"Ivan\", \"Bob\"]\n",
    "guests_iterator = map(polite_name, guests)\n",
    "list(guests_iterator)"
   ]
  },
  {
   "cell_type": "code",
   "execution_count": 49,
   "id": "92bc827b-3624-4639-ab40-2848de9e0847",
   "metadata": {},
   "outputs": [
    {
     "data": {
      "text/plain": [
       "3"
      ]
     },
     "execution_count": 49,
     "metadata": {},
     "output_type": "execute_result"
    }
   ],
   "source": [
    "#анонимные фукции (Лямбда) могут содержать лишь одно выражение и не обязательно должны иметь имя\n",
    "func = lambda x,y:x+y\n",
    "\n",
    "func(1,2)"
   ]
  },
  {
   "cell_type": "code",
   "execution_count": 57,
   "id": "e70b39aa-4b72-4259-98b1-07af0a966c74",
   "metadata": {},
   "outputs": [
    {
     "data": {
      "text/plain": [
       "['Mr. Boris', 'Mr. Ivan', 'Mr. Bob']"
      ]
     },
     "execution_count": 57,
     "metadata": {},
     "output_type": "execute_result"
    }
   ],
   "source": [
    "#Лямбда + map\n",
    "guests = [\"Boris\", \"Ivan\", \"Bob\"]\n",
    "list(map(lambda name:\"Mr. \" + name, guests))"
   ]
  },
  {
   "cell_type": "code",
   "execution_count": 59,
   "id": "b3a0b2c1-14aa-4b8e-b32e-418b670a89d4",
   "metadata": {},
   "outputs": [
    {
     "data": {
      "text/plain": [
       "73"
      ]
     },
     "execution_count": 59,
     "metadata": {},
     "output_type": "execute_result"
    }
   ],
   "source": [
    "list(map(abs, [10,  -1, 42, -73]))[3]"
   ]
  },
  {
   "cell_type": "code",
   "execution_count": 67,
   "id": "257da8f7-b4f9-42b7-ad31-29f3f1254ffc",
   "metadata": {},
   "outputs": [
    {
     "name": "stdout",
     "output_type": "stream",
     "text": [
      "[3, 3, 4, 2, 3]\n"
     ]
    }
   ],
   "source": [
    "  word_sizes = list(map(len, [\"all\", \"you\", \"need\", \"is\", \"map\"]))\n",
    "print(word_sizes)"
   ]
  },
  {
   "cell_type": "code",
   "execution_count": 109,
   "id": "ffb09395-386a-4ce5-ba6c-44d2e4504ff4",
   "metadata": {},
   "outputs": [
    {
     "name": "stdout",
     "output_type": "stream",
     "text": [
      "Nif-NifNaf-Naf\n",
      "Nif-NifNaf-Naf\n"
     ]
    }
   ],
   "source": [
    "###################Локальные и глобальные переменные\n",
    "piglet_2 = \"Nif-Nif\"\n",
    "\n",
    "def building_piglet():\n",
    "    piglet = \"Naf-Naf\"\n",
    "    global piglet_2\n",
    "    piglet_2 = piglet_2 + piglet\n",
    "    print(piglet_2)\n",
    "\n",
    "building_piglet()\n",
    "\n",
    "print(piglet_2)\n"
   ]
  },
  {
   "cell_type": "code",
   "execution_count": 115,
   "id": "b3d229a7-29a3-4662-94af-17a76ba0da88",
   "metadata": {},
   "outputs": [
    {
     "name": "stdout",
     "output_type": "stream",
     "text": [
      "3.0\n"
     ]
    }
   ],
   "source": [
    "std = 42\n",
    "\n",
    "def normalize(value, std):\n",
    "    result = value/std\n",
    "    return result \n",
    "    \n",
    "print(normalize(21, 7))"
   ]
  },
  {
   "cell_type": "code",
   "execution_count": 117,
   "id": "84b896bc-a920-4ba0-8814-bb43ee9f0c5f",
   "metadata": {},
   "outputs": [
    {
     "name": "stdout",
     "output_type": "stream",
     "text": [
      "8\n"
     ]
    }
   ],
   "source": [
    "rabbits = 0\n",
    "\n",
    "def count_rabbits(spotted):\n",
    "    global rabbits\n",
    "    rabbits += spotted\n",
    "\n",
    "    \n",
    "count_rabbits(3)\n",
    "count_rabbits(5)\n",
    "print(rabbits)"
   ]
  },
  {
   "cell_type": "code",
   "execution_count": 122,
   "id": "83b490ea-d635-4047-8524-d4024f19f766",
   "metadata": {},
   "outputs": [
    {
     "name": "stdout",
     "output_type": "stream",
     "text": [
      "Доброе утро! Успехов тебе сегодня! В новый день с новыми силами!\n"
     ]
    }
   ],
   "source": [
    "greeting = \"Доброе утро! Успехов тебе сегодня!\"\n",
    "\n",
    "def mailing():\n",
    "    global greeting\n",
    "    greeting = greeting + \" В новый день с новыми силами!\"\n",
    "    print(greeting)\n",
    "\n",
    "mailing() "
   ]
  },
  {
   "cell_type": "code",
   "execution_count": null,
   "id": "4db4c4e0-adba-47f3-b353-876aa8de9608",
   "metadata": {},
   "outputs": [],
   "source": []
  }
 ],
 "metadata": {
  "kernelspec": {
   "display_name": "Python 3 (ipykernel)",
   "language": "python",
   "name": "python3"
  },
  "language_info": {
   "codemirror_mode": {
    "name": "ipython",
    "version": 3
   },
   "file_extension": ".py",
   "mimetype": "text/x-python",
   "name": "python",
   "nbconvert_exporter": "python",
   "pygments_lexer": "ipython3",
   "version": "3.10.9"
  }
 },
 "nbformat": 4,
 "nbformat_minor": 5
}
