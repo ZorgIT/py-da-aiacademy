{
 "cells": [
  {
   "cell_type": "code",
   "execution_count": 1,
   "id": "89f99b5f-2cdb-493b-92e6-b7aa359af420",
   "metadata": {},
   "outputs": [
    {
     "data": {
      "text/plain": [
       "'\\nИнкапсуляция - это когда мы прячем от посторонних глаз то, каким образом работает наша программа, скрываем детали реализации.\\nНаследование — это возможность создания нового класса на основе уже существующего.\\n\\n'"
      ]
     },
     "execution_count": 1,
     "metadata": {},
     "output_type": "execute_result"
    }
   ],
   "source": [
    "\"\"\"\n",
    "Инкапсуляция - это когда мы прячем от посторонних глаз то, каким образом работает наша программа, скрываем детали реализации.\n",
    "Наследование — это возможность создания нового класса на основе уже существующего.\n",
    "Полиморфизм позволяет одинаково обращаться с объектами, имеющими однотипный интерфейс, независимо от внутренней реализации объекта. \n",
    "\"\"\""
   ]
  },
  {
   "cell_type": "code",
   "execution_count": 5,
   "id": "a4e12dea-476e-4732-9c60-d1fb58fa4a3e",
   "metadata": {},
   "outputs": [],
   "source": [
    "#Создание класса и объекта\n",
    "class C: #состоит из обявления и имени\n",
    "    pass #тело\n",
    "\n",
    "my_object = C #создать объект класса С"
   ]
  },
  {
   "cell_type": "code",
   "execution_count": 31,
   "id": "1181fbd1-599f-4806-a687-c153034159a6",
   "metadata": {},
   "outputs": [
    {
     "name": "stdout",
     "output_type": "stream",
     "text": [
      "Зеленый\n"
     ]
    }
   ],
   "source": [
    "#Класс  может содержать стадический или динамический аттрибут\n",
    "class Rectangle():\n",
    "    default_color = \"green\"\n",
    "    \n",
    "    def __init__(self,width,height): #СПОСОБ ОБЪЯВЛЕНИЯ ПО УМОЛЧАНИЮ С ДВУМЯ НИЖНИМИ _ _init_ _\n",
    "        self.width = width #динамический атрибут - доступ не возможет без объекта класса\n",
    "        self.height = height #динамический атрибут - доступ не возможет без объекта класса\n",
    "        \n",
    "Rectangle.default_color #обратиться к статическому атрибуту\n",
    "rect = Rectangle(10,20)\n",
    "Rectangle.default_color = \"Зеленый\" #напрямую работать с атрибутами плохая практика\n",
    "rect.width\n",
    "print(rect.default_color)"
   ]
  },
  {
   "cell_type": "code",
   "execution_count": 33,
   "id": "59f1073a-e3b3-497d-86dc-a1d4e53336b4",
   "metadata": {},
   "outputs": [
    {
     "name": "stdout",
     "output_type": "stream",
     "text": [
      "method\n"
     ]
    }
   ],
   "source": [
    "############## методы класса\n",
    "#Класс  может содержать стадический или динамический аттрибут\n",
    "class Rectangle():\n",
    "    default_color = \"green\"\n",
    "    \n",
    "    def __init__(self,width,height):\n",
    "        self.width = width \n",
    "        self.height = height \n",
    "        \n",
    "    def ex_method(self):\n",
    "        print(\"method\")\n",
    "        \n",
    "m = Rectangle(10,10)\n",
    "m.ex_method()"
   ]
  },
  {
   "cell_type": "code",
   "execution_count": 36,
   "id": "0935bd42-0044-4bcd-9ce1-71511a9716c1",
   "metadata": {},
   "outputs": [
    {
     "name": "stdout",
     "output_type": "stream",
     "text": [
      "hello from init\n"
     ]
    }
   ],
   "source": [
    "#Создание экземпляра класса\n",
    "#__new__ #конструктор класса \n",
    "#__init__ #инициализация класса \n",
    "\n",
    "class Rectangle():\n",
    "    def __init__(self,width,height):\n",
    "        print(\"hello from init\")\n",
    "        self.width = width ## self  - ссылка на текущий экземпляр класса\n",
    "        self.height = height\n",
    "\n",
    "rect = Rectangle(10,15)"
   ]
  },
  {
   "cell_type": "code",
   "execution_count": 68,
   "id": "d754e1fd-b62d-436e-b994-21473b251859",
   "metadata": {},
   "outputs": [
    {
     "data": {
      "text/plain": [
       "10"
      ]
     },
     "execution_count": 68,
     "metadata": {},
     "output_type": "execute_result"
    }
   ],
   "source": [
    "##Инкапсуляция\n",
    "class Rectangle():\n",
    "    def __init__(self, width, height):\n",
    "        self._width=width\n",
    "        self._height=height\n",
    "        \n",
    "    def get_width(self):\n",
    "        return self.__width\n",
    "    def set_width(self, w):\n",
    "        self._width = w\n",
    "        \n",
    "    def get_height(self):\n",
    "        return self._height\n",
    "    def set_height(self, h):\n",
    "        self._height = h\n",
    "        \n",
    "rect = Rectangle(10, 20)\n",
    "rect._width\n",
    "\n",
    "#Обратиться к аттрибуту с двумя подчеркиваниями НЕЛЬЗЯ - получим ошибку"
   ]
  },
  {
   "cell_type": "code",
   "execution_count": 66,
   "id": "9c9d03bc-31b4-4d5e-88b9-868d78734649",
   "metadata": {},
   "outputs": [],
   "source": [
    "##Свойства\n",
    "class Rectangle():\n",
    "    def __init__(self, width, height):\n",
    "        self.__width=width\n",
    "        self.__height=height\n",
    "        \n",
    "    @property #декоратор property\n",
    "    def width(self):\n",
    "        return self.__width\n",
    "    @width.setter\n",
    "    def width(self, w):\n",
    "        if w>0:\n",
    "            self.__width = w\n",
    "        else:\n",
    "            raise ValueError\n",
    "    \n",
    "    @property #декоратор property    \n",
    "    def height(self):\n",
    "        return self.__height\n",
    "    @height.setter\n",
    "    def height(self, h):\n",
    "        if h>0:\n",
    "            self.__height = h\n",
    "        else:\n",
    "            raise ValueError\n",
    "       \n",
    "rect = Rectangle(10, 20)\n",
    "rect.height = 6\n",
    "\n",
    "#Обратиться к аттрибуту с двумя подчеркиваниями НЕЛЬЗЯ - получим ошибку"
   ]
  },
  {
   "cell_type": "code",
   "execution_count": 102,
   "id": "ecd1111e-bae0-42c5-a93c-45ef342debcf",
   "metadata": {},
   "outputs": [
    {
     "name": "stdout",
     "output_type": "stream",
     "text": [
      "20 height; 10 width; green color;\n"
     ]
    }
   ],
   "source": [
    "#Наследование\n",
    "class Figure:\n",
    "    def __init__(self, color):\n",
    "        self.__color = color\n",
    "    \n",
    "    @property\n",
    "    def color(self):\n",
    "        return self.__color\n",
    "    \n",
    "    @color.setter\n",
    "    def color(self, c):\n",
    "        self.__color = c\n",
    "        \n",
    "    @property\n",
    "    def color(self):\n",
    "        return self.__color\n",
    "    \n",
    "    @color.setter\n",
    "    def color(self, c):\n",
    "        self.__color = c\n",
    "        \n",
    "\n",
    "class Rectangle(Figure):\n",
    "    def __init__(self, width, height,color):\n",
    "        super().__init__(color) #вызов конструктора родительского класса\n",
    "        self.__width = width\n",
    "        self.__height = height\n",
    "        \n",
    "    @property #декоратор property\n",
    "    def width(self):\n",
    "        return self.__width\n",
    "    \n",
    "    @width.setter\n",
    "    def width(self, w):\n",
    "        if w>0:\n",
    "            self.__width = w\n",
    "        else:\n",
    "            raise ValueError\n",
    "    \n",
    "    @property #декоратор property    \n",
    "    def height(self):\n",
    "        return self.__height\n",
    "    @height.setter\n",
    "    def height(self, h):\n",
    "        if h>0:\n",
    "            self.__height = h\n",
    "        else:\n",
    "            raise ValueError\n",
    "            \n",
    "            \n",
    "rect = Rectangle(10, 20,\"green\")\n",
    "print(str(rect.height) + \" height; \" + str(rect.width) + \" width; \" + rect.color + \" color;\")"
   ]
  },
  {
   "cell_type": "code",
   "execution_count": 114,
   "id": "f3d68755-0b8a-4879-85bb-0b31c90c06d1",
   "metadata": {},
   "outputs": [
    {
     "name": "stdout",
     "output_type": "stream",
     "text": [
      "Figure\n",
      "Color: Green\n",
      "Rectangle\n",
      "Color:  green\n",
      "Width:  10\n",
      "Height:  20\n"
     ]
    }
   ],
   "source": [
    "#Полиморфизм\n",
    "class Figure:\n",
    "    def __init__(self, color):\n",
    "        self.__color = color\n",
    "    \n",
    "    @property\n",
    "    def color(self):\n",
    "        return self.__color\n",
    "    \n",
    "    @color.setter\n",
    "    def color(self, c):\n",
    "        self.__color = c\n",
    "        \n",
    "    @property\n",
    "    def color(self):\n",
    "        return self.__color\n",
    "    \n",
    "    @color.setter\n",
    "    def color(self, c):\n",
    "        self.__color = c\n",
    "        \n",
    "    def info(self): #Пример объявления \n",
    "        print(\"Figure\")\n",
    "        print(\"Color: \" + self.color)\n",
    "        \n",
    "\n",
    "class Rectangle(Figure):\n",
    "    def __init__(self, width, height,color):\n",
    "        super().__init__(color) #вызов конструктора родительского класса\n",
    "        self.__width = width\n",
    "        self.__height = height\n",
    "        \n",
    "    @property #декоратор property\n",
    "    def width(self):\n",
    "        return self.__width\n",
    "    \n",
    "    @width.setter\n",
    "    def width(self, w):\n",
    "        if w>0:\n",
    "            self.__width = w\n",
    "        else:\n",
    "            raise ValueError\n",
    "    \n",
    "    @property #декоратор property    \n",
    "    def height(self):\n",
    "        return self.__height\n",
    "    @height.setter\n",
    "    def height(self, h):\n",
    "        if h>0:\n",
    "            self.__height = h\n",
    "        else:\n",
    "            raise ValueError\n",
    "            \n",
    "    def info(self): #Пример оПЕРЕОПРЕДЕЛЕНИЯ\n",
    "        print(\"Rectangle\")\n",
    "        print(\"Color: \", self.color)\n",
    "        print(\"Width: \" , self.width)\n",
    "        print(\"Height: \", self.height)\n",
    "            \n",
    "fig = Figure(\"Green\")\n",
    "fig.info()\n",
    "            \n",
    "rect = Rectangle(10, 20,\"green\")\n",
    "rect.info()"
   ]
  },
  {
   "cell_type": "code",
   "execution_count": 126,
   "id": "0c8481e7-2344-49cb-ae96-3ecd2d1393d1",
   "metadata": {},
   "outputs": [],
   "source": [
    "#импортирование модуля в питон\n",
    "import math as m, pandas as pd #as pd - псевдоним"
   ]
  },
  {
   "cell_type": "code",
   "execution_count": 128,
   "id": "f9464da8-2591-4cab-9d9b-4af7cd26aebb",
   "metadata": {},
   "outputs": [
    {
     "data": {
      "text/plain": [
       "1.2246467991473532e-16"
      ]
     },
     "execution_count": 128,
     "metadata": {},
     "output_type": "execute_result"
    }
   ],
   "source": [
    "#импорт отдельных функций\n",
    "from math import sin, cos, pi\n",
    "sin(pi)"
   ]
  },
  {
   "cell_type": "code",
   "execution_count": null,
   "id": "299fe94d-7e53-4855-ba39-2a49c144164e",
   "metadata": {},
   "outputs": [],
   "source": []
  }
 ],
 "metadata": {
  "kernelspec": {
   "display_name": "Python 3 (ipykernel)",
   "language": "python",
   "name": "python3"
  },
  "language_info": {
   "codemirror_mode": {
    "name": "ipython",
    "version": 3
   },
   "file_extension": ".py",
   "mimetype": "text/x-python",
   "name": "python",
   "nbconvert_exporter": "python",
   "pygments_lexer": "ipython3",
   "version": "3.10.9"
  }
 },
 "nbformat": 4,
 "nbformat_minor": 5
}
