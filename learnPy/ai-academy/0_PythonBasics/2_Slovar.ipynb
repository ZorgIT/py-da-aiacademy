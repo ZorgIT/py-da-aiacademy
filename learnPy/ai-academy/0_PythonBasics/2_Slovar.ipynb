{
 "cells": [
  {
   "cell_type": "code",
   "execution_count": 13,
   "id": "849f89d9-619e-47b8-a1da-285241383567",
   "metadata": {},
   "outputs": [
    {
     "name": "stdout",
     "output_type": "stream",
     "text": [
      "+787987987987\n"
     ]
    }
   ],
   "source": [
    "#Словари (ключ:значение,ключ:значение)\n",
    "friend_base = {'Киану Ривз':\"+787987987987\",'Джим керри':\"65465465478\"}\n",
    "print(friend_base['Киану Ривз'])"
   ]
  },
  {
   "cell_type": "code",
   "execution_count": 37,
   "id": "b2403153-6de3-46d2-844e-cd0c8140715e",
   "metadata": {},
   "outputs": [
    {
     "name": "stdout",
     "output_type": "stream",
     "text": [
      "Киану Ривз\n",
      "Джим керри\n",
      "dfsfsdf\n",
      "Бред Питт\n"
     ]
    }
   ],
   "source": [
    "#Перебор элемнетов словаря\" по ключам, по значениям, по ключам и значениям одновременно\n",
    "friend_base = {'Киану Ривз':\"Москва\",'Джим керри':\"Мурманск\",'dfsfsdf':\"Новгород\",'Бред Питт':\"Мурманск\"}\n",
    "#Перебор по ключам\n",
    "for friend in friend_base:\n",
    "    print(friend)"
   ]
  },
  {
   "cell_type": "code",
   "execution_count": 29,
   "id": "6c8c41df-4760-4e72-b110-7f5fab9d8df1",
   "metadata": {},
   "outputs": [
    {
     "name": "stdout",
     "output_type": "stream",
     "text": [
      "Киану Ривз\n",
      "Джим керри\n",
      "dfsfsdf\n",
      "вавава\n"
     ]
    }
   ],
   "source": [
    "for friend in friend_base.keys():\n",
    "    print(friend)"
   ]
  },
  {
   "cell_type": "code",
   "execution_count": 31,
   "id": "eeba303d-eb37-43df-bd43-f98d91e58361",
   "metadata": {},
   "outputs": [
    {
     "name": "stdout",
     "output_type": "stream",
     "text": [
      "Москва\n",
      "Мурманск\n",
      "Новгород\n",
      "Мурманск\n"
     ]
    }
   ],
   "source": [
    "for friend in friend_base.keys():\n",
    "    print(friend_base[friend])"
   ]
  },
  {
   "cell_type": "code",
   "execution_count": 39,
   "id": "4e69fa09-fd55-495c-941b-61a0c3ffe038",
   "metadata": {},
   "outputs": [
    {
     "name": "stdout",
     "output_type": "stream",
     "text": [
      "Джим керри\n",
      "Бред Питт\n"
     ]
    }
   ],
   "source": [
    "for friend in friend_base.keys():\n",
    "    if (friend_base[friend] ==\"Мурманск\"):\n",
    "        print(friend)"
   ]
  },
  {
   "cell_type": "code",
   "execution_count": 47,
   "id": "580abae9-de32-4c9a-b7cf-f04be43c3364",
   "metadata": {},
   "outputs": [
    {
     "name": "stdout",
     "output_type": "stream",
     "text": [
      "Москва\n",
      "Мурманск\n",
      "Новгород\n",
      "Мурманск\n"
     ]
    }
   ],
   "source": [
    "#Перебор элемнетов словаря\" по зачениям\n",
    "friend_base = {'Киану Ривз':\"Москва\",'Джим керри':\"Мурманск\",'dfsfsdf':\"Новгород\",'Бред Питт':\"Мурманск\"}\n",
    "#Перебор по значениям\n",
    "for location in friend_base.values():\n",
    "    print(location)"
   ]
  },
  {
   "cell_type": "code",
   "execution_count": 55,
   "id": "50496feb-47d0-4a0b-9a9f-8fc9a5746b63",
   "metadata": {},
   "outputs": [
    {
     "name": "stdout",
     "output_type": "stream",
     "text": [
      "Джим керри Мурманск\n",
      "Бред Питт Мурманск\n"
     ]
    }
   ],
   "source": [
    "#Перебор элемнетов словаря\" по зачениям и ключам\n",
    "friend_base = {'Киану Ривз':\"Москва\",'Джим керри':\"Мурманск\",'dfsfsdf':\"Новгород\",'Бред Питт':\"Мурманск\"}\n",
    "#Перебор по значениям\n",
    "for friend, location in friend_base.items ():\n",
    "    if location == \"Мурманск\": print(friend, location)"
   ]
  },
  {
   "cell_type": "code",
   "execution_count": 74,
   "id": "0f083c87-555e-459f-bd84-61ae6f760541",
   "metadata": {},
   "outputs": [
    {
     "name": "stdout",
     "output_type": "stream",
     "text": [
      "{'Россия': 'A', 'Египет': 'A'}\n"
     ]
    }
   ],
   "source": [
    "draw_dict = {\n",
    "    'Россия': 'A',\n",
    "    'Португалия': 'B',\n",
    "    'Франция': 'C',\n",
    "    'Дания': 'C',\n",
    "    'Египет': 'A'\n",
    "}\n",
    "draw_new={}\n",
    "for country, group in draw_dict.items():\n",
    "    if group ==\"A\":\n",
    "      draw_new.update({country:group})\n",
    "print(draw_new)"
   ]
  },
  {
   "cell_type": "code",
   "execution_count": 76,
   "id": "c40b400d-4843-4a35-9cf7-e81839b9d513",
   "metadata": {},
   "outputs": [
    {
     "name": "stdout",
     "output_type": "stream",
     "text": [
      "590\n"
     ]
    }
   ],
   "source": [
    "my_list = [1, 10, 45, 31, 12, 54, 111, 398, 97, 63]\n",
    "my_list.sort(reverse = True)\n",
    "new_list = my_list[::2]\n",
    "result = 0\n",
    "for number in new_list:\n",
    "    result += number\n",
    "print(result)"
   ]
  },
  {
   "cell_type": "code",
   "execution_count": null,
   "id": "60128e89-0403-448f-b3ed-aa1abc2b874b",
   "metadata": {},
   "outputs": [],
   "source": []
  }
 ],
 "metadata": {
  "kernelspec": {
   "display_name": "Python 3 (ipykernel)",
   "language": "python",
   "name": "python3"
  },
  "language_info": {
   "codemirror_mode": {
    "name": "ipython",
    "version": 3
   },
   "file_extension": ".py",
   "mimetype": "text/x-python",
   "name": "python",
   "nbconvert_exporter": "python",
   "pygments_lexer": "ipython3",
   "version": "3.10.9"
  }
 },
 "nbformat": 4,
 "nbformat_minor": 5
}
