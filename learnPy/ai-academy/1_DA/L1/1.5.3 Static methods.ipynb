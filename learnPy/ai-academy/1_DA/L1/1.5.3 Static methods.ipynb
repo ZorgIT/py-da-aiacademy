{
 "cells": [
  {
   "cell_type": "markdown",
   "id": "efb0d604-4f24-441a-a2db-f5dbf8960df0",
   "metadata": {},
   "source": [
    "Если один из методов выше применить ко всему DataFrame, то в результате получим объект типа Series. Применяя метод к отдельному столбцу, в результате получим число — значение параметра (среднее значение элементов столбца, минимум, максимум и т.п.).\n",
    "В каждый метод можно передать некоторые параметры, среди которых:\n",
    "\n",
    "axis — позволяет подсчитывать максимум по строкам (1), по столбцам (0) или по умолчанию (0);\n",
    "numeric_only — дает возможность вычислять параметры только по числовым столбцам/строкам или нет (True/False). Если передать False в методы .mean() или .std(), компилятор выдаст ошибку.\n"
   ]
  },
  {
   "cell_type": "code",
   "execution_count": 2,
   "id": "9d5fc8ed-8273-44a2-80cd-54e6bc76dbef",
   "metadata": {},
   "outputs": [
    {
     "ename": "ModuleNotFoundError",
     "evalue": "No module named 'pandas'",
     "output_type": "error",
     "traceback": [
      "\u001b[1;31m---------------------------------------------------------------------------\u001b[0m",
      "\u001b[1;31mModuleNotFoundError\u001b[0m                       Traceback (most recent call last)",
      "Cell \u001b[1;32mIn[2], line 1\u001b[0m\n\u001b[1;32m----> 1\u001b[0m \u001b[38;5;28;01mimport\u001b[39;00m \u001b[38;5;21;01mpandas\u001b[39;00m \u001b[38;5;28;01mas\u001b[39;00m \u001b[38;5;21;01mpd\u001b[39;00m\n\u001b[0;32m      3\u001b[0m football \u001b[38;5;241m=\u001b[39m pd\u001b[38;5;241m.\u001b[39mread_csv(\u001b[38;5;124m\"\u001b[39m\u001b[38;5;124mfootball.csv\u001b[39m\u001b[38;5;124m\"\u001b[39m)\n\u001b[0;32m      4\u001b[0m display(football\u001b[38;5;241m.\u001b[39mdescribe())\n",
      "\u001b[1;31mModuleNotFoundError\u001b[0m: No module named 'pandas'"
     ]
    }
   ],
   "source": [
    "import pandas as pd\n",
    "\n",
    "football = pd.read_csv(\"football.csv\")\n",
    "display(football.describe())"
   ]
  },
  {
   "cell_type": "code",
   "execution_count": 40,
   "id": "336e2eb6-3beb-4c77-ae24-eadcbbfe1561",
   "metadata": {},
   "outputs": [
    {
     "data": {
      "text/plain": [
       "Unnamed: 0                            0\n",
       "Name                           A. Abang\n",
       "Age                                  16\n",
       "Nationality                 Afghanistan\n",
       "Club                SSV Jahn Regensburg\n",
       "Value                                 0\n",
       "Wage                               1000\n",
       "Position                            CAM\n",
       "Crossing                              5\n",
       "Finishing                             2\n",
       "HeadingAccuracy                       4\n",
       "ShortPassing                          7\n",
       "Volleys                               4\n",
       "Dribbling                             4\n",
       "Curve                                 6\n",
       "FKAccuracy                            3\n",
       "LongPassing                           9\n",
       "BallControl                           5\n",
       "Acceleration                         12\n",
       "SprintSpeed                          12\n",
       "Agility                              15\n",
       "Reactions                            21\n",
       "Balance                              16\n",
       "ShotPower                             2\n",
       "Jumping                              15\n",
       "Stamina                              12\n",
       "Strength                             17\n",
       "LongShots                             3\n",
       "Aggression                           11\n",
       "Interceptions                         3\n",
       "Positioning                           2\n",
       "Vision                               10\n",
       "Penalties                             5\n",
       "Composure                            12\n",
       "Marking                               3\n",
       "StandingTackle                        2\n",
       "SlidingTackle                         3\n",
       "GKDiving                              1\n",
       "GKHandling                            1\n",
       "GKKicking                             1\n",
       "GKPositioning                         1\n",
       "GKReflexes                            1\n",
       "dtype: object"
      ]
     },
     "execution_count": 40,
     "metadata": {},
     "output_type": "execute_result"
    }
   ],
   "source": [
    "football.min()"
   ]
  },
  {
   "cell_type": "code",
   "execution_count": null,
   "id": "da1ba55e-6026-49c6-8adf-650e0c3a4798",
   "metadata": {},
   "outputs": [],
   "source": [
    "football.max()\n",
    "football.mean()\n",
    "football.sum()\n",
    "football.count()\n",
    "football.std()\n",
    "\n",
    "\n"
   ]
  },
  {
   "cell_type": "code",
   "execution_count": 36,
   "id": "398fb474-ab4f-4f0b-9d1b-b7a8d512e3b4",
   "metadata": {},
   "outputs": [
    {
     "data": {
      "text/plain": [
       "0        31\n",
       "1        33\n",
       "2        26\n",
       "3        27\n",
       "4        27\n",
       "         ..\n",
       "12892    19\n",
       "12893    19\n",
       "12894    16\n",
       "12895    17\n",
       "12896    16\n",
       "Name: Age, Length: 12897, dtype: int64"
      ]
     },
     "execution_count": 36,
     "metadata": {},
     "output_type": "execute_result"
    }
   ],
   "source": [
    "football.Age\n",
    "football['Age']"
   ]
  },
  {
   "cell_type": "code",
   "execution_count": 30,
   "id": "5270d2b9-a756-4579-8c32-bca9b64b6d67",
   "metadata": {},
   "outputs": [
    {
     "data": {
      "text/plain": [
       "45"
      ]
     },
     "execution_count": 30,
     "metadata": {},
     "output_type": "execute_result"
    }
   ],
   "source": [
    "football.Age.max()"
   ]
  },
  {
   "cell_type": "code",
   "execution_count": 32,
   "id": "dcf00fcd-eeb5-4a04-9460-bc3cf7ecde78",
   "metadata": {},
   "outputs": [
    {
     "data": {
      "text/plain": [
       "16"
      ]
     },
     "execution_count": 32,
     "metadata": {},
     "output_type": "execute_result"
    }
   ],
   "source": [
    "football['Age'].min()"
   ]
  },
  {
   "cell_type": "code",
   "execution_count": 42,
   "id": "10a6baa0-6102-48b2-8768-b5fe2c33ce79",
   "metadata": {},
   "outputs": [
    {
     "name": "stdout",
     "output_type": "stream",
     "text": [
      "<class 'pandas.core.frame.DataFrame'>\n",
      "RangeIndex: 12897 entries, 0 to 12896\n",
      "Data columns (total 42 columns):\n",
      " #   Column           Non-Null Count  Dtype \n",
      "---  ------           --------------  ----- \n",
      " 0   Unnamed: 0       12897 non-null  int64 \n",
      " 1   Name             12897 non-null  object\n",
      " 2   Age              12897 non-null  int64 \n",
      " 3   Nationality      12897 non-null  object\n",
      " 4   Club             12897 non-null  object\n",
      " 5   Value            12897 non-null  int64 \n",
      " 6   Wage             12897 non-null  int64 \n",
      " 7   Position         12897 non-null  object\n",
      " 8   Crossing         12897 non-null  int64 \n",
      " 9   Finishing        12897 non-null  int64 \n",
      " 10  HeadingAccuracy  12897 non-null  int64 \n",
      " 11  ShortPassing     12897 non-null  int64 \n",
      " 12  Volleys          12897 non-null  int64 \n",
      " 13  Dribbling        12897 non-null  int64 \n",
      " 14  Curve            12897 non-null  int64 \n",
      " 15  FKAccuracy       12897 non-null  int64 \n",
      " 16  LongPassing      12897 non-null  int64 \n",
      " 17  BallControl      12897 non-null  int64 \n",
      " 18  Acceleration     12897 non-null  int64 \n",
      " 19  SprintSpeed      12897 non-null  int64 \n",
      " 20  Agility          12897 non-null  int64 \n",
      " 21  Reactions        12897 non-null  int64 \n",
      " 22  Balance          12897 non-null  int64 \n",
      " 23  ShotPower        12897 non-null  int64 \n",
      " 24  Jumping          12897 non-null  int64 \n",
      " 25  Stamina          12897 non-null  int64 \n",
      " 26  Strength         12897 non-null  int64 \n",
      " 27  LongShots        12897 non-null  int64 \n",
      " 28  Aggression       12897 non-null  int64 \n",
      " 29  Interceptions    12897 non-null  int64 \n",
      " 30  Positioning      12897 non-null  int64 \n",
      " 31  Vision           12897 non-null  int64 \n",
      " 32  Penalties        12897 non-null  int64 \n",
      " 33  Composure        12897 non-null  int64 \n",
      " 34  Marking          12897 non-null  int64 \n",
      " 35  StandingTackle   12897 non-null  int64 \n",
      " 36  SlidingTackle    12897 non-null  int64 \n",
      " 37  GKDiving         12897 non-null  int64 \n",
      " 38  GKHandling       12897 non-null  int64 \n",
      " 39  GKKicking        12897 non-null  int64 \n",
      " 40  GKPositioning    12897 non-null  int64 \n",
      " 41  GKReflexes       12897 non-null  int64 \n",
      "dtypes: int64(38), object(4)\n",
      "memory usage: 4.1+ MB\n"
     ]
    },
    {
     "data": {
      "text/plain": [
       "None"
      ]
     },
     "metadata": {},
     "output_type": "display_data"
    }
   ],
   "source": [
    "display(football.info())"
   ]
  },
  {
   "cell_type": "code",
   "execution_count": 1,
   "id": "4acd100c-25b7-49a7-aab2-db5101c31a94",
   "metadata": {},
   "outputs": [],
   "source": [
    "### Задание\n",
    "Текст задания\n",
    "Запиши в переменную age среднее значение возраста футболистов (округли до целого).\n",
    "\n",
    "Запиши в переменную n, какая национальность (Nationality) встречается среди футболистов чаще всего.\n",
    "\n",
    "Выведи результаты работы кода через пробел: age, n.\n"
   ]
  },
  {
   "cell_type": "code",
   "execution_count": 11,
   "id": "c3340a08-6cff-49c0-a04e-995b0f017afc",
   "metadata": {},
   "outputs": [
    {
     "name": "stdout",
     "output_type": "stream",
     "text": [
      "28 Spain\n"
     ]
    }
   ],
   "source": [
    "import pandas as pd\n",
    "football = pd.read_csv('http://ai-academy.ru/upload/csv/football_mini.csv')\n",
    "age = round(football.Age.mean())\n",
    "n = football.describe(include=[\"object\"]).Nationality.top\n",
    "print(age, n)"
   ]
  },
  {
   "cell_type": "code",
   "execution_count": 4,
   "id": "39e83c78-be06-4289-b43b-d28b3651db02",
   "metadata": {},
   "outputs": [
    {
     "name": "stdout",
     "output_type": "stream",
     "text": [
      "565000 4000000 19596000\n"
     ]
    }
   ],
   "source": [
    "import pandas as pd\n",
    "football = pd.read_csv('http://ai-academy.ru/upload/csv/football_mini.csv')\n",
    "rich = football.Wage.max()\n",
    "low = football.Value.min()\n",
    "total = football.Wage.sum()\n",
    "print(rich,low,total)"
   ]
  },
  {
   "cell_type": "code",
   "execution_count": null,
   "id": "ceda7ea5-b4cc-4138-a912-a9fd5e090de9",
   "metadata": {},
   "outputs": [],
   "source": []
  }
 ],
 "metadata": {
  "kernelspec": {
   "display_name": "Python 3 (ipykernel)",
   "language": "python",
   "name": "python3"
  },
  "language_info": {
   "codemirror_mode": {
    "name": "ipython",
    "version": 3
   },
   "file_extension": ".py",
   "mimetype": "text/x-python",
   "name": "python",
   "nbconvert_exporter": "python",
   "pygments_lexer": "ipython3",
   "version": "3.12.4"
  }
 },
 "nbformat": 4,
 "nbformat_minor": 5
}
