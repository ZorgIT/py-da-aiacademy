{
 "cells": [
  {
   "metadata": {},
   "cell_type": "markdown",
   "source": [
    "\n",
    "В качестве набора данных будем использовать рейтинг популярных пабликов с мемами про котиков. Информация собрана в таблице ниже:\n",
    "```\n",
    "Место в рейтинге\tЧисло постов\tКоличество лайков\tКоличество репостов\n",
    "\n",
    "1\t                280\t            892\t                621\n",
    "\n",
    "2\t                254\t            742\t                763\n",
    "\n",
    "3\t                352\t            820\t                757\n",
    "\n",
    "4\t                189\t            730\t                614\n",
    "\n",
    "5\t                209\t            758\t                608\n",
    "\n",
    "6\t                312\t            652\t                545\n",
    "\n",
    "7\t                199\t            680\t                553\n",
    "\n",
    "8\t                224\t            592\t                485\n",
    "\n",
    "9\t                293\t            603\t                466\n",
    "\n",
    "10\t                187\t            507\t                423\n",
    "\n",
    "```"
   ],
   "id": "f66e24402e81aea3"
  },
  {
   "metadata": {
    "ExecuteTime": {
     "end_time": "2024-09-02T21:31:29.829226Z",
     "start_time": "2024-09-02T21:31:29.819122Z"
    }
   },
   "cell_type": "code",
   "source": [
    "import numpy as np\n",
    "rating = np.array([[1,280,892,621],\n",
    "                    [2,254,742,763],\n",
    "                    [3,352,820,757],\n",
    "                    [4,189,730,614],\n",
    "                    [5,209,758,608],\n",
    "                    [6,312,652,545],\n",
    "                    [7,199,680,553],\n",
    "                    [8,224,592,485],\n",
    "                    [9,293,603,466],\n",
    "                    [10,187,507,423]])\n",
    "\"\"\"\n",
    "Вычислить среднее арифметическое для количества репостов, то есть сумму репостов во всех пабликах разделить на число пабликов в рейтинге.\n",
    "\"\"\"\n",
    "\n",
    "mean = np.mean(rating[:,-1])\n",
    "mean"
   ],
   "id": "d90166bf67fb5b24",
   "outputs": [
    {
     "data": {
      "text/plain": [
       "np.float64(583.5)"
      ]
     },
     "execution_count": 14,
     "metadata": {},
     "output_type": "execute_result"
    }
   ],
   "execution_count": 14
  },
  {
   "metadata": {
    "ExecuteTime": {
     "end_time": "2024-09-02T21:31:29.973451Z",
     "start_time": "2024-09-02T21:31:29.965763Z"
    }
   },
   "cell_type": "code",
   "source": [
    "#Медиана если не имеет большого отклонения от среднего, значит нет больших выбросов\n",
    "median = np.median(rating[:,-1])\n",
    "median"
   ],
   "id": "7b2c9337f2742ad3",
   "outputs": [
    {
     "data": {
      "text/plain": [
       "np.float64(580.5)"
      ]
     },
     "execution_count": 15,
     "metadata": {},
     "output_type": "execute_result"
    }
   ],
   "execution_count": 15
  },
  {
   "metadata": {
    "ExecuteTime": {
     "end_time": "2024-09-02T21:31:30.120488Z",
     "start_time": "2024-09-02T21:31:30.112911Z"
    }
   },
   "cell_type": "code",
   "source": "",
   "id": "a16a27afb4b4c646",
   "outputs": [
    {
     "data": {
      "text/plain": [
       "array([[1.        , 0.38492604],\n",
       "       [0.38492604, 1.        ]])"
      ]
     },
     "execution_count": 16,
     "metadata": {},
     "output_type": "execute_result"
    }
   ],
   "execution_count": 16
  },
  {
   "metadata": {
    "ExecuteTime": {
     "end_time": "2024-09-02T21:31:30.207116Z",
     "start_time": "2024-09-02T21:31:30.200556Z"
    }
   },
   "cell_type": "code",
   "source": [
    "mean = np.mean(rating[:,1])\n",
    "mean"
   ],
   "id": "64aa1baca6d09e48",
   "outputs": [
    {
     "data": {
      "text/plain": [
       "np.float64(249.9)"
      ]
     },
     "execution_count": 17,
     "metadata": {},
     "output_type": "execute_result"
    }
   ],
   "execution_count": 17
  },
  {
   "metadata": {
    "ExecuteTime": {
     "end_time": "2024-09-02T21:31:30.405589Z",
     "start_time": "2024-09-02T21:31:30.399167Z"
    }
   },
   "cell_type": "code",
   "source": [
    "#Вычисление стандартного отклонения\n",
    "std = np.std(rating[:,1])\n",
    "std"
   ],
   "id": "c9fa8699212f32a2",
   "outputs": [
    {
     "data": {
      "text/plain": [
       "np.float64(54.46182148992081)"
      ]
     },
     "execution_count": 18,
     "metadata": {},
     "output_type": "execute_result"
    }
   ],
   "execution_count": 18
  },
  {
   "metadata": {},
   "cell_type": "markdown",
   "source": [
    "Корреляция (corrcoef) — статистическая взаимосвязь между переменными.\n",
    "Корреляция показывает степень связи между двумя явлениями, меняются переменные совместно или нет. \n",
    "Значение коэффициента корреляции показывает, насколько сильно связаны между собой переменные и всегда принимает значение от 0 до 1 (по модулю). Коэффициент может быть положительным или отрицательным.\n"
   ],
   "id": "6f3cddb3cab6b71e"
  },
  {
   "metadata": {
    "ExecuteTime": {
     "end_time": "2024-09-02T21:50:43.940578Z",
     "start_time": "2024-09-02T21:50:43.934251Z"
    }
   },
   "cell_type": "code",
   "source": [
    "corr = np.corrcoef(rating[:,1],rating[:,2])\n",
    "corr"
   ],
   "id": "a7c156171c8df76f",
   "outputs": [
    {
     "data": {
      "text/plain": [
       "array([[1.        , 0.38492604],\n",
       "       [0.38492604, 1.        ]])"
      ]
     },
     "execution_count": 19,
     "metadata": {},
     "output_type": "execute_result"
    }
   ],
   "execution_count": 19
  },
  {
   "metadata": {},
   "cell_type": "markdown",
   "source": [
    "#Пояснение вывода\n",
    "     0         1\n",
    "0  1.0     0.384926  (X с X и X с Y)\n",
    "1  0.384926  1.0     (Y с X и Y с Y)\n",
    "\n",
    "Это таблица корреляции, которая показывает, как связаны между собой разные переменные. В вашем случае у вас две переменные:\n",
    "\n",
    "Число постов (обозначим как X)\n",
    "Количество лайков (обозначим как Y)\n",
    "Таблица выглядит следующим образом:\n",
    "\n",
    "Пояснение:\n",
    "Элементы на главной диагонали (1.0):\n",
    "\n",
    "1.0 в первой ячейке (0, 0) обозначает корреляцию переменной X с самой собой (число постов с числом постов), что всегда будет равно 1.\n",
    "То же относится ко второй ячейке (1, 1) для переменной Y (количество лайков с самим собой).\n",
    "Элементы вне главной диагонали (0.384926):\n",
    "\n",
    "Значение 0.384926 в ячейке (0, 1) — это коэффициент корреляции между числом постов (X) и количеством лайков (Y).\n",
    "Это значение указывает на то, что есть умеренная положительная корреляция между этими переменными. То есть, когда увеличивается число постов, количество лайков тоже, в общем, увеличивается, но не идеально.\n"
   ],
   "id": "6281f57d194e783f"
  }
 ],
 "metadata": {
  "kernelspec": {
   "display_name": "Python 3",
   "language": "python",
   "name": "python3"
  },
  "language_info": {
   "codemirror_mode": {
    "name": "ipython",
    "version": 2
   },
   "file_extension": ".py",
   "mimetype": "text/x-python",
   "name": "python",
   "nbconvert_exporter": "python",
   "pygments_lexer": "ipython2",
   "version": "2.7.6"
  }
 },
 "nbformat": 4,
 "nbformat_minor": 5
}
