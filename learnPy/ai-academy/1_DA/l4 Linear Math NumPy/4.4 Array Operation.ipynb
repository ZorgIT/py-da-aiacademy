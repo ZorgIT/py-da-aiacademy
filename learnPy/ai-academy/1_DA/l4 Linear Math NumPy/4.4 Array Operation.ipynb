{
 "cells": [
  {
   "metadata": {},
   "cell_type": "markdown",
   "source": [
    "#Операции по массивам данных\n",
    "Универсальные функции по ndarray их можно применить сразу ко всему массиву.\n",
    "**Унарные операции - операции, которые выполняются над каждым элементом массива по очереди.\n",
    "сумма элеменетов массива\n",
    "arr = np.array([1,2,3,4])\n",
    "ar_sum = np.sum(arr)\n",
    "\n",
    "Функция\n",
    "\n",
    "\n",
    "Описание\n",
    "\n",
    "- **abs()** Абсолютное значение (модуль) целых или вещественных элементов массива\n",
    "- **sum()** Сумма всех элементов массива. Вторым аргументом можно задать ось, по которой будет определена сумма\n",
    "- **prod(имя, ось)** Произведение всех элементов массива по заданной оси\n",
    "- **sqrt()** Квадратный корень каждого элемента массива\n",
    "- **modf()** Дробные и целые части массива в виде отдельных массивов\n",
    "- **isnan()** Массив логических (булевых) значений, показывающий, какие из элементов исходного массива являются NaN (не числами)\n",
    "При вызове каждой из этих функций необходимо указывать название библиотеки NumPy:\n",
    "\n",
    "      np.abs(имя_массива)"
   ],
   "id": "1fdf605692d61e72"
  },
  {
   "metadata": {
    "ExecuteTime": {
     "end_time": "2024-09-02T20:07:27.002675Z",
     "start_time": "2024-09-02T20:07:26.995912Z"
    }
   },
   "cell_type": "code",
   "source": [
    "import numpy as np\n",
    "first = [x**1 for x in range(1, 10)]\n",
    "second = [x**2 for x in range(1, 10)]\n",
    "third = [x**3 for x in range(1, 10)]\n",
    "great_secret = np.array([first, second, third])\n",
    "colcount = np.shape(great_secret)[1]\n",
    "\n",
    "my_sum = np.sum(great_secret, 1) [1]\n",
    "my_comp = np.prod(great_secret, 0) [1]\n",
    "print(colcount, my_sum, my_comp)"
   ],
   "id": "145f4828ecaf5512",
   "outputs": [
    {
     "name": "stdout",
     "output_type": "stream",
     "text": [
      "9 285 131681894400\n"
     ]
    }
   ],
   "execution_count": 3
  },
  {
   "metadata": {},
   "cell_type": "code",
   "outputs": [],
   "execution_count": null,
   "source": "",
   "id": "29ab927b7f37828d"
  }
 ],
 "metadata": {
  "kernelspec": {
   "display_name": "Python 3",
   "language": "python",
   "name": "python3"
  },
  "language_info": {
   "codemirror_mode": {
    "name": "ipython",
    "version": 2
   },
   "file_extension": ".py",
   "mimetype": "text/x-python",
   "name": "python",
   "nbconvert_exporter": "python",
   "pygments_lexer": "ipython2",
   "version": "2.7.6"
  }
 },
 "nbformat": 4,
 "nbformat_minor": 5
}
