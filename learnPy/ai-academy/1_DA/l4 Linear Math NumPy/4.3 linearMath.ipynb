{
 "cells": [
  {
   "metadata": {},
   "cell_type": "markdown",
   "source": [
    "Что такое вектор?\n",
    "\n",
    "- В школьной геометрии — направленный отрезок.\n",
    "- В линейной алгебре — элемент векторного пространства.\n",
    "- В Python — числовой массив (например, одномерный массив NumPy).\n",
    "\n",
    "Вектор — это набор чисел, записанных в определенном порядке, например, в столбик или в строчку.\n",
    "\n",
    " В Python мы представляем вектор как одномерный массив NumPy, так как он может быть создан из списка чисел. То есть вектор сам по себе обретает смысл в зависимости от контекста.\n",
    " \n",
    "Основные характеристики вектора\n",
    "У вектора есть две главных характеристики: координаты и размерность.\n",
    "\n",
    "- *Координаты вектора* — это числа, из которых он состоит. \n",
    "\n",
    "- *Размерность вектора* — это количество координат.\n",
    "\n",
    "Например, для вектора количества лайков координаты — это числа 23, 78, 65 и 90, а его размерность равна 4.\n"
   ],
   "id": "645fa2bb4c1976e7"
  },
  {
   "metadata": {},
   "cell_type": "markdown",
   "source": [
    "## Базовые операции над векторами\n",
    "\n",
    "### Сложение и вычитание векторов\n",
    "Сложение векторов происходит поэлементно, складываем или вычитаем элементы с одинаковым индексом.\n",
    " Python происходит при помощи знаков + и -. Важно, задать векторы именно как массивы NumPy, а не как обычные списки типа list. \n",
    " Складывать и вычитать можно только матрицы одинакового размера\n",
    "  \n",
    "\n",
    "\n"
   ],
   "id": "31fa6d1f36eacd8d"
  },
  {
   "metadata": {
    "ExecuteTime": {
     "end_time": "2024-09-01T21:54:14.303194Z",
     "start_time": "2024-09-01T21:54:14.190594Z"
    }
   },
   "cell_type": "code",
   "source": [
    "import numpy as np\n",
    "a = np.array([10, 8, 5, 1])\n",
    "b = np.array([5, 15, 9, 7])\n",
    "print (a+b)"
   ],
   "id": "5170ba0ac17c9130",
   "outputs": [
    {
     "name": "stdout",
     "output_type": "stream",
     "text": [
      "[15 23 14  8]\n"
     ]
    }
   ],
   "execution_count": 1
  },
  {
   "metadata": {},
   "cell_type": "markdown",
   "source": [
    "## Умножение вектора на число\n",
    "Это тоже происходит поэлементно, то есть каждая координата вектора умножается на число.\n"
   ],
   "id": "fb4f554850038061"
  },
  {
   "metadata": {
    "ExecuteTime": {
     "end_time": "2024-09-01T21:55:13.549173Z",
     "start_time": "2024-09-01T21:55:13.544170Z"
    }
   },
   "cell_type": "code",
   "source": [
    "import numpy as np\n",
    "a = np.array([10, 8, 5, 1])\n",
    "print(a*2)"
   ],
   "id": "b8bfd26f125a958f",
   "outputs": [
    {
     "name": "stdout",
     "output_type": "stream",
     "text": [
      "[20 16 10  2]\n"
     ]
    }
   ],
   "execution_count": 2
  },
  {
   "metadata": {
    "ExecuteTime": {
     "end_time": "2024-09-01T21:55:46.468478Z",
     "start_time": "2024-09-01T21:55:46.461059Z"
    }
   },
   "cell_type": "code",
   "source": [
    "import numpy as np\n",
    "a = np.array([10, 8, 5, 1])\n",
    "b = np.array([5, 15, 9, 7])\n",
    "print(a +b)\n",
    "print(a-b)\n",
    "print(a*2)"
   ],
   "id": "42b1338bdf395dd6",
   "outputs": [
    {
     "name": "stdout",
     "output_type": "stream",
     "text": [
      "[15 23 14  8]\n",
      "[ 5 -7 -4 -6]\n",
      "[20 16 10  2]\n"
     ]
    }
   ],
   "execution_count": 3
  },
  {
   "metadata": {},
   "cell_type": "markdown",
   "source": [
    "## Матрицы. Основные понятия\n",
    "**Матрица** — набор чисел, расположенных по строкам и столбцам, как в таблице.\n"
   ],
   "id": "ace8177906bc4040"
  },
  {
   "metadata": {
    "ExecuteTime": {
     "end_time": "2024-09-01T21:59:56.602365Z",
     "start_time": "2024-09-01T21:59:56.594197Z"
    }
   },
   "cell_type": "code",
   "source": [
    "import numpy as np\n",
    "A = np.array([[1,-5,3],[2,2,1],[0,3,1],[2,4,12]])\n",
    "A"
   ],
   "id": "566a3efedfd3fa3c",
   "outputs": [
    {
     "data": {
      "text/plain": [
       "array([[ 1, -5,  3],\n",
       "       [ 2,  2,  1],\n",
       "       [ 0,  3,  1],\n",
       "       [ 2,  4, 12]])"
      ]
     },
     "execution_count": 5,
     "metadata": {},
     "output_type": "execute_result"
    }
   ],
   "execution_count": 5
  },
  {
   "metadata": {
    "ExecuteTime": {
     "end_time": "2024-09-01T22:00:14.594188Z",
     "start_time": "2024-09-01T22:00:14.587158Z"
    }
   },
   "cell_type": "code",
   "source": "A.shape",
   "id": "753d0bb620f14859",
   "outputs": [
    {
     "data": {
      "text/plain": [
       "(4, 3)"
      ]
     },
     "execution_count": 6,
     "metadata": {},
     "output_type": "execute_result"
    }
   ],
   "execution_count": 6
  },
  {
   "metadata": {
    "ExecuteTime": {
     "end_time": "2024-09-01T22:00:54.073Z",
     "start_time": "2024-09-01T22:00:54.067819Z"
    }
   },
   "cell_type": "code",
   "source": "print(\"a_23 = \", A[1,2],\"; a_32 = \", A[2,1])",
   "id": "5f81aa237c567766",
   "outputs": [
    {
     "name": "stdout",
     "output_type": "stream",
     "text": [
      "a_23 =  1 ; a_32 =  3\n"
     ]
    }
   ],
   "execution_count": 8
  },
  {
   "metadata": {
    "ExecuteTime": {
     "end_time": "2024-09-01T22:01:35.105921Z",
     "start_time": "2024-09-01T22:01:35.098629Z"
    }
   },
   "cell_type": "code",
   "source": [
    "B = np.matrix(\"1,-5;2,2;0,3\")\n",
    "B\n"
   ],
   "id": "df2f0171a48b298d",
   "outputs": [
    {
     "data": {
      "text/plain": [
       "matrix([[ 1, -5],\n",
       "        [ 2,  2],\n",
       "        [ 0,  3]])"
      ]
     },
     "execution_count": 9,
     "metadata": {},
     "output_type": "execute_result"
    }
   ],
   "execution_count": 9
  },
  {
   "metadata": {
    "ExecuteTime": {
     "end_time": "2024-09-01T22:01:58.228544Z",
     "start_time": "2024-09-01T22:01:58.219999Z"
    }
   },
   "cell_type": "code",
   "source": [
    "C = np.matrix(\"3,-1;2,6;4,0\")\n",
    "C"
   ],
   "id": "beaae6049a3df8f3",
   "outputs": [
    {
     "data": {
      "text/plain": [
       "matrix([[ 3, -1],\n",
       "        [ 2,  6],\n",
       "        [ 4,  0]])"
      ]
     },
     "execution_count": 10,
     "metadata": {},
     "output_type": "execute_result"
    }
   ],
   "execution_count": 10
  },
  {
   "metadata": {
    "ExecuteTime": {
     "end_time": "2024-09-01T22:02:01.971369Z",
     "start_time": "2024-09-01T22:02:01.964843Z"
    }
   },
   "cell_type": "code",
   "source": "B+C",
   "id": "fe30b2c0c49548d5",
   "outputs": [
    {
     "data": {
      "text/plain": [
       "matrix([[ 4, -6],\n",
       "        [ 4,  8],\n",
       "        [ 4,  3]])"
      ]
     },
     "execution_count": 11,
     "metadata": {},
     "output_type": "execute_result"
    }
   ],
   "execution_count": 11
  },
  {
   "metadata": {
    "ExecuteTime": {
     "end_time": "2024-09-01T22:06:59.685324Z",
     "start_time": "2024-09-01T22:06:59.678501Z"
    }
   },
   "cell_type": "code",
   "source": "C*5",
   "id": "77e1d82f78be239c",
   "outputs": [
    {
     "data": {
      "text/plain": [
       "matrix([[15, -5],\n",
       "        [10, 30],\n",
       "        [20,  0]])"
      ]
     },
     "execution_count": 19,
     "metadata": {},
     "output_type": "execute_result"
    }
   ],
   "execution_count": 19
  },
  {
   "metadata": {
    "ExecuteTime": {
     "end_time": "2024-09-01T22:02:12.300156Z",
     "start_time": "2024-09-01T22:02:12.292442Z"
    }
   },
   "cell_type": "code",
   "source": "B",
   "id": "74abdf8f79a60a65",
   "outputs": [
    {
     "data": {
      "text/plain": [
       "matrix([[ 1, -5],\n",
       "        [ 2,  2],\n",
       "        [ 0,  3]])"
      ]
     },
     "execution_count": 13,
     "metadata": {},
     "output_type": "execute_result"
    }
   ],
   "execution_count": 13
  },
  {
   "metadata": {
    "ExecuteTime": {
     "end_time": "2024-09-01T22:02:20.004086Z",
     "start_time": "2024-09-01T22:02:19.997097Z"
    }
   },
   "cell_type": "code",
   "source": "B.T",
   "id": "3a97a26f0b8495f1",
   "outputs": [
    {
     "data": {
      "text/plain": [
       "matrix([[ 1,  2,  0],\n",
       "        [-5,  2,  3]])"
      ]
     },
     "execution_count": 14,
     "metadata": {},
     "output_type": "execute_result"
    }
   ],
   "execution_count": 14
  },
  {
   "metadata": {
    "ExecuteTime": {
     "end_time": "2024-09-01T22:02:40.699867Z",
     "start_time": "2024-09-01T22:02:40.692788Z"
    }
   },
   "cell_type": "code",
   "source": [
    "V = np.array([7,5,1])\n",
    "V"
   ],
   "id": "590fbc84ac90575e",
   "outputs": [
    {
     "data": {
      "text/plain": [
       "array([7, 5, 1])"
      ]
     },
     "execution_count": 15,
     "metadata": {},
     "output_type": "execute_result"
    }
   ],
   "execution_count": 15
  },
  {
   "metadata": {
    "ExecuteTime": {
     "end_time": "2024-09-01T22:02:51.939712Z",
     "start_time": "2024-09-01T22:02:51.933397Z"
    }
   },
   "cell_type": "code",
   "source": "V.T",
   "id": "f2adc84fc74a06e8",
   "outputs": [
    {
     "data": {
      "text/plain": [
       "array([7, 5, 1])"
      ]
     },
     "execution_count": 17,
     "metadata": {},
     "output_type": "execute_result"
    }
   ],
   "execution_count": 17
  },
  {
   "metadata": {
    "ExecuteTime": {
     "end_time": "2024-09-01T22:04:22.647385Z",
     "start_time": "2024-09-01T22:04:22.640635Z"
    }
   },
   "cell_type": "code",
   "source": [
    "A_1 = np.matrix(\"1,-5;2,2;0,3\")\n",
    "A_1"
   ],
   "id": "db924d543181ec",
   "outputs": [
    {
     "data": {
      "text/plain": [
       "matrix([[ 1, -5],\n",
       "        [ 2,  2],\n",
       "        [ 0,  3]])"
      ]
     },
     "execution_count": 18,
     "metadata": {},
     "output_type": "execute_result"
    }
   ],
   "execution_count": 18
  },
  {
   "metadata": {},
   "cell_type": "markdown",
   "source": "Умножить две матрицы можно только в том случае, если число столбцов в одной матрице равно числу строк во второй.",
   "id": "eba37f4aecaa5b3d"
  },
  {
   "metadata": {
    "ExecuteTime": {
     "end_time": "2024-09-01T22:10:09.133149Z",
     "start_time": "2024-09-01T22:10:09.126447Z"
    }
   },
   "cell_type": "code",
   "source": [
    "A_2 = np.matrix(\"3,1,0;-1,0,2\")\n",
    "A_2"
   ],
   "id": "93e822b1a8cf57c4",
   "outputs": [
    {
     "data": {
      "text/plain": [
       "matrix([[ 3,  1,  0],\n",
       "        [-1,  0,  2]])"
      ]
     },
     "execution_count": 21,
     "metadata": {},
     "output_type": "execute_result"
    }
   ],
   "execution_count": 21
  },
  {
   "metadata": {
    "ExecuteTime": {
     "end_time": "2024-09-01T22:10:16.057148Z",
     "start_time": "2024-09-01T22:10:16.050552Z"
    }
   },
   "cell_type": "code",
   "source": "np.dot(A_1,A_2)",
   "id": "1f32c1b58e88e561",
   "outputs": [
    {
     "data": {
      "text/plain": [
       "matrix([[  8,   1, -10],\n",
       "        [  4,   2,   4],\n",
       "        [ -3,   0,   6]])"
      ]
     },
     "execution_count": 22,
     "metadata": {},
     "output_type": "execute_result"
    }
   ],
   "execution_count": 22
  },
  {
   "metadata": {
    "ExecuteTime": {
     "end_time": "2024-09-01T22:10:31.144220Z",
     "start_time": "2024-09-01T22:10:31.137283Z"
    }
   },
   "cell_type": "code",
   "source": "np.dot(A_2,A_1)",
   "id": "faabe089f0918581",
   "outputs": [
    {
     "data": {
      "text/plain": [
       "matrix([[  5, -13],\n",
       "        [ -1,  11]])"
      ]
     },
     "execution_count": 23,
     "metadata": {},
     "output_type": "execute_result"
    }
   ],
   "execution_count": 23
  },
  {
   "metadata": {
    "ExecuteTime": {
     "end_time": "2024-09-02T19:52:59.794802Z",
     "start_time": "2024-09-02T19:52:59.787669Z"
    }
   },
   "cell_type": "code",
   "source": [
    "#Тест для самопроверки\n",
    "import numpy as np\n",
    "A = np.array([[1,5,3],[2,2,1],[4,3,1],[2,4,12]])\n",
    "B = np.array([[3,6,2],[6,7,3],[5,5,9],[8,4,1]])\n",
    "Enemy = np.array([[2,9,1],[3,5,4],[6,3,10],[4,6,7]])\n",
    "Power = np.array([2,2,2])\n",
    "ArmySum = A + B\n",
    "Warriors = ArmySum - Enemy\n",
    "Result = np.dot(Warriors,Power)\n",
    "print(Result)"
   ],
   "id": "5f56622f8e4e5287",
   "outputs": [
    {
     "name": "stdout",
     "output_type": "stream",
     "text": [
      "[[ 4  4  8]\n",
      " [10  8  0]\n",
      " [ 6 10  0]\n",
      " [12  4 12]]\n"
     ]
    }
   ],
   "execution_count": 8
  },
  {
   "metadata": {
    "ExecuteTime": {
     "end_time": "2024-09-02T19:51:35.805129Z",
     "start_time": "2024-09-02T19:51:35.801155Z"
    }
   },
   "cell_type": "code",
   "source": "",
   "id": "3fe37c114aeb741f",
   "outputs": [],
   "execution_count": 2
  },
  {
   "metadata": {},
   "cell_type": "code",
   "outputs": [],
   "execution_count": null,
   "source": "",
   "id": "1bf5df61ff389b94"
  }
 ],
 "metadata": {
  "kernelspec": {
   "display_name": "Python 3",
   "language": "python",
   "name": "python3"
  },
  "language_info": {
   "codemirror_mode": {
    "name": "ipython",
    "version": 2
   },
   "file_extension": ".py",
   "mimetype": "text/x-python",
   "name": "python",
   "nbconvert_exporter": "python",
   "pygments_lexer": "ipython2",
   "version": "2.7.6"
  }
 },
 "nbformat": 4,
 "nbformat_minor": 5
}
