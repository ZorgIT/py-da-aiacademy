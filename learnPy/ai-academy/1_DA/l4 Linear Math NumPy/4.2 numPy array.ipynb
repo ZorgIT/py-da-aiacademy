{
 "cells": [
  {
   "metadata": {},
   "cell_type": "markdown",
   "source": [
    "ndarray — сокращенное имя для N-мерного однородного массива с заранее заданным количеством элементов. Массив называют однородным, потому что он содержит объекты одного типа. \n",
    "\n",
    "Одномерный массив — это список элементов или, по-другому, вектор. С векторами мы разберемся дальше, а пока запомни, что вектор — это список из однотипных элементов, например, чисел. В векторе может храниться список значений всех характеристик для одного персонажа в компьютерной игре: сила, ловкость, интеллект, атака, защита и т.д.\n",
    "\n",
    "Двумерный массив — это прямоугольная таблица с данными. У каждой её ячейки есть два номера: номер строки и номер столбца. В математике такую структуру называют матрицей. Мы можем собрать в матрицу характеристики нескольких персонажей компьютерной игры, где по строке будут все характеристики одного конкретного персонажа, а по столбцу — одна конкретная характеристика (сила, ловкость и т.д.) всех персонажей.\n",
    "\n",
    "Многомерный массив — это массив с тремя и более измерениями. Число индексов, по которым мы обращаемся к отдельному значению такого массива, зависит от числа его измерений.\n",
    "\n",
    "При работе с двумерными массивами для обращения к элементу мы указываем два индекса, они соответствуют номеру строки и номеру столбца.\n",
    " \n",
    "``` \n",
    "my_array = np.array([[1,2,3,4], [10,11,12,13], [45,46,47,48]])\n",
    "my_array[1][2]\n",
    "my_array[1,2] \n",
    "```\n"
   ],
   "id": "6be9598820ccf93a"
  },
  {
   "metadata": {
    "ExecuteTime": {
     "end_time": "2024-09-01T21:42:02.966545Z",
     "start_time": "2024-09-01T21:42:02.939907Z"
    }
   },
   "cell_type": "code",
   "source": [
    "import numpy as np\n",
    "\n",
    "arr1 = np.array([1,2,3,4,5])\n",
    "arr1 "
   ],
   "id": "4b13d9ba5667fd9c",
   "outputs": [
    {
     "data": {
      "text/plain": [
       "array([1, 2, 3, 4, 5])"
      ]
     },
     "execution_count": 1,
     "metadata": {},
     "output_type": "execute_result"
    }
   ],
   "execution_count": 1
  },
  {
   "metadata": {
    "ExecuteTime": {
     "end_time": "2024-09-01T21:42:20.959048Z",
     "start_time": "2024-09-01T21:42:20.952047Z"
    }
   },
   "cell_type": "code",
   "source": [
    "arr2 = np.array([5,6,7,8], dtype = float) #указание типа массива явно\n",
    "arr2.dtype"
   ],
   "id": "1ed13ffed18e85da",
   "outputs": [
    {
     "data": {
      "text/plain": [
       "dtype('float64')"
      ]
     },
     "execution_count": 2,
     "metadata": {},
     "output_type": "execute_result"
    }
   ],
   "execution_count": 2
  },
  {
   "metadata": {
    "ExecuteTime": {
     "end_time": "2024-09-01T21:42:58.549867Z",
     "start_time": "2024-09-01T21:42:58.544563Z"
    }
   },
   "cell_type": "code",
   "source": "arr3 = np.array([[1,2,3],[4,5,6],[7,8,9]])",
   "id": "5d97c8a24332f51f",
   "outputs": [],
   "execution_count": 3
  },
  {
   "metadata": {
    "ExecuteTime": {
     "end_time": "2024-09-01T21:43:34.290470Z",
     "start_time": "2024-09-01T21:43:34.283182Z"
    }
   },
   "cell_type": "code",
   "source": "np.shape(arr3) #размерность массива",
   "id": "7fbd74ba6b8fe856",
   "outputs": [
    {
     "data": {
      "text/plain": [
       "(3, 3)"
      ]
     },
     "execution_count": 5,
     "metadata": {},
     "output_type": "execute_result"
    }
   ],
   "execution_count": 5
  },
  {
   "metadata": {
    "ExecuteTime": {
     "end_time": "2024-09-01T21:47:46.293473Z",
     "start_time": "2024-09-01T21:47:46.286222Z"
    }
   },
   "cell_type": "code",
   "source": [
    "my_secret = [x for x in range(1, 301, 7) if x%10 == 7 or x%10 == 1]\n",
    "np.array([my_secret, [x/2 for x in my_secret], [x-100 for x in my_secret]])"
   ],
   "id": "7d3e5367128c963",
   "outputs": [
    {
     "data": {
      "text/plain": [
       "array([[  1. ,  57. ,  71. , 127. , 141. , 197. , 211. , 267. , 281. ],\n",
       "       [  0.5,  28.5,  35.5,  63.5,  70.5,  98.5, 105.5, 133.5, 140.5],\n",
       "       [-99. , -43. , -29. ,  27. ,  41. ,  97. , 111. , 167. , 181. ]])"
      ]
     },
     "execution_count": 6,
     "metadata": {},
     "output_type": "execute_result"
    }
   ],
   "execution_count": 6
  },
  {
   "metadata": {},
   "cell_type": "code",
   "outputs": [],
   "execution_count": null,
   "source": "",
   "id": "c2153ebf21288cbf"
  }
 ],
 "metadata": {
  "kernelspec": {
   "display_name": "Python 3",
   "language": "python",
   "name": "python3"
  },
  "language_info": {
   "codemirror_mode": {
    "name": "ipython",
    "version": 2
   },
   "file_extension": ".py",
   "mimetype": "text/x-python",
   "name": "python",
   "nbconvert_exporter": "python",
   "pygments_lexer": "ipython2",
   "version": "2.7.6"
  }
 },
 "nbformat": 4,
 "nbformat_minor": 5
}
