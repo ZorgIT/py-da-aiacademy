{
 "cells": [
  {
   "metadata": {},
   "cell_type": "markdown",
   "source": [
    "# Theory\n",
    "\n",
    " bank_full.csv. Этот набор данных специально собран для тех, кто делает первые шаги в Data Science. Внутри датасета признаки описывают клиента банка и взаимодействие между банком и клиентом.\n",
    "\n",
    "Информация о клиенте: \n",
    "\n",
    "- 1 - age (numeric) - возраст\n",
    "- 2 - job - тип работы\n",
    "- 3 - marital - семейное положение\n",
    "- 4 - education - уровень образования\n",
    "- 5 – balance: Уровень дохода\n",
    "- 6 - housing: Есть ли ипотека\n",
    "- 7 - loan: Есть ли кредит\n",
    "\n",
    "Информация по последнему контакту в текущей кампании: \n",
    "- 8 - contact: Тип коммуникации\n",
    "- 9 - day_of_week: день последнего контакта с клиентом\n",
    "- 10 - month: месяц последнего контакта с клиентом\n",
    "- 11 - duration: длительность последнего контакта, в секундах (numeric). \n",
    "\n",
    "Прочие признаки: \n",
    "- 12 - campaign: количество контактов с клиентом (numeric, includes last contact)\n",
    "- 13 - pdays: количество дней, которое прошло между последним и предпоследним контактом\n",
    "- 14 - previous: количество контактов с клиентом, исключая последний контакт (numeric)\n",
    "- 15 - poutcome: результаты последней рекламной компании \n",
    "\n",
    "Целевая переменная:\n",
    "- 16 - y - откроет ли клиент инвестиционный счет в нашем банке?  (binary: 'yes','no') \n",
    "\n",
    "\n"
   ],
   "id": "7752e4877908ef93"
  },
  {
   "metadata": {
    "ExecuteTime": {
     "end_time": "2024-09-04T17:16:32.847927Z",
     "start_time": "2024-09-04T17:16:32.841541Z"
    }
   },
   "cell_type": "code",
   "source": "#Practice",
   "id": "b5430cdabcdb912d",
   "outputs": [],
   "execution_count": 1
  },
  {
   "metadata": {},
   "cell_type": "code",
   "outputs": [],
   "execution_count": null,
   "source": [
    "import pandas as pd\n",
    "data = pd.read_csv('bank-full.csv')\n",
    "data.head()"
   ],
   "id": "3f2a5da5055884aa"
  }
 ],
 "metadata": {
  "kernelspec": {
   "display_name": "Python 3",
   "language": "python",
   "name": "python3"
  },
  "language_info": {
   "codemirror_mode": {
    "name": "ipython",
    "version": 2
   },
   "file_extension": ".py",
   "mimetype": "text/x-python",
   "name": "python",
   "nbconvert_exporter": "python",
   "pygments_lexer": "ipython2",
   "version": "2.7.6"
  }
 },
 "nbformat": 4,
 "nbformat_minor": 5
}
