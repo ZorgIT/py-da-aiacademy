{
 "cells": [
  {
   "cell_type": "code",
   "id": "initial_id",
   "metadata": {
    "collapsed": true,
    "ExecuteTime": {
     "end_time": "2024-09-04T18:51:15.609133Z",
     "start_time": "2024-09-04T18:51:14.721616Z"
    }
   },
   "source": [
    "\"\"\"\n",
    "Повторим новую команду из практики. Для использования метрики ROC-AUC подключи специальную функцию из библиотеки sklearn roc_auc_score():\n",
    "\n",
    "      from sklearn.metrics import roc_auc_score\n",
    "      print('ROC-AUC: ', roc_auc_score(y_test, y_predict_proba))\n",
    "\"\"\"\n",
    "\n",
    "import pandas as pd\n",
    "data = pd.read_csv('bank-full.csv')\n",
    "\n"
   ],
   "outputs": [],
   "execution_count": 1
  },
  {
   "metadata": {},
   "cell_type": "markdown",
   "source": [
    "Информация о клиенте: \n",
    "\n",
    "- 1 - age (numeric) - возраст\n",
    "- 2 - job - тип работы\n",
    "- 3 - marital - семейное положение\n",
    "- 4 - education - уровень образования\n",
    "- 5 – balance: Уровень дохода\n",
    "- 6 - housing: Есть ли ипотека\n",
    "- 7 - loan: Есть ли кредит\n",
    "\n",
    "Информация по последнему контакту в текущей кампании: \n",
    "- 8 - contact: Тип коммуникации\n",
    "- 9 - day_of_week: день последнего контакта с клиентом\n",
    "- 10 - month: месяц последнего контакта с клиентом\n",
    "- 11 - duration: длительность последнего контакта, в секундах (numeric). \n",
    "\n",
    "Прочие признаки: \n",
    "- 12 - campaign: количество контактов с клиентом (numeric, includes last contact)\n",
    "- 13 - pdays: количество дней, которое прошло между последним и предпоследним контактом\n",
    "- 14 - previous: количество контактов с клиентом, исключая последний контакт (numeric)\n",
    "- 15 - poutcome: результаты последней рекламной компании \n",
    "\n",
    "Целевая переменная:\n",
    "- 16 - y - откроет ли клиент инвестиционный счет в нашем банке? (binary: 'yes','no') "
   ],
   "id": "aba0b1c8e1cb0622"
  },
  {
   "metadata": {
    "ExecuteTime": {
     "end_time": "2024-09-04T18:51:29.069663Z",
     "start_time": "2024-09-04T18:51:29.049477Z"
    }
   },
   "cell_type": "code",
   "source": "data.head()",
   "id": "1e788c10808c0adc",
   "outputs": [
    {
     "data": {
      "text/plain": [
       "   age           job  marital  education  balance housing loan  contact  day  \\\n",
       "0   58    management  married   tertiary     2143     yes   no  unknown    5   \n",
       "1   44    technician   single  secondary       29     yes   no  unknown    5   \n",
       "2   33  entrepreneur  married  secondary        2     yes  yes  unknown    5   \n",
       "3   47   blue-collar  married    unknown     1506     yes   no  unknown    5   \n",
       "4   33       unknown   single    unknown        1      no   no  unknown    5   \n",
       "\n",
       "  month  duration  campaign  pdays  previous poutcome   y  \n",
       "0   may       261         1     -1         0  unknown  no  \n",
       "1   may       151         1     -1         0  unknown  no  \n",
       "2   may        76         1     -1         0  unknown  no  \n",
       "3   may        92         1     -1         0  unknown  no  \n",
       "4   may       198         1     -1         0  unknown  no  "
      ],
      "text/html": [
       "<div>\n",
       "<style scoped>\n",
       "    .dataframe tbody tr th:only-of-type {\n",
       "        vertical-align: middle;\n",
       "    }\n",
       "\n",
       "    .dataframe tbody tr th {\n",
       "        vertical-align: top;\n",
       "    }\n",
       "\n",
       "    .dataframe thead th {\n",
       "        text-align: right;\n",
       "    }\n",
       "</style>\n",
       "<table border=\"1\" class=\"dataframe\">\n",
       "  <thead>\n",
       "    <tr style=\"text-align: right;\">\n",
       "      <th></th>\n",
       "      <th>age</th>\n",
       "      <th>job</th>\n",
       "      <th>marital</th>\n",
       "      <th>education</th>\n",
       "      <th>balance</th>\n",
       "      <th>housing</th>\n",
       "      <th>loan</th>\n",
       "      <th>contact</th>\n",
       "      <th>day</th>\n",
       "      <th>month</th>\n",
       "      <th>duration</th>\n",
       "      <th>campaign</th>\n",
       "      <th>pdays</th>\n",
       "      <th>previous</th>\n",
       "      <th>poutcome</th>\n",
       "      <th>y</th>\n",
       "    </tr>\n",
       "  </thead>\n",
       "  <tbody>\n",
       "    <tr>\n",
       "      <th>0</th>\n",
       "      <td>58</td>\n",
       "      <td>management</td>\n",
       "      <td>married</td>\n",
       "      <td>tertiary</td>\n",
       "      <td>2143</td>\n",
       "      <td>yes</td>\n",
       "      <td>no</td>\n",
       "      <td>unknown</td>\n",
       "      <td>5</td>\n",
       "      <td>may</td>\n",
       "      <td>261</td>\n",
       "      <td>1</td>\n",
       "      <td>-1</td>\n",
       "      <td>0</td>\n",
       "      <td>unknown</td>\n",
       "      <td>no</td>\n",
       "    </tr>\n",
       "    <tr>\n",
       "      <th>1</th>\n",
       "      <td>44</td>\n",
       "      <td>technician</td>\n",
       "      <td>single</td>\n",
       "      <td>secondary</td>\n",
       "      <td>29</td>\n",
       "      <td>yes</td>\n",
       "      <td>no</td>\n",
       "      <td>unknown</td>\n",
       "      <td>5</td>\n",
       "      <td>may</td>\n",
       "      <td>151</td>\n",
       "      <td>1</td>\n",
       "      <td>-1</td>\n",
       "      <td>0</td>\n",
       "      <td>unknown</td>\n",
       "      <td>no</td>\n",
       "    </tr>\n",
       "    <tr>\n",
       "      <th>2</th>\n",
       "      <td>33</td>\n",
       "      <td>entrepreneur</td>\n",
       "      <td>married</td>\n",
       "      <td>secondary</td>\n",
       "      <td>2</td>\n",
       "      <td>yes</td>\n",
       "      <td>yes</td>\n",
       "      <td>unknown</td>\n",
       "      <td>5</td>\n",
       "      <td>may</td>\n",
       "      <td>76</td>\n",
       "      <td>1</td>\n",
       "      <td>-1</td>\n",
       "      <td>0</td>\n",
       "      <td>unknown</td>\n",
       "      <td>no</td>\n",
       "    </tr>\n",
       "    <tr>\n",
       "      <th>3</th>\n",
       "      <td>47</td>\n",
       "      <td>blue-collar</td>\n",
       "      <td>married</td>\n",
       "      <td>unknown</td>\n",
       "      <td>1506</td>\n",
       "      <td>yes</td>\n",
       "      <td>no</td>\n",
       "      <td>unknown</td>\n",
       "      <td>5</td>\n",
       "      <td>may</td>\n",
       "      <td>92</td>\n",
       "      <td>1</td>\n",
       "      <td>-1</td>\n",
       "      <td>0</td>\n",
       "      <td>unknown</td>\n",
       "      <td>no</td>\n",
       "    </tr>\n",
       "    <tr>\n",
       "      <th>4</th>\n",
       "      <td>33</td>\n",
       "      <td>unknown</td>\n",
       "      <td>single</td>\n",
       "      <td>unknown</td>\n",
       "      <td>1</td>\n",
       "      <td>no</td>\n",
       "      <td>no</td>\n",
       "      <td>unknown</td>\n",
       "      <td>5</td>\n",
       "      <td>may</td>\n",
       "      <td>198</td>\n",
       "      <td>1</td>\n",
       "      <td>-1</td>\n",
       "      <td>0</td>\n",
       "      <td>unknown</td>\n",
       "      <td>no</td>\n",
       "    </tr>\n",
       "  </tbody>\n",
       "</table>\n",
       "</div>"
      ]
     },
     "execution_count": 2,
     "metadata": {},
     "output_type": "execute_result"
    }
   ],
   "execution_count": 2
  },
  {
   "metadata": {
    "ExecuteTime": {
     "end_time": "2024-09-04T18:52:07.548110Z",
     "start_time": "2024-09-04T18:52:07.523029Z"
    }
   },
   "cell_type": "code",
   "source": [
    "data[\"y\"] = data.y.astype(\"category\").cat.codes\n",
    "data.info()"
   ],
   "id": "a08ceaf66562d469",
   "outputs": [
    {
     "name": "stdout",
     "output_type": "stream",
     "text": [
      "<class 'pandas.core.frame.DataFrame'>\n",
      "RangeIndex: 45211 entries, 0 to 45210\n",
      "Data columns (total 16 columns):\n",
      " #   Column     Non-Null Count  Dtype \n",
      "---  ------     --------------  ----- \n",
      " 0   age        45211 non-null  int64 \n",
      " 1   job        45211 non-null  object\n",
      " 2   marital    45211 non-null  object\n",
      " 3   education  45211 non-null  object\n",
      " 4   balance    45211 non-null  int64 \n",
      " 5   housing    45211 non-null  object\n",
      " 6   loan       45211 non-null  object\n",
      " 7   contact    45211 non-null  object\n",
      " 8   day        45211 non-null  int64 \n",
      " 9   month      45211 non-null  object\n",
      " 10  duration   45211 non-null  int64 \n",
      " 11  campaign   45211 non-null  int64 \n",
      " 12  pdays      45211 non-null  int64 \n",
      " 13  previous   45211 non-null  int64 \n",
      " 14  poutcome   45211 non-null  object\n",
      " 15  y          45211 non-null  int8  \n",
      "dtypes: int64(7), int8(1), object(8)\n",
      "memory usage: 5.2+ MB\n"
     ]
    }
   ],
   "execution_count": 5
  },
  {
   "metadata": {
    "ExecuteTime": {
     "end_time": "2024-09-04T18:52:22.468525Z",
     "start_time": "2024-09-04T18:52:22.457037Z"
    }
   },
   "cell_type": "code",
   "source": "data.contact.value_counts()",
   "id": "43fa2922121edb3d",
   "outputs": [
    {
     "data": {
      "text/plain": [
       "contact\n",
       "cellular     29285\n",
       "unknown      13020\n",
       "telephone     2906\n",
       "Name: count, dtype: int64"
      ]
     },
     "execution_count": 6,
     "metadata": {},
     "output_type": "execute_result"
    }
   ],
   "execution_count": 6
  },
  {
   "metadata": {
    "ExecuteTime": {
     "end_time": "2024-09-04T18:52:30.118144Z",
     "start_time": "2024-09-04T18:52:30.081776Z"
    }
   },
   "cell_type": "code",
   "source": [
    "data = data.drop('contact', axis=1)\n",
    "data = data.drop('loan', axis=1)\n",
    "data = data.drop('day', axis=1)\n",
    "data = data.drop('campaign', axis=1)\n",
    "data = data.drop('pdays', axis=1)\n",
    "data = data.drop('previous', axis=1)\n",
    "data = data.drop('poutcome', axis=1)"
   ],
   "id": "5c10e210aa232ce0",
   "outputs": [],
   "execution_count": 7
  },
  {
   "metadata": {
    "ExecuteTime": {
     "end_time": "2024-09-04T18:52:34.626400Z",
     "start_time": "2024-09-04T18:52:34.615411Z"
    }
   },
   "cell_type": "code",
   "source": "data.head()",
   "id": "9199b1fd5b95db2d",
   "outputs": [
    {
     "data": {
      "text/plain": [
       "   age           job  marital  education  balance housing month  duration  y\n",
       "0   58    management  married   tertiary     2143     yes   may       261  0\n",
       "1   44    technician   single  secondary       29     yes   may       151  0\n",
       "2   33  entrepreneur  married  secondary        2     yes   may        76  0\n",
       "3   47   blue-collar  married    unknown     1506     yes   may        92  0\n",
       "4   33       unknown   single    unknown        1      no   may       198  0"
      ],
      "text/html": [
       "<div>\n",
       "<style scoped>\n",
       "    .dataframe tbody tr th:only-of-type {\n",
       "        vertical-align: middle;\n",
       "    }\n",
       "\n",
       "    .dataframe tbody tr th {\n",
       "        vertical-align: top;\n",
       "    }\n",
       "\n",
       "    .dataframe thead th {\n",
       "        text-align: right;\n",
       "    }\n",
       "</style>\n",
       "<table border=\"1\" class=\"dataframe\">\n",
       "  <thead>\n",
       "    <tr style=\"text-align: right;\">\n",
       "      <th></th>\n",
       "      <th>age</th>\n",
       "      <th>job</th>\n",
       "      <th>marital</th>\n",
       "      <th>education</th>\n",
       "      <th>balance</th>\n",
       "      <th>housing</th>\n",
       "      <th>month</th>\n",
       "      <th>duration</th>\n",
       "      <th>y</th>\n",
       "    </tr>\n",
       "  </thead>\n",
       "  <tbody>\n",
       "    <tr>\n",
       "      <th>0</th>\n",
       "      <td>58</td>\n",
       "      <td>management</td>\n",
       "      <td>married</td>\n",
       "      <td>tertiary</td>\n",
       "      <td>2143</td>\n",
       "      <td>yes</td>\n",
       "      <td>may</td>\n",
       "      <td>261</td>\n",
       "      <td>0</td>\n",
       "    </tr>\n",
       "    <tr>\n",
       "      <th>1</th>\n",
       "      <td>44</td>\n",
       "      <td>technician</td>\n",
       "      <td>single</td>\n",
       "      <td>secondary</td>\n",
       "      <td>29</td>\n",
       "      <td>yes</td>\n",
       "      <td>may</td>\n",
       "      <td>151</td>\n",
       "      <td>0</td>\n",
       "    </tr>\n",
       "    <tr>\n",
       "      <th>2</th>\n",
       "      <td>33</td>\n",
       "      <td>entrepreneur</td>\n",
       "      <td>married</td>\n",
       "      <td>secondary</td>\n",
       "      <td>2</td>\n",
       "      <td>yes</td>\n",
       "      <td>may</td>\n",
       "      <td>76</td>\n",
       "      <td>0</td>\n",
       "    </tr>\n",
       "    <tr>\n",
       "      <th>3</th>\n",
       "      <td>47</td>\n",
       "      <td>blue-collar</td>\n",
       "      <td>married</td>\n",
       "      <td>unknown</td>\n",
       "      <td>1506</td>\n",
       "      <td>yes</td>\n",
       "      <td>may</td>\n",
       "      <td>92</td>\n",
       "      <td>0</td>\n",
       "    </tr>\n",
       "    <tr>\n",
       "      <th>4</th>\n",
       "      <td>33</td>\n",
       "      <td>unknown</td>\n",
       "      <td>single</td>\n",
       "      <td>unknown</td>\n",
       "      <td>1</td>\n",
       "      <td>no</td>\n",
       "      <td>may</td>\n",
       "      <td>198</td>\n",
       "      <td>0</td>\n",
       "    </tr>\n",
       "  </tbody>\n",
       "</table>\n",
       "</div>"
      ]
     },
     "execution_count": 8,
     "metadata": {},
     "output_type": "execute_result"
    }
   ],
   "execution_count": 8
  },
  {
   "metadata": {
    "ExecuteTime": {
     "end_time": "2024-09-04T18:52:38.643377Z",
     "start_time": "2024-09-04T18:52:38.618673Z"
    }
   },
   "cell_type": "code",
   "source": [
    "cat_features = ['job', 'marital', 'education', 'housing', 'month']\n",
    "\n",
    "for i in cat_features:\n",
    "    data[i] = data[i].astype('category').cat.codes"
   ],
   "id": "8b0fc25afb201afc",
   "outputs": [],
   "execution_count": 9
  },
  {
   "metadata": {
    "ExecuteTime": {
     "end_time": "2024-09-04T18:52:42.859804Z",
     "start_time": "2024-09-04T18:52:42.855174Z"
    }
   },
   "cell_type": "code",
   "source": "useful_cols = ['job', 'marital', 'education', 'balance', 'housing', 'month', 'duration']",
   "id": "2a703adf498f8d7e",
   "outputs": [],
   "execution_count": 10
  },
  {
   "metadata": {
    "ExecuteTime": {
     "end_time": "2024-09-04T18:52:54.608548Z",
     "start_time": "2024-09-04T18:52:47.189943Z"
    }
   },
   "cell_type": "code",
   "source": [
    "from sklearn.model_selection import train_test_split\n",
    "X_train, X_test, y_train, y_test = train_test_split(data.drop('y', axis=1), data['y'], test_size=0.3)"
   ],
   "id": "7a27f9e3643dee11",
   "outputs": [],
   "execution_count": 11
  },
  {
   "metadata": {
    "ExecuteTime": {
     "end_time": "2024-09-04T18:53:10.799216Z",
     "start_time": "2024-09-04T18:53:09.006589Z"
    }
   },
   "cell_type": "code",
   "source": [
    "from sklearn.linear_model import LogisticRegression\n",
    "LogReg = LogisticRegression(random_state=0, max_iter=1800).fit(X_train, y_train)"
   ],
   "id": "e5d060619499cc43",
   "outputs": [],
   "execution_count": 13
  },
  {
   "metadata": {
    "ExecuteTime": {
     "end_time": "2024-09-04T18:53:16.276227Z",
     "start_time": "2024-09-04T18:53:16.264872Z"
    }
   },
   "cell_type": "code",
   "source": [
    "y_pred_train = LogReg.predict(X_train)\n",
    "y_predict_proba_train = LogReg.predict_proba(X_train)[:,1]"
   ],
   "id": "a85829ba7e2c8f35",
   "outputs": [],
   "execution_count": 14
  },
  {
   "metadata": {
    "ExecuteTime": {
     "end_time": "2024-09-04T18:53:21.643604Z",
     "start_time": "2024-09-04T18:53:21.632623Z"
    }
   },
   "cell_type": "code",
   "source": "LogReg.score(X_train, y_train)",
   "id": "7b5c15e2331fac1a",
   "outputs": [
    {
     "data": {
      "text/plain": [
       "0.8873510917306537"
      ]
     },
     "execution_count": 15,
     "metadata": {},
     "output_type": "execute_result"
    }
   ],
   "execution_count": 15
  },
  {
   "metadata": {},
   "cell_type": "markdown",
   "source": "# Применение метрик с этого шага\n",
   "id": "60b1ad07fa4fc7ff"
  },
  {
   "metadata": {
    "ExecuteTime": {
     "end_time": "2024-09-04T18:53:43.536546Z",
     "start_time": "2024-09-04T18:53:43.519831Z"
    }
   },
   "cell_type": "code",
   "source": [
    "from sklearn.metrics import roc_auc_score\n",
    "print('ROC-AUC: ', roc_auc_score(y_train, y_predict_proba_train))"
   ],
   "id": "a60472693722d96c",
   "outputs": [
    {
     "name": "stdout",
     "output_type": "stream",
     "text": [
      "ROC-AUC:  0.837419214729934\n"
     ]
    }
   ],
   "execution_count": 17
  },
  {
   "metadata": {
    "ExecuteTime": {
     "end_time": "2024-09-04T18:53:50.818166Z",
     "start_time": "2024-09-04T18:53:50.808204Z"
    }
   },
   "cell_type": "code",
   "source": [
    "y_pred = LogReg.predict(X_test)\n",
    "y_predict_proba = LogReg.predict_proba(X_test)[:,1]"
   ],
   "id": "3ddeb385aade1b98",
   "outputs": [],
   "execution_count": 18
  },
  {
   "metadata": {
    "ExecuteTime": {
     "end_time": "2024-09-04T18:53:54.811976Z",
     "start_time": "2024-09-04T18:53:54.802736Z"
    }
   },
   "cell_type": "code",
   "source": "LogReg.score(X_test, y_test)",
   "id": "bfda9590ecbe35b6",
   "outputs": [
    {
     "data": {
      "text/plain": [
       "0.8920672368033029"
      ]
     },
     "execution_count": 19,
     "metadata": {},
     "output_type": "execute_result"
    }
   ],
   "execution_count": 19
  },
  {
   "metadata": {
    "ExecuteTime": {
     "end_time": "2024-09-04T18:53:58.903557Z",
     "start_time": "2024-09-04T18:53:58.893498Z"
    }
   },
   "cell_type": "code",
   "source": "print('ROC-AUC: ', roc_auc_score(y_test, y_predict_proba))",
   "id": "f01d8e97fb6f1197",
   "outputs": [
    {
     "name": "stdout",
     "output_type": "stream",
     "text": [
      "ROC-AUC:  0.8418998024116855\n"
     ]
    }
   ],
   "execution_count": 20
  },
  {
   "metadata": {},
   "cell_type": "code",
   "outputs": [],
   "execution_count": null,
   "source": "",
   "id": "d1a0ab588bd756c1"
  }
 ],
 "metadata": {
  "kernelspec": {
   "display_name": "Python 3",
   "language": "python",
   "name": "python3"
  },
  "language_info": {
   "codemirror_mode": {
    "name": "ipython",
    "version": 2
   },
   "file_extension": ".py",
   "mimetype": "text/x-python",
   "name": "python",
   "nbconvert_exporter": "python",
   "pygments_lexer": "ipython2",
   "version": "2.7.6"
  }
 },
 "nbformat": 4,
 "nbformat_minor": 5
}
