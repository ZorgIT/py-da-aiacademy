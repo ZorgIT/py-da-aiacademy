{
 "cells": [
  {
   "metadata": {},
   "cell_type": "markdown",
   "source": [
    "# Theory\n",
    "\n",
    " bank_full.csv. Этот набор данных специально собран для тех, кто делает первые шаги в Data Science. Внутри датасета признаки описывают клиента банка и взаимодействие между банком и клиентом.\n",
    "\n",
    "Информация о клиенте: \n",
    "\n",
    "- 1 - age (numeric) - возраст\n",
    "- 2 - job - тип работы\n",
    "- 3 - marital - семейное положение\n",
    "- 4 - education - уровень образования\n",
    "- 5 – balance: Уровень дохода\n",
    "- 6 - housing: Есть ли ипотека\n",
    "- 7 - loan: Есть ли кредит\n",
    "\n",
    "Информация по последнему контакту в текущей кампании: \n",
    "- 8 - contact: Тип коммуникации\n",
    "- 9 - day_of_week: день последнего контакта с клиентом\n",
    "- 10 - month: месяц последнего контакта с клиентом\n",
    "- 11 - duration: длительность последнего контакта, в секундах (numeric). \n",
    "\n",
    "Прочие признаки: \n",
    "- 12 - campaign: количество контактов с клиентом (numeric, includes last contact)\n",
    "- 13 - pdays: количество дней, которое прошло между последним и предпоследним контактом\n",
    "- 14 - previous: количество контактов с клиентом, исключая последний контакт (numeric)\n",
    "- 15 - poutcome: результаты последней рекламной компании \n",
    "\n",
    "Целевая переменная:\n",
    "- 16 - y - откроет ли клиент инвестиционный счет в нашем банке? (binary: 'yes','no') \n",
    "\n",
    "Отметим основные команды, которые мы использовали.\n",
    "\n",
    "Для разделения датасета на две части — часть для обучения и часть для проверки — используем метод train_test_split():\n",
    "\n",
    "      X_train, X_test, y_train, y_test = train_test_split(data.drop('y', axis=1), data['y'], test_size=0.2)\n",
    "\n",
    "Для создания модели логистической регрессии добавляем в программу соответствующий модуль и создаём модель конструктором LogisticRegression():\n",
    "\n",
    "      from sklearn.linear_model import LogisticRegression\n",
    "      LogReg = LogisticRegression()\n",
    "\n",
    "Для обучения модели используем метод fit():\n",
    "\n",
    "      LogReg.fit(X_train, y_train)\n",
    "\n",
    "После обучения понадобится метод predict(), чтобы предсказать класс для тестовой выборки и метод predict_proba(), чтобы предсказать вероятность принадлежности к тому или иному классу:\n",
    "\n",
    "      y_pred = LogReg.predict(X_test)\n",
    "      y_predict_proba = LogReg.predict_proba(X_test)[:,1]\n"
   ],
   "id": "7752e4877908ef93"
  },
  {
   "metadata": {
    "ExecuteTime": {
     "end_time": "2024-09-04T17:43:09.477217Z",
     "start_time": "2024-09-04T17:43:09.034674Z"
    }
   },
   "cell_type": "code",
   "source": "dsff\n",
   "id": "cad04d30c12226c3",
   "outputs": [
    {
     "ename": "NameError",
     "evalue": "name 'dsff' is not defined",
     "output_type": "error",
     "traceback": [
      "\u001B[1;31m---------------------------------------------------------------------------\u001B[0m",
      "\u001B[1;31mNameError\u001B[0m                                 Traceback (most recent call last)",
      "Cell \u001B[1;32mIn[1], line 1\u001B[0m\n\u001B[1;32m----> 1\u001B[0m \u001B[43mdsff\u001B[49m\n",
      "\u001B[1;31mNameError\u001B[0m: name 'dsff' is not defined"
     ]
    }
   ],
   "execution_count": 1
  },
  {
   "metadata": {},
   "cell_type": "code",
   "outputs": [],
   "execution_count": null,
   "source": "",
   "id": "698d34e9db822841"
  }
 ],
 "metadata": {
  "kernelspec": {
   "display_name": "Python 3",
   "language": "python",
   "name": "python3"
  },
  "language_info": {
   "codemirror_mode": {
    "name": "ipython",
    "version": 2
   },
   "file_extension": ".py",
   "mimetype": "text/x-python",
   "name": "python",
   "nbconvert_exporter": "python",
   "pygments_lexer": "ipython2",
   "version": "2.7.6"
  }
 },
 "nbformat": 4,
 "nbformat_minor": 5
}
