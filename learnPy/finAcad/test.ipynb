{
 "cells": [
  {
   "cell_type": "code",
   "metadata": {
    "colab": {
     "base_uri": "https://localhost:8080/"
    },
    "id": "lPwrzKTc70hE",
    "outputId": "f19d2e00-d16b-4fb6-832e-37ac21cacc6c",
    "ExecuteTime": {
     "end_time": "2024-11-01T11:47:55.662813Z",
     "start_time": "2024-11-01T11:47:51.407328Z"
    }
   },
   "source": [
    "!pip install -U kaleido"
   ],
   "outputs": [
    {
     "name": "stdout",
     "output_type": "stream",
     "text": [
      "Requirement already satisfied: kaleido in c:\\users\\render-pc\\.conda\\envs\\pythonda2\\lib\\site-packages (0.2.1)\n"
     ]
    }
   ],
   "execution_count": 13
  },
  {
   "cell_type": "code",
   "metadata": {
    "id": "xulvyqTp8BvZ",
    "ExecuteTime": {
     "end_time": "2024-11-01T11:48:03.485746Z",
     "start_time": "2024-11-01T11:47:59.359896Z"
    }
   },
   "source": [
    "pip install dash --quiet"
   ],
   "outputs": [
    {
     "name": "stdout",
     "output_type": "stream",
     "text": [
      "Note: you may need to restart the kernel to use updated packages.\n"
     ]
    }
   ],
   "execution_count": 14
  },
  {
   "cell_type": "code",
   "metadata": {
    "id": "HLsXn9WqMjiL",
    "ExecuteTime": {
     "end_time": "2024-11-01T11:48:32.253553Z",
     "start_time": "2024-11-01T11:48:09.920789Z"
    }
   },
   "source": "!pip install omnixai --quiet",
   "outputs": [
    {
     "name": "stderr",
     "output_type": "stream",
     "text": [
      "ERROR: pip's dependency resolver does not currently take into account all the packages that are installed. This behaviour is the source of the following dependency conflicts.\n",
      "mlflow 1.30.1 requires protobuf<5,>=3.12.0, which is not installed.\n",
      "tensorboard 2.10.0 requires protobuf<3.20,>=3.9.2, which is not installed.\n",
      "tensorboardx 2.6.2.2 requires protobuf>=3.20, which is not installed.\n"
     ]
    }
   ],
   "execution_count": 15
  },
  {
   "cell_type": "code",
   "metadata": {
    "id": "L8VUKp_XMlBB",
    "ExecuteTime": {
     "end_time": "2024-11-01T11:50:16.814539Z",
     "start_time": "2024-11-01T11:50:12.931798Z"
    }
   },
   "source": [
    "!pip install dash-bootstrap-components --quiet\n",
    "# После выполнения Перезапустить сеанс!"
   ],
   "outputs": [],
   "execution_count": 16
  },
  {
   "cell_type": "code",
   "metadata": {
    "colab": {
     "base_uri": "https://localhost:8080/"
    },
    "id": "GuW2NksOQXUY",
    "outputId": "b6f5f7cc-5ccb-4a08-fc04-bb0da68ebc2d",
    "ExecuteTime": {
     "end_time": "2024-11-01T11:50:28.048545Z",
     "start_time": "2024-11-01T11:50:18.512252Z"
    }
   },
   "source": [
    "!pip install pycaret[full]"
   ],
   "outputs": [
    {
     "name": "stdout",
     "output_type": "stream",
     "text": [
      "Requirement already satisfied: pycaret[full] in c:\\users\\render-pc\\.conda\\envs\\pythonda2\\lib\\site-packages (3.2.0)\n",
      "Requirement already satisfied: category-encoders>=2.4.0 in c:\\users\\render-pc\\.conda\\envs\\pythonda2\\lib\\site-packages (from pycaret[full]) (2.6.4)\n",
      "Requirement already satisfied: cloudpickle in c:\\users\\render-pc\\.conda\\envs\\pythonda2\\lib\\site-packages (from pycaret[full]) (2.2.1)\n",
      "Requirement already satisfied: deprecation>=2.1.0 in c:\\users\\render-pc\\.conda\\envs\\pythonda2\\lib\\site-packages (from pycaret[full]) (2.1.0)\n",
      "Requirement already satisfied: imbalanced-learn>=0.8.1 in c:\\users\\render-pc\\.conda\\envs\\pythonda2\\lib\\site-packages (from pycaret[full]) (0.12.4)\n",
      "Requirement already satisfied: importlib-metadata>=4.12.0 in c:\\users\\render-pc\\.conda\\envs\\pythonda2\\lib\\site-packages (from pycaret[full]) (5.2.0)\n",
      "Requirement already satisfied: ipython>=5.5.0 in c:\\users\\render-pc\\.conda\\envs\\pythonda2\\lib\\site-packages (from pycaret[full]) (8.12.2)\n",
      "Requirement already satisfied: ipywidgets>=7.6.5 in c:\\users\\render-pc\\.conda\\envs\\pythonda2\\lib\\site-packages (from pycaret[full]) (8.1.5)\n",
      "Requirement already satisfied: jinja2>=1.2 in c:\\users\\render-pc\\.conda\\envs\\pythonda2\\lib\\site-packages (from pycaret[full]) (3.1.4)\n",
      "Requirement already satisfied: joblib>=1.2.0 in c:\\users\\render-pc\\.conda\\envs\\pythonda2\\lib\\site-packages (from pycaret[full]) (1.4.2)\n",
      "Requirement already satisfied: kaleido>=0.2.1 in c:\\users\\render-pc\\.conda\\envs\\pythonda2\\lib\\site-packages (from pycaret[full]) (0.2.1)\n",
      "Requirement already satisfied: lightgbm>=3.0.0 in c:\\users\\render-pc\\.conda\\envs\\pythonda2\\lib\\site-packages (from pycaret[full]) (4.5.0)\n",
      "Requirement already satisfied: markupsafe>=2.0.1 in c:\\users\\render-pc\\.conda\\envs\\pythonda2\\lib\\site-packages (from pycaret[full]) (2.1.3)\n",
      "Requirement already satisfied: matplotlib<=3.6,>=3.3.0 in c:\\users\\render-pc\\.conda\\envs\\pythonda2\\lib\\site-packages (from pycaret[full]) (3.6.0)\n",
      "Requirement already satisfied: nbformat>=4.2.0 in c:\\users\\render-pc\\.conda\\envs\\pythonda2\\lib\\site-packages (from pycaret[full]) (5.9.2)\n",
      "Requirement already satisfied: numba>=0.55.0 in c:\\users\\render-pc\\.conda\\envs\\pythonda2\\lib\\site-packages (from pycaret[full]) (0.58.1)\n",
      "Requirement already satisfied: numpy<1.27,>=1.21 in c:\\users\\render-pc\\.conda\\envs\\pythonda2\\lib\\site-packages (from pycaret[full]) (1.23.5)\n",
      "Requirement already satisfied: pandas<2.0.0,>=1.3.0 in c:\\users\\render-pc\\.conda\\envs\\pythonda2\\lib\\site-packages (from pycaret[full]) (1.4.4)\n",
      "Requirement already satisfied: plotly-resampler>=0.8.3.1 in c:\\users\\render-pc\\.conda\\envs\\pythonda2\\lib\\site-packages (from pycaret[full]) (0.10.0)\n",
      "Requirement already satisfied: plotly>=5.0.0 in c:\\users\\render-pc\\.conda\\envs\\pythonda2\\lib\\site-packages (from pycaret[full]) (5.24.1)\n",
      "Requirement already satisfied: pmdarima!=1.8.1,<3.0.0,>=1.8.0 in c:\\users\\render-pc\\.conda\\envs\\pythonda2\\lib\\site-packages (from pycaret[full]) (2.0.4)\n",
      "Requirement already satisfied: psutil>=5.9.0 in c:\\users\\render-pc\\.conda\\envs\\pythonda2\\lib\\site-packages (from pycaret[full]) (5.9.0)\n",
      "Requirement already satisfied: pyod>=1.0.8 in c:\\users\\render-pc\\.conda\\envs\\pythonda2\\lib\\site-packages (from pycaret[full]) (2.0.2)\n",
      "Requirement already satisfied: requests>=2.27.1 in c:\\users\\render-pc\\.conda\\envs\\pythonda2\\lib\\site-packages (from pycaret[full]) (2.32.3)\n",
      "Requirement already satisfied: schemdraw==0.15 in c:\\users\\render-pc\\.conda\\envs\\pythonda2\\lib\\site-packages (from pycaret[full]) (0.15)\n",
      "Requirement already satisfied: scikit-learn<1.3.0,>=1.0 in c:\\users\\render-pc\\.conda\\envs\\pythonda2\\lib\\site-packages (from pycaret[full]) (1.1.3)\n",
      "Requirement already satisfied: scikit-plot>=0.3.7 in c:\\users\\render-pc\\.conda\\envs\\pythonda2\\lib\\site-packages (from pycaret[full]) (0.3.7)\n",
      "Requirement already satisfied: scipy~=1.10.1 in c:\\users\\render-pc\\.conda\\envs\\pythonda2\\lib\\site-packages (from pycaret[full]) (1.10.1)\n",
      "Requirement already satisfied: sktime!=0.17.1,!=0.17.2,!=0.18.0,<0.22.0,>=0.16.1 in c:\\users\\render-pc\\.conda\\envs\\pythonda2\\lib\\site-packages (from pycaret[full]) (0.21.1)\n",
      "Requirement already satisfied: statsmodels>=0.12.1 in c:\\users\\render-pc\\.conda\\envs\\pythonda2\\lib\\site-packages (from pycaret[full]) (0.13.5)\n",
      "Requirement already satisfied: tbats>=1.1.3 in c:\\users\\render-pc\\.conda\\envs\\pythonda2\\lib\\site-packages (from pycaret[full]) (1.1.3)\n",
      "Requirement already satisfied: tqdm>=4.62.0 in c:\\users\\render-pc\\.conda\\envs\\pythonda2\\lib\\site-packages (from pycaret[full]) (4.66.5)\n",
      "Requirement already satisfied: xxhash in c:\\users\\render-pc\\.conda\\envs\\pythonda2\\lib\\site-packages (from pycaret[full]) (3.5.0)\n",
      "Requirement already satisfied: yellowbrick>=1.4 in c:\\users\\render-pc\\.conda\\envs\\pythonda2\\lib\\site-packages (from pycaret[full]) (1.5)\n",
      "Requirement already satisfied: Flask==2.2.3 in c:\\users\\render-pc\\.conda\\envs\\pythonda2\\lib\\site-packages (from pycaret[full]) (2.2.3)\n",
      "Requirement already satisfied: Werkzeug<3.0,>=2.2 in c:\\users\\render-pc\\.conda\\envs\\pythonda2\\lib\\site-packages (from pycaret[full]) (2.3.8)\n",
      "Requirement already satisfied: boto3>=1.24.56 in c:\\users\\render-pc\\.conda\\envs\\pythonda2\\lib\\site-packages (from pycaret[full]) (1.35.53)\n",
      "Requirement already satisfied: dash[testing] in c:\\users\\render-pc\\.conda\\envs\\pythonda2\\lib\\site-packages (from pycaret[full]) (2.18.1)\n",
      "Requirement already satisfied: evidently<0.3,>=0.1.45.dev0 in c:\\users\\render-pc\\.conda\\envs\\pythonda2\\lib\\site-packages (from pycaret[full]) (0.2.8)\n",
      "Requirement already satisfied: explainerdashboard>=0.3.8 in c:\\users\\render-pc\\.conda\\envs\\pythonda2\\lib\\site-packages (from pycaret[full]) (0.4.7)\n",
      "Requirement already satisfied: fairlearn==0.7.0 in c:\\users\\render-pc\\.conda\\envs\\pythonda2\\lib\\site-packages (from pycaret[full]) (0.7.0)\n",
      "Requirement already satisfied: fastapi>=0.75.0 in c:\\users\\render-pc\\.conda\\envs\\pythonda2\\lib\\site-packages (from pycaret[full]) (0.115.4)\n",
      "Requirement already satisfied: fugue>=0.8.0 in c:\\users\\render-pc\\.conda\\envs\\pythonda2\\lib\\site-packages (from pycaret[full]) (0.8.6)\n",
      "Requirement already satisfied: gradio>=2.8.10 in c:\\users\\render-pc\\.conda\\envs\\pythonda2\\lib\\site-packages (from pycaret[full]) (3.50.2)\n",
      "Requirement already satisfied: hyperopt>=0.2.7 in c:\\users\\render-pc\\.conda\\envs\\pythonda2\\lib\\site-packages (from pycaret[full]) (0.2.7)\n",
      "Requirement already satisfied: interpret>=0.2.7 in c:\\users\\render-pc\\.conda\\envs\\pythonda2\\lib\\site-packages (from pycaret[full]) (0.6.5)\n",
      "Requirement already satisfied: kmodes>=0.11.1 in c:\\users\\render-pc\\.conda\\envs\\pythonda2\\lib\\site-packages (from pycaret[full]) (0.12.2)\n",
      "Requirement already satisfied: m2cgen>=0.9.0 in c:\\users\\render-pc\\.conda\\envs\\pythonda2\\lib\\site-packages (from pycaret[full]) (0.10.0)\n",
      "Requirement already satisfied: mlflow<2.0.0,>=1.24.0 in c:\\users\\render-pc\\.conda\\envs\\pythonda2\\lib\\site-packages (from pycaret[full]) (1.30.1)\n",
      "Requirement already satisfied: mlxtend>=0.19.0 in c:\\users\\render-pc\\.conda\\envs\\pythonda2\\lib\\site-packages (from pycaret[full]) (0.23.1)\n",
      "Requirement already satisfied: moto>=3.0.7 in c:\\users\\render-pc\\.conda\\envs\\pythonda2\\lib\\site-packages (from pycaret[full]) (5.0.18)\n",
      "Requirement already satisfied: optuna>=3.0.0 in c:\\users\\render-pc\\.conda\\envs\\pythonda2\\lib\\site-packages (from pycaret[full]) (4.0.0)\n",
      "Requirement already satisfied: pytest>=7.0.1 in c:\\users\\render-pc\\.conda\\envs\\pythonda2\\lib\\site-packages (from pycaret[full]) (8.3.3)\n",
      "Requirement already satisfied: scikit-optimize>=0.9.0 in c:\\users\\render-pc\\.conda\\envs\\pythonda2\\lib\\site-packages (from pycaret[full]) (0.10.2)\n",
      "Requirement already satisfied: shap>=0.38.0 in c:\\users\\render-pc\\.conda\\envs\\pythonda2\\lib\\site-packages (from pycaret[full]) (0.44.1)\n",
      "Requirement already satisfied: statsforecast<1.6.0,>=0.5.5 in c:\\users\\render-pc\\.conda\\envs\\pythonda2\\lib\\site-packages (from pycaret[full]) (1.5.0)\n",
      "Requirement already satisfied: triad<=0.9.1 in c:\\users\\render-pc\\.conda\\envs\\pythonda2\\lib\\site-packages (from pycaret[full]) (0.9.1)\n",
      "Requirement already satisfied: umap-learn>=0.5.2 in c:\\users\\render-pc\\.conda\\envs\\pythonda2\\lib\\site-packages (from pycaret[full]) (0.5.7)\n",
      "Requirement already satisfied: uvicorn>=0.17.6 in c:\\users\\render-pc\\.conda\\envs\\pythonda2\\lib\\site-packages (from pycaret[full]) (0.32.0)\n",
      "Requirement already satisfied: ydata-profiling>=4.3.1 in c:\\users\\render-pc\\.conda\\envs\\pythonda2\\lib\\site-packages (from pycaret[full]) (4.6.0)\n",
      "Requirement already satisfied: scikit-learn-intelex>=2023.0.1 in c:\\users\\render-pc\\.conda\\envs\\pythonda2\\lib\\site-packages (from pycaret[full]) (2024.5.0)\n",
      "Requirement already satisfied: catboost>=0.23.2 in c:\\users\\render-pc\\.conda\\envs\\pythonda2\\lib\\site-packages (from pycaret[full]) (1.2.7)\n",
      "Requirement already satisfied: ray>=1.0.0 in c:\\users\\render-pc\\.conda\\envs\\pythonda2\\lib\\site-packages (from ray[tune]>=1.0.0; (python_version != \"3.11\" or platform_system != \"Windows\") and extra == \"full\"->pycaret[full]) (2.10.0)\n",
      "Requirement already satisfied: tune-sklearn>=0.2.1 in c:\\users\\render-pc\\.conda\\envs\\pythonda2\\lib\\site-packages (from pycaret[full]) (0.5.0)\n",
      "Requirement already satisfied: xgboost>=1.1.0 in c:\\users\\render-pc\\.conda\\envs\\pythonda2\\lib\\site-packages (from pycaret[full]) (2.1.2)\n",
      "Requirement already satisfied: itsdangerous>=2.0 in c:\\users\\render-pc\\.conda\\envs\\pythonda2\\lib\\site-packages (from Flask==2.2.3->pycaret[full]) (2.2.0)\n",
      "Requirement already satisfied: click>=8.0 in c:\\users\\render-pc\\.conda\\envs\\pythonda2\\lib\\site-packages (from Flask==2.2.3->pycaret[full]) (8.1.7)\n",
      "Requirement already satisfied: botocore<1.36.0,>=1.35.53 in c:\\users\\render-pc\\.conda\\envs\\pythonda2\\lib\\site-packages (from boto3>=1.24.56->pycaret[full]) (1.35.53)\n",
      "Requirement already satisfied: jmespath<2.0.0,>=0.7.1 in c:\\users\\render-pc\\.conda\\envs\\pythonda2\\lib\\site-packages (from boto3>=1.24.56->pycaret[full]) (1.0.1)\n",
      "Requirement already satisfied: s3transfer<0.11.0,>=0.10.0 in c:\\users\\render-pc\\.conda\\envs\\pythonda2\\lib\\site-packages (from boto3>=1.24.56->pycaret[full]) (0.10.3)\n",
      "Requirement already satisfied: graphviz in c:\\users\\render-pc\\.conda\\envs\\pythonda2\\lib\\site-packages (from catboost>=0.23.2->pycaret[full]) (0.20.3)\n",
      "Requirement already satisfied: six in c:\\users\\render-pc\\.conda\\envs\\pythonda2\\lib\\site-packages (from catboost>=0.23.2->pycaret[full]) (1.16.0)\n",
      "Requirement already satisfied: patsy>=0.5.1 in c:\\users\\render-pc\\.conda\\envs\\pythonda2\\lib\\site-packages (from category-encoders>=2.4.0->pycaret[full]) (0.5.6)\n",
      "Requirement already satisfied: importlib-resources in c:\\users\\render-pc\\.conda\\envs\\pythonda2\\lib\\site-packages (from category-encoders>=2.4.0->pycaret[full]) (6.4.0)\n",
      "Requirement already satisfied: packaging in c:\\users\\render-pc\\.conda\\envs\\pythonda2\\lib\\site-packages (from deprecation>=2.1.0->pycaret[full]) (21.3)\n",
      "Requirement already satisfied: nltk>=3.6.7 in c:\\users\\render-pc\\.conda\\envs\\pythonda2\\lib\\site-packages (from evidently<0.3,>=0.1.45.dev0->pycaret[full]) (3.9.1)\n",
      "Requirement already satisfied: PyYAML>=5.1 in c:\\users\\render-pc\\.conda\\envs\\pythonda2\\lib\\site-packages (from evidently<0.3,>=0.1.45.dev0->pycaret[full]) (6.0.1)\n",
      "Requirement already satisfied: pydantic<2 in c:\\users\\render-pc\\.conda\\envs\\pythonda2\\lib\\site-packages (from evidently<0.3,>=0.1.45.dev0->pycaret[full]) (1.10.18)\n",
      "Requirement already satisfied: dash-auth in c:\\users\\render-pc\\.conda\\envs\\pythonda2\\lib\\site-packages (from explainerdashboard>=0.3.8->pycaret[full]) (2.3.0)\n",
      "Requirement already satisfied: dash-bootstrap-components>=1 in c:\\users\\render-pc\\.conda\\envs\\pythonda2\\lib\\site-packages (from explainerdashboard>=0.3.8->pycaret[full]) (1.6.0)\n",
      "Requirement already satisfied: dtreeviz>=2.1 in c:\\users\\render-pc\\.conda\\envs\\pythonda2\\lib\\site-packages (from explainerdashboard>=0.3.8->pycaret[full]) (2.2.2)\n",
      "Requirement already satisfied: flask-simplelogin in c:\\users\\render-pc\\.conda\\envs\\pythonda2\\lib\\site-packages (from explainerdashboard>=0.3.8->pycaret[full]) (0.2.0)\n",
      "Requirement already satisfied: Flask-WTF>=1.1 in c:\\users\\render-pc\\.conda\\envs\\pythonda2\\lib\\site-packages (from explainerdashboard>=0.3.8->pycaret[full]) (1.2.1)\n",
      "Requirement already satisfied: jupyter-dash>=0.4.1 in c:\\users\\render-pc\\.conda\\envs\\pythonda2\\lib\\site-packages (from explainerdashboard>=0.3.8->pycaret[full]) (0.4.2)\n",
      "Requirement already satisfied: oyaml in c:\\users\\render-pc\\.conda\\envs\\pythonda2\\lib\\site-packages (from explainerdashboard>=0.3.8->pycaret[full]) (1.0)\n",
      "Requirement already satisfied: waitress in c:\\users\\render-pc\\.conda\\envs\\pythonda2\\lib\\site-packages (from explainerdashboard>=0.3.8->pycaret[full]) (2.1.2)\n",
      "Requirement already satisfied: starlette<0.42.0,>=0.40.0 in c:\\users\\render-pc\\.conda\\envs\\pythonda2\\lib\\site-packages (from fastapi>=0.75.0->pycaret[full]) (0.41.2)\n",
      "Requirement already satisfied: typing-extensions>=4.8.0 in c:\\users\\render-pc\\.conda\\envs\\pythonda2\\lib\\site-packages (from fastapi>=0.75.0->pycaret[full]) (4.11.0)\n",
      "Requirement already satisfied: adagio>=0.2.4 in c:\\users\\render-pc\\.conda\\envs\\pythonda2\\lib\\site-packages (from fugue>=0.8.0->pycaret[full]) (0.2.6)\n",
      "Requirement already satisfied: pyarrow>=0.15.1 in c:\\users\\render-pc\\.conda\\envs\\pythonda2\\lib\\site-packages (from fugue>=0.8.0->pycaret[full]) (17.0.0)\n",
      "Requirement already satisfied: qpd>=0.4.4 in c:\\users\\render-pc\\.conda\\envs\\pythonda2\\lib\\site-packages (from fugue>=0.8.0->pycaret[full]) (0.4.4)\n",
      "Requirement already satisfied: fugue-sql-antlr>=0.1.6 in c:\\users\\render-pc\\.conda\\envs\\pythonda2\\lib\\site-packages (from fugue>=0.8.0->pycaret[full]) (0.2.2)\n",
      "Requirement already satisfied: sqlglot in c:\\users\\render-pc\\.conda\\envs\\pythonda2\\lib\\site-packages (from fugue>=0.8.0->pycaret[full]) (25.28.0)\n",
      "Requirement already satisfied: dask<2023.7.1,>=2022.9.0 in c:\\users\\render-pc\\.conda\\envs\\pythonda2\\lib\\site-packages (from dask[dataframe,distributed]<2023.7.1,>=2022.9.0; python_version >= \"3.8\" and extra == \"dask\"->fugue[dask]>=0.8.0; extra == \"full\"->pycaret[full]) (2023.5.0)\n",
      "Requirement already satisfied: aiofiles<24.0,>=22.0 in c:\\users\\render-pc\\.conda\\envs\\pythonda2\\lib\\site-packages (from gradio>=2.8.10->pycaret[full]) (23.2.1)\n",
      "Requirement already satisfied: altair<6.0,>=4.2.0 in c:\\users\\render-pc\\.conda\\envs\\pythonda2\\lib\\site-packages (from gradio>=2.8.10->pycaret[full]) (5.4.1)\n",
      "Requirement already satisfied: ffmpy in c:\\users\\render-pc\\.conda\\envs\\pythonda2\\lib\\site-packages (from gradio>=2.8.10->pycaret[full]) (0.4.0)\n",
      "Requirement already satisfied: gradio-client==0.6.1 in c:\\users\\render-pc\\.conda\\envs\\pythonda2\\lib\\site-packages (from gradio>=2.8.10->pycaret[full]) (0.6.1)\n",
      "Requirement already satisfied: httpx in c:\\users\\render-pc\\.conda\\envs\\pythonda2\\lib\\site-packages (from gradio>=2.8.10->pycaret[full]) (0.27.0)\n",
      "Requirement already satisfied: huggingface-hub>=0.14.0 in c:\\users\\render-pc\\.conda\\envs\\pythonda2\\lib\\site-packages (from gradio>=2.8.10->pycaret[full]) (0.26.2)\n",
      "Requirement already satisfied: orjson~=3.0 in c:\\users\\render-pc\\.conda\\envs\\pythonda2\\lib\\site-packages (from gradio>=2.8.10->pycaret[full]) (3.10.10)\n",
      "Requirement already satisfied: pillow<11.0,>=8.0 in c:\\users\\render-pc\\.conda\\envs\\pythonda2\\lib\\site-packages (from gradio>=2.8.10->pycaret[full]) (9.5.0)\n",
      "Requirement already satisfied: pydub in c:\\users\\render-pc\\.conda\\envs\\pythonda2\\lib\\site-packages (from gradio>=2.8.10->pycaret[full]) (0.25.1)\n",
      "Requirement already satisfied: python-multipart in c:\\users\\render-pc\\.conda\\envs\\pythonda2\\lib\\site-packages (from gradio>=2.8.10->pycaret[full]) (0.0.17)\n",
      "Requirement already satisfied: semantic-version~=2.0 in c:\\users\\render-pc\\.conda\\envs\\pythonda2\\lib\\site-packages (from gradio>=2.8.10->pycaret[full]) (2.10.0)\n",
      "Requirement already satisfied: websockets<12.0,>=10.0 in c:\\users\\render-pc\\.conda\\envs\\pythonda2\\lib\\site-packages (from gradio>=2.8.10->pycaret[full]) (11.0.3)\n",
      "Requirement already satisfied: fsspec in c:\\users\\render-pc\\.conda\\envs\\pythonda2\\lib\\site-packages (from gradio-client==0.6.1->gradio>=2.8.10->pycaret[full]) (2024.10.0)\n",
      "Requirement already satisfied: networkx>=2.2 in c:\\users\\render-pc\\.conda\\envs\\pythonda2\\lib\\site-packages (from hyperopt>=0.2.7->pycaret[full]) (3.1)\n",
      "Requirement already satisfied: future in c:\\users\\render-pc\\.conda\\envs\\pythonda2\\lib\\site-packages (from hyperopt>=0.2.7->pycaret[full]) (1.0.0)\n",
      "Requirement already satisfied: py4j in c:\\users\\render-pc\\.conda\\envs\\pythonda2\\lib\\site-packages (from hyperopt>=0.2.7->pycaret[full]) (0.10.9.7)\n",
      "Requirement already satisfied: threadpoolctl>=2.0.0 in c:\\users\\render-pc\\.conda\\envs\\pythonda2\\lib\\site-packages (from imbalanced-learn>=0.8.1->pycaret[full]) (3.5.0)\n",
      "Requirement already satisfied: zipp>=0.5 in c:\\users\\render-pc\\.conda\\envs\\pythonda2\\lib\\site-packages (from importlib-metadata>=4.12.0->pycaret[full]) (3.17.0)\n",
      "Requirement already satisfied: interpret-core==0.6.5 in c:\\users\\render-pc\\.conda\\envs\\pythonda2\\lib\\site-packages (from interpret-core[aplr,dash,debug,linear,notebook,plotly,sensitivity,shap]==0.6.5->interpret>=0.2.7->pycaret[full]) (0.6.5)\n",
      "Requirement already satisfied: dill>=0.2.5 in c:\\users\\render-pc\\.conda\\envs\\pythonda2\\lib\\site-packages (from interpret-core[aplr,dash,debug,linear,notebook,plotly,sensitivity,shap]==0.6.5->interpret>=0.2.7->pycaret[full]) (0.3.9)\n",
      "Requirement already satisfied: aplr>=10.6.1 in c:\\users\\render-pc\\.conda\\envs\\pythonda2\\lib\\site-packages (from interpret-core[aplr,dash,debug,linear,notebook,plotly,sensitivity,shap]==0.6.5->interpret>=0.2.7->pycaret[full]) (10.7.1)\n",
      "Requirement already satisfied: SALib>=1.3.3 in c:\\users\\render-pc\\.conda\\envs\\pythonda2\\lib\\site-packages (from interpret-core[aplr,dash,debug,linear,notebook,plotly,sensitivity,shap]==0.6.5->interpret>=0.2.7->pycaret[full]) (1.4.8)\n",
      "Requirement already satisfied: ipykernel>=4.10.0 in c:\\users\\render-pc\\.conda\\envs\\pythonda2\\lib\\site-packages (from interpret-core[aplr,dash,debug,linear,notebook,plotly,sensitivity,shap]==0.6.5->interpret>=0.2.7->pycaret[full]) (6.28.0)\n",
      "Requirement already satisfied: dash-core-components>=1.0.0 in c:\\users\\render-pc\\.conda\\envs\\pythonda2\\lib\\site-packages (from interpret-core[aplr,dash,debug,linear,notebook,plotly,sensitivity,shap]==0.6.5->interpret>=0.2.7->pycaret[full]) (2.0.0)\n",
      "Requirement already satisfied: dash-html-components>=1.0.0 in c:\\users\\render-pc\\.conda\\envs\\pythonda2\\lib\\site-packages (from interpret-core[aplr,dash,debug,linear,notebook,plotly,sensitivity,shap]==0.6.5->interpret>=0.2.7->pycaret[full]) (2.0.0)\n",
      "Requirement already satisfied: dash-table>=4.1.0 in c:\\users\\render-pc\\.conda\\envs\\pythonda2\\lib\\site-packages (from interpret-core[aplr,dash,debug,linear,notebook,plotly,sensitivity,shap]==0.6.5->interpret>=0.2.7->pycaret[full]) (5.0.0)\n",
      "Requirement already satisfied: dash-cytoscape>=0.1.1 in c:\\users\\render-pc\\.conda\\envs\\pythonda2\\lib\\site-packages (from interpret-core[aplr,dash,debug,linear,notebook,plotly,sensitivity,shap]==0.6.5->interpret>=0.2.7->pycaret[full]) (1.0.2)\n",
      "Requirement already satisfied: gevent>=1.3.6 in c:\\users\\render-pc\\.conda\\envs\\pythonda2\\lib\\site-packages (from interpret-core[aplr,dash,debug,linear,notebook,plotly,sensitivity,shap]==0.6.5->interpret>=0.2.7->pycaret[full]) (24.2.1)\n",
      "Requirement already satisfied: backcall in c:\\users\\render-pc\\.conda\\envs\\pythonda2\\lib\\site-packages (from ipython>=5.5.0->pycaret[full]) (0.2.0)\n",
      "Requirement already satisfied: decorator in c:\\users\\render-pc\\.conda\\envs\\pythonda2\\lib\\site-packages (from ipython>=5.5.0->pycaret[full]) (5.1.1)\n",
      "Requirement already satisfied: jedi>=0.16 in c:\\users\\render-pc\\.conda\\envs\\pythonda2\\lib\\site-packages (from ipython>=5.5.0->pycaret[full]) (0.19.1)\n",
      "Requirement already satisfied: matplotlib-inline in c:\\users\\render-pc\\.conda\\envs\\pythonda2\\lib\\site-packages (from ipython>=5.5.0->pycaret[full]) (0.1.6)\n",
      "Requirement already satisfied: pickleshare in c:\\users\\render-pc\\.conda\\envs\\pythonda2\\lib\\site-packages (from ipython>=5.5.0->pycaret[full]) (0.7.5)\n",
      "Requirement already satisfied: prompt-toolkit!=3.0.37,<3.1.0,>=3.0.30 in c:\\users\\render-pc\\.conda\\envs\\pythonda2\\lib\\site-packages (from ipython>=5.5.0->pycaret[full]) (3.0.43)\n",
      "Requirement already satisfied: pygments>=2.4.0 in c:\\users\\render-pc\\.conda\\envs\\pythonda2\\lib\\site-packages (from ipython>=5.5.0->pycaret[full]) (2.15.1)\n",
      "Requirement already satisfied: stack-data in c:\\users\\render-pc\\.conda\\envs\\pythonda2\\lib\\site-packages (from ipython>=5.5.0->pycaret[full]) (0.2.0)\n",
      "Requirement already satisfied: traitlets>=5 in c:\\users\\render-pc\\.conda\\envs\\pythonda2\\lib\\site-packages (from ipython>=5.5.0->pycaret[full]) (5.14.3)\n",
      "Requirement already satisfied: colorama in c:\\users\\render-pc\\.conda\\envs\\pythonda2\\lib\\site-packages (from ipython>=5.5.0->pycaret[full]) (0.4.6)\n",
      "Requirement already satisfied: comm>=0.1.3 in c:\\users\\render-pc\\.conda\\envs\\pythonda2\\lib\\site-packages (from ipywidgets>=7.6.5->pycaret[full]) (0.2.1)\n",
      "Requirement already satisfied: widgetsnbextension~=4.0.12 in c:\\users\\render-pc\\.conda\\envs\\pythonda2\\lib\\site-packages (from ipywidgets>=7.6.5->pycaret[full]) (4.0.13)\n",
      "Requirement already satisfied: jupyterlab-widgets~=3.0.12 in c:\\users\\render-pc\\.conda\\envs\\pythonda2\\lib\\site-packages (from ipywidgets>=7.6.5->pycaret[full]) (3.0.13)\n",
      "Requirement already satisfied: contourpy>=1.0.1 in c:\\users\\render-pc\\.conda\\envs\\pythonda2\\lib\\site-packages (from matplotlib<=3.6,>=3.3.0->pycaret[full]) (1.0.5)\n",
      "Requirement already satisfied: cycler>=0.10 in c:\\users\\render-pc\\.conda\\envs\\pythonda2\\lib\\site-packages (from matplotlib<=3.6,>=3.3.0->pycaret[full]) (0.11.0)\n",
      "Requirement already satisfied: fonttools>=4.22.0 in c:\\users\\render-pc\\.conda\\envs\\pythonda2\\lib\\site-packages (from matplotlib<=3.6,>=3.3.0->pycaret[full]) (4.51.0)\n",
      "Requirement already satisfied: kiwisolver>=1.0.1 in c:\\users\\render-pc\\.conda\\envs\\pythonda2\\lib\\site-packages (from matplotlib<=3.6,>=3.3.0->pycaret[full]) (1.4.4)\n",
      "Requirement already satisfied: pyparsing>=2.2.1 in c:\\users\\render-pc\\.conda\\envs\\pythonda2\\lib\\site-packages (from matplotlib<=3.6,>=3.3.0->pycaret[full]) (3.1.2)\n",
      "Requirement already satisfied: python-dateutil>=2.7 in c:\\users\\render-pc\\.conda\\envs\\pythonda2\\lib\\site-packages (from matplotlib<=3.6,>=3.3.0->pycaret[full]) (2.9.0.post0)\n",
      "Requirement already satisfied: databricks-cli<1,>=0.8.7 in c:\\users\\render-pc\\.conda\\envs\\pythonda2\\lib\\site-packages (from mlflow<2.0.0,>=1.24.0->pycaret[full]) (0.18.0)\n",
      "Requirement already satisfied: entrypoints<1 in c:\\users\\render-pc\\.conda\\envs\\pythonda2\\lib\\site-packages (from mlflow<2.0.0,>=1.24.0->pycaret[full]) (0.4)\n",
      "Requirement already satisfied: gitpython<4,>=2.1.0 in c:\\users\\render-pc\\.conda\\envs\\pythonda2\\lib\\site-packages (from mlflow<2.0.0,>=1.24.0->pycaret[full]) (3.1.43)\n",
      "Collecting protobuf<5,>=3.12.0 (from mlflow<2.0.0,>=1.24.0->pycaret[full])\n",
      "  Downloading protobuf-4.25.5-cp38-cp38-win_amd64.whl.metadata (541 bytes)\n",
      "Requirement already satisfied: pytz<2023 in c:\\users\\render-pc\\.conda\\envs\\pythonda2\\lib\\site-packages (from mlflow<2.0.0,>=1.24.0->pycaret[full]) (2022.7.1)\n",
      "Requirement already satisfied: sqlparse<1,>=0.4.0 in c:\\users\\render-pc\\.conda\\envs\\pythonda2\\lib\\site-packages (from mlflow<2.0.0,>=1.24.0->pycaret[full]) (0.5.1)\n",
      "Requirement already satisfied: alembic<2 in c:\\users\\render-pc\\.conda\\envs\\pythonda2\\lib\\site-packages (from mlflow<2.0.0,>=1.24.0->pycaret[full]) (1.13.3)\n",
      "Requirement already satisfied: docker<7,>=4.0.0 in c:\\users\\render-pc\\.conda\\envs\\pythonda2\\lib\\site-packages (from mlflow<2.0.0,>=1.24.0->pycaret[full]) (6.1.3)\n",
      "Requirement already satisfied: prometheus-flask-exporter<1 in c:\\users\\render-pc\\.conda\\envs\\pythonda2\\lib\\site-packages (from mlflow<2.0.0,>=1.24.0->pycaret[full]) (0.23.1)\n",
      "Requirement already satisfied: querystring-parser<2 in c:\\users\\render-pc\\.conda\\envs\\pythonda2\\lib\\site-packages (from mlflow<2.0.0,>=1.24.0->pycaret[full]) (1.2.4)\n",
      "Requirement already satisfied: sqlalchemy<2,>=1.4.0 in c:\\users\\render-pc\\.conda\\envs\\pythonda2\\lib\\site-packages (from mlflow<2.0.0,>=1.24.0->pycaret[full]) (1.4.54)\n",
      "Requirement already satisfied: cryptography>=3.3.1 in c:\\users\\render-pc\\.conda\\envs\\pythonda2\\lib\\site-packages (from moto>=3.0.7->pycaret[full]) (43.0.0)\n",
      "Requirement already satisfied: xmltodict in c:\\users\\render-pc\\.conda\\envs\\pythonda2\\lib\\site-packages (from moto>=3.0.7->pycaret[full]) (0.14.2)\n",
      "Requirement already satisfied: responses>=0.15.0 in c:\\users\\render-pc\\.conda\\envs\\pythonda2\\lib\\site-packages (from moto>=3.0.7->pycaret[full]) (0.25.3)\n",
      "Requirement already satisfied: fastjsonschema in c:\\users\\render-pc\\.conda\\envs\\pythonda2\\lib\\site-packages (from nbformat>=4.2.0->pycaret[full]) (2.16.2)\n",
      "Requirement already satisfied: jsonschema>=2.6 in c:\\users\\render-pc\\.conda\\envs\\pythonda2\\lib\\site-packages (from nbformat>=4.2.0->pycaret[full]) (4.19.2)\n",
      "Requirement already satisfied: jupyter-core in c:\\users\\render-pc\\.conda\\envs\\pythonda2\\lib\\site-packages (from nbformat>=4.2.0->pycaret[full]) (5.7.2)\n",
      "Requirement already satisfied: llvmlite<0.42,>=0.41.0dev0 in c:\\users\\render-pc\\.conda\\envs\\pythonda2\\lib\\site-packages (from numba>=0.55.0->pycaret[full]) (0.41.1)\n",
      "Requirement already satisfied: colorlog in c:\\users\\render-pc\\.conda\\envs\\pythonda2\\lib\\site-packages (from optuna>=3.0.0->pycaret[full]) (6.9.0)\n",
      "Requirement already satisfied: tenacity>=6.2.0 in c:\\users\\render-pc\\.conda\\envs\\pythonda2\\lib\\site-packages (from plotly>=5.0.0->pycaret[full]) (9.0.0)\n",
      "Requirement already satisfied: tsdownsample>=0.1.3 in c:\\users\\render-pc\\.conda\\envs\\pythonda2\\lib\\site-packages (from plotly-resampler>=0.8.3.1->pycaret[full]) (0.1.3)\n",
      "Requirement already satisfied: Cython!=0.29.18,!=0.29.31,>=0.29 in c:\\users\\render-pc\\.conda\\envs\\pythonda2\\lib\\site-packages (from pmdarima!=1.8.1,<3.0.0,>=1.8.0->pycaret[full]) (3.0.11)\n",
      "Requirement already satisfied: urllib3 in c:\\users\\render-pc\\.conda\\envs\\pythonda2\\lib\\site-packages (from pmdarima!=1.8.1,<3.0.0,>=1.8.0->pycaret[full]) (1.26.20)\n",
      "Requirement already satisfied: setuptools!=50.0.0,>=38.6.0 in c:\\users\\render-pc\\.conda\\envs\\pythonda2\\lib\\site-packages (from pmdarima!=1.8.1,<3.0.0,>=1.8.0->pycaret[full]) (75.1.0)\n",
      "Requirement already satisfied: iniconfig in c:\\users\\render-pc\\.conda\\envs\\pythonda2\\lib\\site-packages (from pytest>=7.0.1->pycaret[full]) (2.0.0)\n",
      "Requirement already satisfied: pluggy<2,>=1.5 in c:\\users\\render-pc\\.conda\\envs\\pythonda2\\lib\\site-packages (from pytest>=7.0.1->pycaret[full]) (1.5.0)\n",
      "Requirement already satisfied: exceptiongroup>=1.0.0rc8 in c:\\users\\render-pc\\.conda\\envs\\pythonda2\\lib\\site-packages (from pytest>=7.0.1->pycaret[full]) (1.2.0)\n",
      "Requirement already satisfied: tomli>=1 in c:\\users\\render-pc\\.conda\\envs\\pythonda2\\lib\\site-packages (from pytest>=7.0.1->pycaret[full]) (2.0.1)\n",
      "Requirement already satisfied: filelock in c:\\users\\render-pc\\.conda\\envs\\pythonda2\\lib\\site-packages (from ray>=1.0.0->ray[tune]>=1.0.0; (python_version != \"3.11\" or platform_system != \"Windows\") and extra == \"full\"->pycaret[full]) (3.16.1)\n",
      "Requirement already satisfied: msgpack<2.0.0,>=1.0.0 in c:\\users\\render-pc\\.conda\\envs\\pythonda2\\lib\\site-packages (from ray>=1.0.0->ray[tune]>=1.0.0; (python_version != \"3.11\" or platform_system != \"Windows\") and extra == \"full\"->pycaret[full]) (1.1.0)\n",
      "Requirement already satisfied: aiosignal in c:\\users\\render-pc\\.conda\\envs\\pythonda2\\lib\\site-packages (from ray>=1.0.0->ray[tune]>=1.0.0; (python_version != \"3.11\" or platform_system != \"Windows\") and extra == \"full\"->pycaret[full]) (1.2.0)\n",
      "Requirement already satisfied: frozenlist in c:\\users\\render-pc\\.conda\\envs\\pythonda2\\lib\\site-packages (from ray>=1.0.0->ray[tune]>=1.0.0; (python_version != \"3.11\" or platform_system != \"Windows\") and extra == \"full\"->pycaret[full]) (1.4.0)\n",
      "Requirement already satisfied: tensorboardX>=1.9 in c:\\users\\render-pc\\.conda\\envs\\pythonda2\\lib\\site-packages (from ray[tune]>=1.0.0; (python_version != \"3.11\" or platform_system != \"Windows\") and extra == \"full\"->pycaret[full]) (2.6.2.2)\n",
      "Requirement already satisfied: charset-normalizer<4,>=2 in c:\\users\\render-pc\\.conda\\envs\\pythonda2\\lib\\site-packages (from requests>=2.27.1->pycaret[full]) (3.3.2)\n",
      "Requirement already satisfied: idna<4,>=2.5 in c:\\users\\render-pc\\.conda\\envs\\pythonda2\\lib\\site-packages (from requests>=2.27.1->pycaret[full]) (3.7)\n",
      "Requirement already satisfied: certifi>=2017.4.17 in c:\\users\\render-pc\\.conda\\envs\\pythonda2\\lib\\site-packages (from requests>=2.27.1->pycaret[full]) (2024.8.30)\n",
      "Requirement already satisfied: daal4py==2024.5.0 in c:\\users\\render-pc\\.conda\\envs\\pythonda2\\lib\\site-packages (from scikit-learn-intelex>=2023.0.1->pycaret[full]) (2024.5.0)\n",
      "Requirement already satisfied: daal==2024.5.0 in c:\\users\\render-pc\\.conda\\envs\\pythonda2\\lib\\site-packages (from daal4py==2024.5.0->scikit-learn-intelex>=2023.0.1->pycaret[full]) (2024.5.0)\n",
      "Requirement already satisfied: tbb==2021.* in c:\\users\\render-pc\\.conda\\envs\\pythonda2\\lib\\site-packages (from daal==2024.5.0->daal4py==2024.5.0->scikit-learn-intelex>=2023.0.1->pycaret[full]) (2021.13.1)\n",
      "Requirement already satisfied: pyaml>=16.9 in c:\\users\\render-pc\\.conda\\envs\\pythonda2\\lib\\site-packages (from scikit-optimize>=0.9.0->pycaret[full]) (24.9.0)\n",
      "Requirement already satisfied: slicer==0.0.7 in c:\\users\\render-pc\\.conda\\envs\\pythonda2\\lib\\site-packages (from shap>=0.38.0->pycaret[full]) (0.0.7)\n",
      "Requirement already satisfied: deprecated>=1.2.13 in c:\\users\\render-pc\\.conda\\envs\\pythonda2\\lib\\site-packages (from sktime!=0.17.1,!=0.17.2,!=0.18.0,<0.22.0,>=0.16.1->pycaret[full]) (1.2.14)\n",
      "Requirement already satisfied: scikit-base<0.6.0 in c:\\users\\render-pc\\.conda\\envs\\pythonda2\\lib\\site-packages (from sktime!=0.17.1,!=0.17.2,!=0.18.0,<0.22.0,>=0.16.1->pycaret[full]) (0.5.2)\n",
      "Requirement already satisfied: fs in c:\\users\\render-pc\\.conda\\envs\\pythonda2\\lib\\site-packages (from triad<=0.9.1->pycaret[full]) (2.4.16)\n",
      "Requirement already satisfied: pynndescent>=0.5 in c:\\users\\render-pc\\.conda\\envs\\pythonda2\\lib\\site-packages (from umap-learn>=0.5.2->pycaret[full]) (0.5.13)\n",
      "Requirement already satisfied: h11>=0.8 in c:\\users\\render-pc\\.conda\\envs\\pythonda2\\lib\\site-packages (from uvicorn>=0.17.6->pycaret[full]) (0.14.0)\n",
      "Requirement already satisfied: visions==0.7.5 in c:\\users\\render-pc\\.conda\\envs\\pythonda2\\lib\\site-packages (from visions[type_image_path]==0.7.5->ydata-profiling>=4.3.1->pycaret[full]) (0.7.5)\n",
      "Requirement already satisfied: htmlmin==0.1.12 in c:\\users\\render-pc\\.conda\\envs\\pythonda2\\lib\\site-packages (from ydata-profiling>=4.3.1->pycaret[full]) (0.1.12)\n",
      "Requirement already satisfied: phik<0.13,>=0.11.1 in c:\\users\\render-pc\\.conda\\envs\\pythonda2\\lib\\site-packages (from ydata-profiling>=4.3.1->pycaret[full]) (0.12.4)\n",
      "Requirement already satisfied: seaborn<0.13,>=0.10.1 in c:\\users\\render-pc\\.conda\\envs\\pythonda2\\lib\\site-packages (from ydata-profiling>=4.3.1->pycaret[full]) (0.12.2)\n",
      "Requirement already satisfied: multimethod<2,>=1.4 in c:\\users\\render-pc\\.conda\\envs\\pythonda2\\lib\\site-packages (from ydata-profiling>=4.3.1->pycaret[full]) (1.10)\n",
      "Requirement already satisfied: typeguard<5,>=4.1.2 in c:\\users\\render-pc\\.conda\\envs\\pythonda2\\lib\\site-packages (from ydata-profiling>=4.3.1->pycaret[full]) (4.4.0)\n",
      "Requirement already satisfied: imagehash==4.3.1 in c:\\users\\render-pc\\.conda\\envs\\pythonda2\\lib\\site-packages (from ydata-profiling>=4.3.1->pycaret[full]) (4.3.1)\n",
      "Requirement already satisfied: wordcloud>=1.9.1 in c:\\users\\render-pc\\.conda\\envs\\pythonda2\\lib\\site-packages (from ydata-profiling>=4.3.1->pycaret[full]) (1.9.3)\n",
      "Requirement already satisfied: dacite>=1.8 in c:\\users\\render-pc\\.conda\\envs\\pythonda2\\lib\\site-packages (from ydata-profiling>=4.3.1->pycaret[full]) (1.8.1)\n",
      "Requirement already satisfied: PyWavelets in c:\\users\\render-pc\\.conda\\envs\\pythonda2\\lib\\site-packages (from imagehash==4.3.1->ydata-profiling>=4.3.1->pycaret[full]) (1.4.1)\n",
      "Requirement already satisfied: attrs>=19.3.0 in c:\\users\\render-pc\\.conda\\envs\\pythonda2\\lib\\site-packages (from visions==0.7.5->visions[type_image_path]==0.7.5->ydata-profiling>=4.3.1->pycaret[full]) (24.2.0)\n",
      "Requirement already satisfied: tangled-up-in-unicode>=0.0.4 in c:\\users\\render-pc\\.conda\\envs\\pythonda2\\lib\\site-packages (from visions==0.7.5->visions[type_image_path]==0.7.5->ydata-profiling>=4.3.1->pycaret[full]) (0.2.0)\n",
      "Requirement already satisfied: retrying in c:\\users\\render-pc\\.conda\\envs\\pythonda2\\lib\\site-packages (from dash[testing]; extra == \"full\"->pycaret[full]) (1.3.4)\n",
      "Requirement already satisfied: nest-asyncio in c:\\users\\render-pc\\.conda\\envs\\pythonda2\\lib\\site-packages (from dash[testing]; extra == \"full\"->pycaret[full]) (1.6.0)\n",
      "Requirement already satisfied: beautifulsoup4>=4.8.2 in c:\\users\\render-pc\\.conda\\envs\\pythonda2\\lib\\site-packages (from dash[testing]; extra == \"full\"->pycaret[full]) (4.12.3)\n",
      "Requirement already satisfied: lxml>=4.6.2 in c:\\users\\render-pc\\.conda\\envs\\pythonda2\\lib\\site-packages (from dash[testing]; extra == \"full\"->pycaret[full]) (5.3.0)\n",
      "Requirement already satisfied: percy>=2.0.2 in c:\\users\\render-pc\\.conda\\envs\\pythonda2\\lib\\site-packages (from dash[testing]; extra == \"full\"->pycaret[full]) (2.0.2)\n",
      "Requirement already satisfied: selenium<=4.2.0,>=3.141.0 in c:\\users\\render-pc\\.conda\\envs\\pythonda2\\lib\\site-packages (from dash[testing]; extra == \"full\"->pycaret[full]) (4.2.0)\n",
      "Requirement already satisfied: multiprocess>=0.70.12 in c:\\users\\render-pc\\.conda\\envs\\pythonda2\\lib\\site-packages (from dash[testing]; extra == \"full\"->pycaret[full]) (0.70.17)\n",
      "Requirement already satisfied: dash-testing-stub>=0.0.2 in c:\\users\\render-pc\\.conda\\envs\\pythonda2\\lib\\site-packages (from dash[testing]; extra == \"full\"->pycaret[full]) (0.0.2)\n",
      "Requirement already satisfied: Mako in c:\\users\\render-pc\\.conda\\envs\\pythonda2\\lib\\site-packages (from alembic<2->mlflow<2.0.0,>=1.24.0->pycaret[full]) (1.3.6)\n",
      "Requirement already satisfied: narwhals>=1.5.2 in c:\\users\\render-pc\\.conda\\envs\\pythonda2\\lib\\site-packages (from altair<6.0,>=4.2.0->gradio>=2.8.10->pycaret[full]) (1.12.1)\n",
      "Requirement already satisfied: soupsieve>1.2 in c:\\users\\render-pc\\.conda\\envs\\pythonda2\\lib\\site-packages (from beautifulsoup4>=4.8.2->dash[testing]; extra == \"full\"->pycaret[full]) (2.5)\n",
      "Requirement already satisfied: cffi>=1.12 in c:\\users\\render-pc\\.conda\\envs\\pythonda2\\lib\\site-packages (from cryptography>=3.3.1->moto>=3.0.7->pycaret[full]) (1.17.1)\n",
      "Requirement already satisfied: partd>=1.2.0 in c:\\users\\render-pc\\.conda\\envs\\pythonda2\\lib\\site-packages (from dask<2023.7.1,>=2022.9.0->dask[dataframe,distributed]<2023.7.1,>=2022.9.0; python_version >= \"3.8\" and extra == \"dask\"->fugue[dask]>=0.8.0; extra == \"full\"->pycaret[full]) (1.4.1)\n",
      "Requirement already satisfied: toolz>=0.10.0 in c:\\users\\render-pc\\.conda\\envs\\pythonda2\\lib\\site-packages (from dask<2023.7.1,>=2022.9.0->dask[dataframe,distributed]<2023.7.1,>=2022.9.0; python_version >= \"3.8\" and extra == \"dask\"->fugue[dask]>=0.8.0; extra == \"full\"->pycaret[full]) (1.0.0)\n",
      "Requirement already satisfied: distributed==2023.5.0 in c:\\users\\render-pc\\.conda\\envs\\pythonda2\\lib\\site-packages (from dask[dataframe,distributed]<2023.7.1,>=2022.9.0; python_version >= \"3.8\" and extra == \"dask\"->fugue[dask]>=0.8.0; extra == \"full\"->pycaret[full]) (2023.5.0)\n",
      "Requirement already satisfied: locket>=1.0.0 in c:\\users\\render-pc\\.conda\\envs\\pythonda2\\lib\\site-packages (from distributed==2023.5.0->dask[dataframe,distributed]<2023.7.1,>=2022.9.0; python_version >= \"3.8\" and extra == \"dask\"->fugue[dask]>=0.8.0; extra == \"full\"->pycaret[full]) (1.0.0)\n",
      "Requirement already satisfied: sortedcontainers>=2.0.5 in c:\\users\\render-pc\\.conda\\envs\\pythonda2\\lib\\site-packages (from distributed==2023.5.0->dask[dataframe,distributed]<2023.7.1,>=2022.9.0; python_version >= \"3.8\" and extra == \"dask\"->fugue[dask]>=0.8.0; extra == \"full\"->pycaret[full]) (2.4.0)\n",
      "Requirement already satisfied: tblib>=1.6.0 in c:\\users\\render-pc\\.conda\\envs\\pythonda2\\lib\\site-packages (from distributed==2023.5.0->dask[dataframe,distributed]<2023.7.1,>=2022.9.0; python_version >= \"3.8\" and extra == \"dask\"->fugue[dask]>=0.8.0; extra == \"full\"->pycaret[full]) (3.0.0)\n",
      "Requirement already satisfied: tornado>=6.0.3 in c:\\users\\render-pc\\.conda\\envs\\pythonda2\\lib\\site-packages (from distributed==2023.5.0->dask[dataframe,distributed]<2023.7.1,>=2022.9.0; python_version >= \"3.8\" and extra == \"dask\"->fugue[dask]>=0.8.0; extra == \"full\"->pycaret[full]) (6.4.1)\n",
      "Requirement already satisfied: zict>=2.2.0 in c:\\users\\render-pc\\.conda\\envs\\pythonda2\\lib\\site-packages (from distributed==2023.5.0->dask[dataframe,distributed]<2023.7.1,>=2022.9.0; python_version >= \"3.8\" and extra == \"dask\"->fugue[dask]>=0.8.0; extra == \"full\"->pycaret[full]) (3.0.0)\n",
      "Requirement already satisfied: pyjwt>=1.7.0 in c:\\users\\render-pc\\.conda\\envs\\pythonda2\\lib\\site-packages (from databricks-cli<1,>=0.8.7->mlflow<2.0.0,>=1.24.0->pycaret[full]) (2.8.0)\n",
      "Requirement already satisfied: oauthlib>=3.1.0 in c:\\users\\render-pc\\.conda\\envs\\pythonda2\\lib\\site-packages (from databricks-cli<1,>=0.8.7->mlflow<2.0.0,>=1.24.0->pycaret[full]) (3.2.2)\n",
      "Requirement already satisfied: tabulate>=0.7.7 in c:\\users\\render-pc\\.conda\\envs\\pythonda2\\lib\\site-packages (from databricks-cli<1,>=0.8.7->mlflow<2.0.0,>=1.24.0->pycaret[full]) (0.9.0)\n",
      "Requirement already satisfied: wrapt<2,>=1.10 in c:\\users\\render-pc\\.conda\\envs\\pythonda2\\lib\\site-packages (from deprecated>=1.2.13->sktime!=0.17.1,!=0.17.2,!=0.18.0,<0.22.0,>=0.16.1->pycaret[full]) (1.14.1)\n",
      "Requirement already satisfied: websocket-client>=0.32.0 in c:\\users\\render-pc\\.conda\\envs\\pythonda2\\lib\\site-packages (from docker<7,>=4.0.0->mlflow<2.0.0,>=1.24.0->pycaret[full]) (1.8.0)\n",
      "Requirement already satisfied: pywin32>=304 in c:\\users\\render-pc\\.conda\\envs\\pythonda2\\lib\\site-packages (from docker<7,>=4.0.0->mlflow<2.0.0,>=1.24.0->pycaret[full]) (305.1)\n",
      "Requirement already satisfied: colour in c:\\users\\render-pc\\.conda\\envs\\pythonda2\\lib\\site-packages (from dtreeviz>=2.1->explainerdashboard>=0.3.8->pycaret[full]) (0.1.5)\n",
      "Requirement already satisfied: wtforms in c:\\users\\render-pc\\.conda\\envs\\pythonda2\\lib\\site-packages (from Flask-WTF>=1.1->explainerdashboard>=0.3.8->pycaret[full]) (3.1.2)\n",
      "Requirement already satisfied: antlr4-python3-runtime<4.12 in c:\\users\\render-pc\\.conda\\envs\\pythonda2\\lib\\site-packages (from fugue-sql-antlr>=0.1.6->fugue>=0.8.0->pycaret[full]) (4.11.1)\n",
      "Requirement already satisfied: gitdb<5,>=4.0.1 in c:\\users\\render-pc\\.conda\\envs\\pythonda2\\lib\\site-packages (from gitpython<4,>=2.1.0->mlflow<2.0.0,>=1.24.0->pycaret[full]) (4.0.11)\n",
      "Requirement already satisfied: parso<0.9.0,>=0.8.3 in c:\\users\\render-pc\\.conda\\envs\\pythonda2\\lib\\site-packages (from jedi>=0.16->ipython>=5.5.0->pycaret[full]) (0.8.3)\n",
      "Requirement already satisfied: jsonschema-specifications>=2023.03.6 in c:\\users\\render-pc\\.conda\\envs\\pythonda2\\lib\\site-packages (from jsonschema>=2.6->nbformat>=4.2.0->pycaret[full]) (2023.7.1)\n",
      "Requirement already satisfied: pkgutil-resolve-name>=1.3.10 in c:\\users\\render-pc\\.conda\\envs\\pythonda2\\lib\\site-packages (from jsonschema>=2.6->nbformat>=4.2.0->pycaret[full]) (1.3.10)\n",
      "Requirement already satisfied: referencing>=0.28.4 in c:\\users\\render-pc\\.conda\\envs\\pythonda2\\lib\\site-packages (from jsonschema>=2.6->nbformat>=4.2.0->pycaret[full]) (0.30.2)\n",
      "Requirement already satisfied: rpds-py>=0.7.1 in c:\\users\\render-pc\\.conda\\envs\\pythonda2\\lib\\site-packages (from jsonschema>=2.6->nbformat>=4.2.0->pycaret[full]) (0.10.6)\n",
      "Requirement already satisfied: ansi2html in c:\\users\\render-pc\\.conda\\envs\\pythonda2\\lib\\site-packages (from jupyter-dash>=0.4.1->explainerdashboard>=0.3.8->pycaret[full]) (1.9.2)\n",
      "Requirement already satisfied: regex>=2021.8.3 in c:\\users\\render-pc\\.conda\\envs\\pythonda2\\lib\\site-packages (from nltk>=3.6.7->evidently<0.3,>=0.1.45.dev0->pycaret[full]) (2024.9.11)\n",
      "Requirement already satisfied: prometheus-client in c:\\users\\render-pc\\.conda\\envs\\pythonda2\\lib\\site-packages (from prometheus-flask-exporter<1->mlflow<2.0.0,>=1.24.0->pycaret[full]) (0.14.1)\n",
      "Requirement already satisfied: wcwidth in c:\\users\\render-pc\\.conda\\envs\\pythonda2\\lib\\site-packages (from prompt-toolkit!=3.0.37,<3.1.0,>=3.0.30->ipython>=5.5.0->pycaret[full]) (0.2.5)\n",
      "Requirement already satisfied: trio~=0.17 in c:\\users\\render-pc\\.conda\\envs\\pythonda2\\lib\\site-packages (from selenium<=4.2.0,>=3.141.0->dash[testing]; extra == \"full\"->pycaret[full]) (0.27.0)\n",
      "Requirement already satisfied: trio-websocket~=0.9 in c:\\users\\render-pc\\.conda\\envs\\pythonda2\\lib\\site-packages (from selenium<=4.2.0,>=3.141.0->dash[testing]; extra == \"full\"->pycaret[full]) (0.11.1)\n",
      "Requirement already satisfied: greenlet!=0.4.17 in c:\\users\\render-pc\\.conda\\envs\\pythonda2\\lib\\site-packages (from sqlalchemy<2,>=1.4.0->mlflow<2.0.0,>=1.24.0->pycaret[full]) (3.1.1)\n",
      "Requirement already satisfied: anyio<5,>=3.4.0 in c:\\users\\render-pc\\.conda\\envs\\pythonda2\\lib\\site-packages (from starlette<0.42.0,>=0.40.0->fastapi>=0.75.0->pycaret[full]) (4.2.0)\n",
      "Requirement already satisfied: appdirs~=1.4.3 in c:\\users\\render-pc\\.conda\\envs\\pythonda2\\lib\\site-packages (from fs->triad<=0.9.1->pycaret[full]) (1.4.4)\n",
      "Requirement already satisfied: httpcore==1.* in c:\\users\\render-pc\\.conda\\envs\\pythonda2\\lib\\site-packages (from httpx->gradio>=2.8.10->pycaret[full]) (1.0.2)\n",
      "Requirement already satisfied: sniffio in c:\\users\\render-pc\\.conda\\envs\\pythonda2\\lib\\site-packages (from httpx->gradio>=2.8.10->pycaret[full]) (1.3.0)\n",
      "Requirement already satisfied: platformdirs>=2.5 in c:\\users\\render-pc\\.conda\\envs\\pythonda2\\lib\\site-packages (from jupyter-core->nbformat>=4.2.0->pycaret[full]) (3.10.0)\n",
      "Requirement already satisfied: executing in c:\\users\\render-pc\\.conda\\envs\\pythonda2\\lib\\site-packages (from stack-data->ipython>=5.5.0->pycaret[full]) (0.8.3)\n",
      "Requirement already satisfied: asttokens in c:\\users\\render-pc\\.conda\\envs\\pythonda2\\lib\\site-packages (from stack-data->ipython>=5.5.0->pycaret[full]) (2.0.5)\n",
      "Requirement already satisfied: pure-eval in c:\\users\\render-pc\\.conda\\envs\\pythonda2\\lib\\site-packages (from stack-data->ipython>=5.5.0->pycaret[full]) (0.2.2)\n",
      "Requirement already satisfied: pycparser in c:\\users\\render-pc\\.conda\\envs\\pythonda2\\lib\\site-packages (from cffi>=1.12->cryptography>=3.3.1->moto>=3.0.7->pycaret[full]) (2.21)\n",
      "Requirement already satisfied: zope.event in c:\\users\\render-pc\\.conda\\envs\\pythonda2\\lib\\site-packages (from gevent>=1.3.6->interpret-core[aplr,dash,debug,linear,notebook,plotly,sensitivity,shap]==0.6.5->interpret>=0.2.7->pycaret[full]) (5.0)\n",
      "Requirement already satisfied: zope.interface in c:\\users\\render-pc\\.conda\\envs\\pythonda2\\lib\\site-packages (from gevent>=1.3.6->interpret-core[aplr,dash,debug,linear,notebook,plotly,sensitivity,shap]==0.6.5->interpret>=0.2.7->pycaret[full]) (7.1.1)\n",
      "Requirement already satisfied: smmap<6,>=3.0.1 in c:\\users\\render-pc\\.conda\\envs\\pythonda2\\lib\\site-packages (from gitdb<5,>=4.0.1->gitpython<4,>=2.1.0->mlflow<2.0.0,>=1.24.0->pycaret[full]) (5.0.1)\n",
      "Requirement already satisfied: debugpy>=1.6.5 in c:\\users\\render-pc\\.conda\\envs\\pythonda2\\lib\\site-packages (from ipykernel>=4.10.0->interpret-core[aplr,dash,debug,linear,notebook,plotly,sensitivity,shap]==0.6.5->interpret>=0.2.7->pycaret[full]) (1.6.7)\n",
      "Requirement already satisfied: jupyter-client>=6.1.12 in c:\\users\\render-pc\\.conda\\envs\\pythonda2\\lib\\site-packages (from ipykernel>=4.10.0->interpret-core[aplr,dash,debug,linear,notebook,plotly,sensitivity,shap]==0.6.5->interpret>=0.2.7->pycaret[full]) (8.6.0)\n",
      "Requirement already satisfied: pyzmq>=24 in c:\\users\\render-pc\\.conda\\envs\\pythonda2\\lib\\site-packages (from ipykernel>=4.10.0->interpret-core[aplr,dash,debug,linear,notebook,plotly,sensitivity,shap]==0.6.5->interpret>=0.2.7->pycaret[full]) (25.1.2)\n",
      "Requirement already satisfied: outcome in c:\\users\\render-pc\\.conda\\envs\\pythonda2\\lib\\site-packages (from trio~=0.17->selenium<=4.2.0,>=3.141.0->dash[testing]; extra == \"full\"->pycaret[full]) (1.3.0.post0)\n",
      "Requirement already satisfied: wsproto>=0.14 in c:\\users\\render-pc\\.conda\\envs\\pythonda2\\lib\\site-packages (from trio-websocket~=0.9->selenium<=4.2.0,>=3.141.0->dash[testing]; extra == \"full\"->pycaret[full]) (1.2.0)\n",
      "Requirement already satisfied: PySocks!=1.5.7,<2.0,>=1.5.6 in c:\\users\\render-pc\\.conda\\envs\\pythonda2\\lib\\site-packages (from urllib3[secure,socks]~=1.26->selenium<=4.2.0,>=3.141.0->dash[testing]; extra == \"full\"->pycaret[full]) (1.7.1)\n",
      "Requirement already satisfied: pyOpenSSL>=0.14 in c:\\users\\render-pc\\.conda\\envs\\pythonda2\\lib\\site-packages (from urllib3[secure,socks]~=1.26->selenium<=4.2.0,>=3.141.0->dash[testing]; extra == \"full\"->pycaret[full]) (24.2.1)\n",
      "Requirement already satisfied: urllib3-secure-extra in c:\\users\\render-pc\\.conda\\envs\\pythonda2\\lib\\site-packages (from urllib3[secure,socks]~=1.26->selenium<=4.2.0,>=3.141.0->dash[testing]; extra == \"full\"->pycaret[full]) (0.1.0)\n",
      "Downloading protobuf-4.25.5-cp38-cp38-win_amd64.whl (413 kB)\n",
      "Installing collected packages: protobuf\n",
      "Successfully installed protobuf-4.25.5\n"
     ]
    },
    {
     "name": "stderr",
     "output_type": "stream",
     "text": [
      "ERROR: pip's dependency resolver does not currently take into account all the packages that are installed. This behaviour is the source of the following dependency conflicts.\n",
      "tensorboard 2.10.0 requires protobuf<3.20,>=3.9.2, but you have protobuf 4.25.5 which is incompatible.\n"
     ]
    }
   ],
   "execution_count": 17
  },
  {
   "cell_type": "code",
   "metadata": {
    "colab": {
     "base_uri": "https://localhost:8080/",
     "height": 52
    },
    "id": "xIezWLQQHS__",
    "outputId": "2875a6bf-dfed-40dc-d485-36f5d34b3c17",
    "ExecuteTime": {
     "end_time": "2024-11-01T11:51:17.962732Z",
     "start_time": "2024-11-01T11:51:16.638304Z"
    }
   },
   "source": [
    "import pandas as pd\n",
    "import numpy as np\n",
    "import seaborn as sns\n",
    "import matplotlib.pyplot as plt\n",
    "%matplotlib inline\n",
    "import math\n",
    "import sklearn\n",
    "import sklearn.ensemble\n",
    "\n",
    "\n",
    "from omnixai.data.tabular import Tabular\n",
    "from omnixai.preprocessing.base import Identity\n",
    "from omnixai.preprocessing.tabular import TabularTransform\n",
    "from omnixai.explainers.tabular import TabularExplainer\n",
    "from omnixai.visualization.dashboard import Dashboard"
   ],
   "outputs": [
    {
     "ename": "ContextualVersionConflict",
     "evalue": "(pillow 10.4.0 (c:\\users\\render-pc\\.conda\\envs\\pythonda2\\lib\\site-packages), Requirement.parse('pillow<10.0'), {'omnixai'})",
     "output_type": "error",
     "traceback": [
      "\u001B[1;31m---------------------------------------------------------------------------\u001B[0m",
      "\u001B[1;31mContextualVersionConflict\u001B[0m                 Traceback (most recent call last)",
      "Cell \u001B[1;32mIn[18], line 11\u001B[0m\n\u001B[0;32m      7\u001B[0m \u001B[38;5;28;01mimport\u001B[39;00m \u001B[38;5;21;01msklearn\u001B[39;00m\n\u001B[0;32m      8\u001B[0m \u001B[38;5;28;01mimport\u001B[39;00m \u001B[38;5;21;01msklearn\u001B[39;00m\u001B[38;5;21;01m.\u001B[39;00m\u001B[38;5;21;01mensemble\u001B[39;00m\n\u001B[1;32m---> 11\u001B[0m \u001B[38;5;28;01mfrom\u001B[39;00m \u001B[38;5;21;01momnixai\u001B[39;00m\u001B[38;5;21;01m.\u001B[39;00m\u001B[38;5;21;01mdata\u001B[39;00m\u001B[38;5;21;01m.\u001B[39;00m\u001B[38;5;21;01mtabular\u001B[39;00m \u001B[38;5;28;01mimport\u001B[39;00m Tabular\n\u001B[0;32m     12\u001B[0m \u001B[38;5;28;01mfrom\u001B[39;00m \u001B[38;5;21;01momnixai\u001B[39;00m\u001B[38;5;21;01m.\u001B[39;00m\u001B[38;5;21;01mpreprocessing\u001B[39;00m\u001B[38;5;21;01m.\u001B[39;00m\u001B[38;5;21;01mbase\u001B[39;00m \u001B[38;5;28;01mimport\u001B[39;00m Identity\n\u001B[0;32m     13\u001B[0m \u001B[38;5;28;01mfrom\u001B[39;00m \u001B[38;5;21;01momnixai\u001B[39;00m\u001B[38;5;21;01m.\u001B[39;00m\u001B[38;5;21;01mpreprocessing\u001B[39;00m\u001B[38;5;21;01m.\u001B[39;00m\u001B[38;5;21;01mtabular\u001B[39;00m \u001B[38;5;28;01mimport\u001B[39;00m TabularTransform\n",
      "File \u001B[1;32m~\\.conda\\envs\\pythonDA2\\lib\\site-packages\\omnixai\\__init__.py:10\u001B[0m\n\u001B[0;32m      7\u001B[0m \u001B[38;5;28;01mfrom\u001B[39;00m \u001B[38;5;21;01mpkg_resources\u001B[39;00m \u001B[38;5;28;01mimport\u001B[39;00m get_distribution, DistributionNotFound\n\u001B[0;32m      9\u001B[0m \u001B[38;5;28;01mtry\u001B[39;00m:\n\u001B[1;32m---> 10\u001B[0m     dist \u001B[38;5;241m=\u001B[39m \u001B[43mget_distribution\u001B[49m\u001B[43m(\u001B[49m\u001B[38;5;124;43m\"\u001B[39;49m\u001B[38;5;124;43momnixai\u001B[39;49m\u001B[38;5;124;43m\"\u001B[39;49m\u001B[43m)\u001B[49m\n\u001B[0;32m     11\u001B[0m \u001B[38;5;28;01mexcept\u001B[39;00m DistributionNotFound:\n\u001B[0;32m     12\u001B[0m     __version__ \u001B[38;5;241m=\u001B[39m \u001B[38;5;124m\"\u001B[39m\u001B[38;5;124mPlease install OmniXAI with setup.py\u001B[39m\u001B[38;5;124m\"\u001B[39m\n",
      "File \u001B[1;32m~\\.conda\\envs\\pythonDA2\\lib\\site-packages\\pkg_resources\\__init__.py:534\u001B[0m, in \u001B[0;36mget_distribution\u001B[1;34m(dist)\u001B[0m\n\u001B[0;32m    532\u001B[0m     dist \u001B[38;5;241m=\u001B[39m Requirement\u001B[38;5;241m.\u001B[39mparse(dist)\n\u001B[0;32m    533\u001B[0m \u001B[38;5;28;01mif\u001B[39;00m \u001B[38;5;28misinstance\u001B[39m(dist, Requirement):\n\u001B[1;32m--> 534\u001B[0m     dist \u001B[38;5;241m=\u001B[39m \u001B[43mget_provider\u001B[49m\u001B[43m(\u001B[49m\u001B[43mdist\u001B[49m\u001B[43m)\u001B[49m\n\u001B[0;32m    535\u001B[0m \u001B[38;5;28;01mif\u001B[39;00m \u001B[38;5;129;01mnot\u001B[39;00m \u001B[38;5;28misinstance\u001B[39m(dist, Distribution):\n\u001B[0;32m    536\u001B[0m     \u001B[38;5;28;01mraise\u001B[39;00m \u001B[38;5;167;01mTypeError\u001B[39;00m(\u001B[38;5;124m\"\u001B[39m\u001B[38;5;124mExpected str, Requirement, or Distribution\u001B[39m\u001B[38;5;124m\"\u001B[39m, dist)\n",
      "File \u001B[1;32m~\\.conda\\envs\\pythonDA2\\lib\\site-packages\\pkg_resources\\__init__.py:417\u001B[0m, in \u001B[0;36mget_provider\u001B[1;34m(moduleOrReq)\u001B[0m\n\u001B[0;32m    415\u001B[0m \u001B[38;5;250m\u001B[39m\u001B[38;5;124;03m\"\"\"Return an IResourceProvider for the named module or requirement\"\"\"\u001B[39;00m\n\u001B[0;32m    416\u001B[0m \u001B[38;5;28;01mif\u001B[39;00m \u001B[38;5;28misinstance\u001B[39m(moduleOrReq, Requirement):\n\u001B[1;32m--> 417\u001B[0m     \u001B[38;5;28;01mreturn\u001B[39;00m working_set\u001B[38;5;241m.\u001B[39mfind(moduleOrReq) \u001B[38;5;129;01mor\u001B[39;00m \u001B[43mrequire\u001B[49m\u001B[43m(\u001B[49m\u001B[38;5;28;43mstr\u001B[39;49m\u001B[43m(\u001B[49m\u001B[43mmoduleOrReq\u001B[49m\u001B[43m)\u001B[49m\u001B[43m)\u001B[49m[\u001B[38;5;241m0\u001B[39m]\n\u001B[0;32m    418\u001B[0m \u001B[38;5;28;01mtry\u001B[39;00m:\n\u001B[0;32m    419\u001B[0m     module \u001B[38;5;241m=\u001B[39m sys\u001B[38;5;241m.\u001B[39mmodules[moduleOrReq]\n",
      "File \u001B[1;32m~\\.conda\\envs\\pythonDA2\\lib\\site-packages\\pkg_resources\\__init__.py:1070\u001B[0m, in \u001B[0;36mWorkingSet.require\u001B[1;34m(self, *requirements)\u001B[0m\n\u001B[0;32m   1061\u001B[0m \u001B[38;5;28;01mdef\u001B[39;00m \u001B[38;5;21mrequire\u001B[39m(\u001B[38;5;28mself\u001B[39m, \u001B[38;5;241m*\u001B[39mrequirements: _NestedStr) \u001B[38;5;241m-\u001B[39m\u001B[38;5;241m>\u001B[39m \u001B[38;5;28mlist\u001B[39m[Distribution]:\n\u001B[0;32m   1062\u001B[0m \u001B[38;5;250m    \u001B[39m\u001B[38;5;124;03m\"\"\"Ensure that distributions matching `requirements` are activated\u001B[39;00m\n\u001B[0;32m   1063\u001B[0m \n\u001B[0;32m   1064\u001B[0m \u001B[38;5;124;03m    `requirements` must be a string or a (possibly-nested) sequence\u001B[39;00m\n\u001B[1;32m   (...)\u001B[0m\n\u001B[0;32m   1068\u001B[0m \u001B[38;5;124;03m    included, even if they were already activated in this working set.\u001B[39;00m\n\u001B[0;32m   1069\u001B[0m \u001B[38;5;124;03m    \"\"\"\u001B[39;00m\n\u001B[1;32m-> 1070\u001B[0m     needed \u001B[38;5;241m=\u001B[39m \u001B[38;5;28;43mself\u001B[39;49m\u001B[38;5;241;43m.\u001B[39;49m\u001B[43mresolve\u001B[49m\u001B[43m(\u001B[49m\u001B[43mparse_requirements\u001B[49m\u001B[43m(\u001B[49m\u001B[43mrequirements\u001B[49m\u001B[43m)\u001B[49m\u001B[43m)\u001B[49m\n\u001B[0;32m   1072\u001B[0m     \u001B[38;5;28;01mfor\u001B[39;00m dist \u001B[38;5;129;01min\u001B[39;00m needed:\n\u001B[0;32m   1073\u001B[0m         \u001B[38;5;28mself\u001B[39m\u001B[38;5;241m.\u001B[39madd(dist)\n",
      "File \u001B[1;32m~\\.conda\\envs\\pythonDA2\\lib\\site-packages\\pkg_resources\\__init__.py:897\u001B[0m, in \u001B[0;36mWorkingSet.resolve\u001B[1;34m(self, requirements, env, installer, replace_conflicting, extras)\u001B[0m\n\u001B[0;32m    894\u001B[0m \u001B[38;5;28;01mif\u001B[39;00m \u001B[38;5;129;01mnot\u001B[39;00m req_extras\u001B[38;5;241m.\u001B[39mmarkers_pass(req, extras):\n\u001B[0;32m    895\u001B[0m     \u001B[38;5;28;01mcontinue\u001B[39;00m\n\u001B[1;32m--> 897\u001B[0m dist \u001B[38;5;241m=\u001B[39m \u001B[38;5;28;43mself\u001B[39;49m\u001B[38;5;241;43m.\u001B[39;49m\u001B[43m_resolve_dist\u001B[49m\u001B[43m(\u001B[49m\n\u001B[0;32m    898\u001B[0m \u001B[43m    \u001B[49m\u001B[43mreq\u001B[49m\u001B[43m,\u001B[49m\u001B[43m \u001B[49m\u001B[43mbest\u001B[49m\u001B[43m,\u001B[49m\u001B[43m \u001B[49m\u001B[43mreplace_conflicting\u001B[49m\u001B[43m,\u001B[49m\u001B[43m \u001B[49m\u001B[43menv\u001B[49m\u001B[43m,\u001B[49m\u001B[43m \u001B[49m\u001B[43minstaller\u001B[49m\u001B[43m,\u001B[49m\u001B[43m \u001B[49m\u001B[43mrequired_by\u001B[49m\u001B[43m,\u001B[49m\u001B[43m \u001B[49m\u001B[43mto_activate\u001B[49m\n\u001B[0;32m    899\u001B[0m \u001B[43m\u001B[49m\u001B[43m)\u001B[49m\n\u001B[0;32m    901\u001B[0m \u001B[38;5;66;03m# push the new requirements onto the stack\u001B[39;00m\n\u001B[0;32m    902\u001B[0m new_requirements \u001B[38;5;241m=\u001B[39m dist\u001B[38;5;241m.\u001B[39mrequires(req\u001B[38;5;241m.\u001B[39mextras)[::\u001B[38;5;241m-\u001B[39m\u001B[38;5;241m1\u001B[39m]\n",
      "File \u001B[1;32m~\\.conda\\envs\\pythonDA2\\lib\\site-packages\\pkg_resources\\__init__.py:943\u001B[0m, in \u001B[0;36mWorkingSet._resolve_dist\u001B[1;34m(self, req, best, replace_conflicting, env, installer, required_by, to_activate)\u001B[0m\n\u001B[0;32m    940\u001B[0m \u001B[38;5;28;01mif\u001B[39;00m dist \u001B[38;5;129;01mnot\u001B[39;00m \u001B[38;5;129;01min\u001B[39;00m req:\n\u001B[0;32m    941\u001B[0m     \u001B[38;5;66;03m# Oops, the \"best\" so far conflicts with a dependency\u001B[39;00m\n\u001B[0;32m    942\u001B[0m     dependent_req \u001B[38;5;241m=\u001B[39m required_by[req]\n\u001B[1;32m--> 943\u001B[0m     \u001B[38;5;28;01mraise\u001B[39;00m VersionConflict(dist, req)\u001B[38;5;241m.\u001B[39mwith_context(dependent_req)\n\u001B[0;32m    944\u001B[0m \u001B[38;5;28;01mreturn\u001B[39;00m dist\n",
      "\u001B[1;31mContextualVersionConflict\u001B[0m: (pillow 10.4.0 (c:\\users\\render-pc\\.conda\\envs\\pythonda2\\lib\\site-packages), Requirement.parse('pillow<10.0'), {'omnixai'})"
     ]
    }
   ],
   "execution_count": 18
  },
  {
   "cell_type": "markdown",
   "metadata": {
    "id": "6cpo5LzuMLUa"
   },
   "source": [
    "Загрузка, подготовка данных, исследовательский анализ данных"
   ]
  },
  {
   "cell_type": "code",
   "metadata": {
    "id": "Xj9MuxJQSs5g"
   },
   "source": "df = pd.read_csv('1223ia.csv', sep=';',decimal=',',encoding='utf-8-sig')",
   "outputs": [],
   "execution_count": null
  },
  {
   "cell_type": "code",
   "metadata": {
    "colab": {
     "base_uri": "https://localhost:8080/"
    },
    "id": "Bx50LG5fhpfH",
    "outputId": "f06af793-6985-4514-fee4-c997dc3b5dd2",
    "ExecuteTime": {
     "end_time": "2024-11-01T11:35:36.865622400Z",
     "start_time": "2024-11-01T11:26:50.592432Z"
    }
   },
   "source": [
    "df.info()\n",
    "\n"
   ],
   "outputs": [
    {
     "ename": "NameError",
     "evalue": "name 'df' is not defined",
     "output_type": "error",
     "traceback": [
      "\u001B[1;31m---------------------------------------------------------------------------\u001B[0m",
      "\u001B[1;31mNameError\u001B[0m                                 Traceback (most recent call last)",
      "Cell \u001B[1;32mIn[1], line 1\u001B[0m\n\u001B[1;32m----> 1\u001B[0m \u001B[43mdf\u001B[49m\u001B[38;5;241m.\u001B[39minfo()\n",
      "\u001B[1;31mNameError\u001B[0m: name 'df' is not defined"
     ]
    }
   ],
   "execution_count": 1
  },
  {
   "cell_type": "code",
   "metadata": {
    "id": "JR2sUquRnVnY"
   },
   "source": [
    "df['OrderDate'] = pd.to_datetime(df['OrderDate'],format='%d.%m.%Y')\n",
    "df['ShipDate'] = pd.to_datetime(df['ShipDate'],format='%d.%m.%Y')"
   ],
   "outputs": [],
   "execution_count": null
  },
  {
   "cell_type": "code",
   "metadata": {
    "colab": {
     "base_uri": "https://localhost:8080/"
    },
    "id": "U9zvtnyvsWxs",
    "outputId": "d9abcc4a-d813-46de-9db4-555db6fc2d67"
   },
   "source": [
    "df.info()"
   ],
   "outputs": [],
   "execution_count": null
  },
  {
   "cell_type": "code",
   "metadata": {
    "colab": {
     "base_uri": "https://localhost:8080/"
    },
    "id": "vA4fYrzMwwtS",
    "outputId": "5569b138-f6f6-471b-d642-0515839835e8"
   },
   "source": [
    "df.duplicated().sum()"
   ],
   "outputs": [],
   "execution_count": null
  },
  {
   "cell_type": "code",
   "metadata": {
    "colab": {
     "base_uri": "https://localhost:8080/",
     "height": 300
    },
    "id": "gvUjrmwexEWe",
    "outputId": "f18a40ec-619e-49a5-ec2f-57f0a38e8c74"
   },
   "source": [
    "df.describe()"
   ],
   "outputs": [],
   "execution_count": null
  },
  {
   "cell_type": "code",
   "metadata": {
    "id": "rj_PMPTfUbbN"
   },
   "source": [
    "df['Sales'] = df['UnitPrice'] * df['Quantity']"
   ],
   "outputs": [],
   "execution_count": null
  },
  {
   "cell_type": "code",
   "metadata": {
    "id": "nZTJlKHDViNs"
   },
   "source": [
    "df['SalesDiscount'] = df['Sales'] - df['DiscountAmount']"
   ],
   "outputs": [],
   "execution_count": null
  },
  {
   "cell_type": "code",
   "metadata": {
    "colab": {
     "base_uri": "https://localhost:8080/",
     "height": 297
    },
    "id": "w9qDzcWRWFYn",
    "outputId": "07822d20-ee23-4eb9-e507-ce5ace5ba41e"
   },
   "source": [
    "df.head(3)"
   ],
   "outputs": [],
   "execution_count": null
  },
  {
   "cell_type": "code",
   "metadata": {
    "colab": {
     "base_uri": "https://localhost:8080/",
     "height": 486
    },
    "id": "squn46asclO9",
    "outputId": "e0f01e14-aa8a-43d6-bcb6-539ae58713fc"
   },
   "source": [
    "(df.groupby('OrderDate').agg({'Sales': ['min', 'max'], 'SalesDiscount': 'sum'}).sort_values(by = 'OrderDate'))"
   ],
   "outputs": [],
   "execution_count": null
  },
  {
   "cell_type": "code",
   "metadata": {
    "id": "Vg8h6c8VfbTs"
   },
   "source": [
    " df1 = df.groupby(pd.Grouper(key='OrderDate', axis=0, freq='M')).sum(numeric_only=True)"
   ],
   "outputs": [],
   "execution_count": null
  },
  {
   "cell_type": "code",
   "metadata": {
    "colab": {
     "base_uri": "https://localhost:8080/"
    },
    "id": "bbTZDYscjmt0",
    "outputId": "bcf57b7a-2370-4b08-ddfb-7eeeaf791324"
   },
   "source": [
    "df1.info()"
   ],
   "outputs": [],
   "execution_count": null
  },
  {
   "cell_type": "code",
   "metadata": {
    "colab": {
     "base_uri": "https://localhost:8080/",
     "height": 564
    },
    "id": "Wql7zgiAk268",
    "outputId": "955b07fd-4309-455d-d080-e0ad03bf14c2"
   },
   "source": [
    "plt.figure(figsize=(12, 6))\n",
    "plt.plot(df1.index, df1['Sales'], df1['SalesDiscount'], marker='o', linestyle='-')\n",
    "plt.title('Продажи')\n",
    "plt.xlabel('OrderDate')\n",
    "plt.ylabel('Sales, SalesDiscount')\n",
    "plt.grid(True)\n",
    "plt.show()"
   ],
   "outputs": [],
   "execution_count": null
  },
  {
   "cell_type": "markdown",
   "metadata": {
    "id": "mOH4hFbD741R"
   },
   "source": []
  },
  {
   "cell_type": "code",
   "metadata": {
    "colab": {
     "base_uri": "https://localhost:8080/",
     "height": 708
    },
    "id": "fPsyce1rwfdr",
    "outputId": "e1e764d7-4392-4182-8ea4-d1613e1620b1"
   },
   "source": [
    " df.groupby('ProductName').agg(SalesDiscount=('SalesDiscount', 'sum'), CustomerStateID=('CustomerStateID', 'first'), ProductID=('ProductID', 'first'), Channels=('Channels', 'first'),RetailPrice=('RetailPrice', 'first'),UnitPrice=('UnitPrice', 'first'),\n",
    "  RegionID=('RegionID', 'first')).sort_values('SalesDiscount', ascending=False)"
   ],
   "outputs": [],
   "execution_count": null
  },
  {
   "cell_type": "code",
   "metadata": {
    "colab": {
     "base_uri": "https://localhost:8080/",
     "height": 430
    },
    "id": "vtRFE_E8ZlNK",
    "outputId": "36d91f3f-48c5-4b84-b0fc-f0beb8c57992"
   },
   "source": [
    "df.groupby('ProductName').size().sort_values(ascending=True).plot(kind='barh', color=('blue'))\n",
    "plt.gca().spines[['top', 'right',]].set_visible(False)"
   ],
   "outputs": [],
   "execution_count": null
  },
  {
   "cell_type": "code",
   "metadata": {
    "colab": {
     "base_uri": "https://localhost:8080/",
     "height": 430
    },
    "id": "jVIAi8CfBqGt",
    "outputId": "50eb5536-21ed-4881-e653-184766d45728"
   },
   "source": [
    "df.groupby('Demographic').size().sort_values(ascending=True).plot(kind='barh', color=sns.palettes.mpl_palette('Dark2'))\n",
    "plt.gca().spines[['top', 'right',]].set_visible(False)"
   ],
   "outputs": [],
   "execution_count": null
  },
  {
   "cell_type": "code",
   "metadata": {
    "colab": {
     "base_uri": "https://localhost:8080/",
     "height": 430
    },
    "id": "dfP5dpwUWDpf",
    "outputId": "f88e4927-9ddb-4a4d-edb0-4a60fd5d4ab2"
   },
   "source": [
    "df.groupby('Quantity').size().sort_values(ascending=True).plot(kind='barh', color=('#add8e9'))\n",
    "plt.gca().spines[['top', 'right',]].set_visible(False)"
   ],
   "outputs": [],
   "execution_count": null
  },
  {
   "cell_type": "code",
   "metadata": {
    "colab": {
     "base_uri": "https://localhost:8080/",
     "height": 466
    },
    "id": "MAD6Udjqu3lq",
    "outputId": "34df3771-9c2a-47bb-8cd7-ca291a80b1fc"
   },
   "source": [
    "sns.boxplot(x=df['UnitPrice'])"
   ],
   "outputs": [],
   "execution_count": null
  },
  {
   "cell_type": "code",
   "metadata": {
    "colab": {
     "base_uri": "https://localhost:8080/",
     "height": 466
    },
    "id": "Bna9_BR0AKVP",
    "outputId": "7355c7ee-0346-4602-d059-e300ed0ea944"
   },
   "source": [
    "sns.boxplot(x=df['SalesDiscount'])"
   ],
   "outputs": [],
   "execution_count": null
  },
  {
   "cell_type": "code",
   "metadata": {
    "colab": {
     "base_uri": "https://localhost:8080/",
     "height": 1000
    },
    "id": "DSaJLHDSB5Hg",
    "outputId": "60f9aff4-0c7e-4649-8058-667e024d83bd"
   },
   "source": [
    "df.groupby('CustomerStateID').agg(SalesDiscount=('SalesDiscount', 'sum'), ProductID=('ProductID', 'first'), Channels=('Channels', 'first'),RetailPrice=('RetailPrice', 'first'),UnitPrice=('UnitPrice', 'first'),\n",
    "  RegionID=('RegionID', 'first')).sort_values('SalesDiscount', ascending=False)"
   ],
   "outputs": [],
   "execution_count": null
  },
  {
   "cell_type": "code",
   "metadata": {
    "colab": {
     "base_uri": "https://localhost:8080/",
     "height": 175
    },
    "id": "7rSvUWkkFW1e",
    "outputId": "4294f482-8868-4a3c-c742-60b5b9c628d6"
   },
   "source": [
    "df.groupby('RegionName').agg(SalesDiscount=('SalesDiscount', 'sum')) \\\n",
    "  .sort_values('SalesDiscount', ascending=False) \\\n",
    "  .head(3)"
   ],
   "outputs": [],
   "execution_count": null
  },
  {
   "cell_type": "code",
   "metadata": {
    "colab": {
     "base_uri": "https://localhost:8080/",
     "height": 175
    },
    "id": "McEEDT37DhbE",
    "outputId": "2a930fe4-6aa4-4ac3-9043-0acee6875ddd"
   },
   "source": [
    "df.groupby('StateName').agg(SalesDiscount=('SalesDiscount', 'sum')) \\\n",
    "  .sort_values('SalesDiscount', ascending=False) \\\n",
    "  .head(3)"
   ],
   "outputs": [],
   "execution_count": null
  },
  {
   "cell_type": "markdown",
   "metadata": {
    "id": "OWDNlReXvY4y"
   },
   "source": [
    "Машинное обучение с библиотекой **PyCaret**"
   ]
  },
  {
   "cell_type": "code",
   "metadata": {
    "colab": {
     "base_uri": "https://localhost:8080/"
    },
    "id": "MSNa19PEvYGw",
    "outputId": "fb570af1-175d-4f51-ebfa-958da68ba8fd"
   },
   "source": [
    "df.columns"
   ],
   "outputs": [],
   "execution_count": null
  },
  {
   "cell_type": "code",
   "metadata": {
    "id": "l5_3vpkd1aMP"
   },
   "source": [
    "data = df.drop(columns=['OrderNumber', 'OrderDate', 'Channels', 'ItemGroup',\n",
    "      'KitType', 'Demographic',\n",
    "       'ShipDate', 'ProductName', 'PromotionCode', 'StateName', 'RegionName',\n",
    "       'ProductCategory', 'ProductSKU','StateCode'])"
   ],
   "outputs": [],
   "execution_count": null
  },
  {
   "cell_type": "code",
   "metadata": {
    "colab": {
     "base_uri": "https://localhost:8080/",
     "height": 332
    },
    "id": "u6QojJUO1cl2",
    "outputId": "ccfe32d2-e25d-4e20-e0f0-78566872edf5"
   },
   "source": [
    "data.corr(method='pearson')"
   ],
   "outputs": [],
   "execution_count": null
  },
  {
   "cell_type": "code",
   "metadata": {
    "id": "AyMGMi7YWpQM",
    "ExecuteTime": {
     "end_time": "2024-11-01T11:27:02.647979Z",
     "start_time": "2024-11-01T11:27:02.601976Z"
    }
   },
   "source": [
    "data = df.drop(columns=['OrderNumber','UnitPrice','RetailPrice','Sales','ProductSKU','ProductID','ProductName','ShipDate','PromotionCode'])"
   ],
   "outputs": [
    {
     "ename": "NameError",
     "evalue": "name 'df' is not defined",
     "output_type": "error",
     "traceback": [
      "\u001B[1;31m---------------------------------------------------------------------------\u001B[0m",
      "\u001B[1;31mNameError\u001B[0m                                 Traceback (most recent call last)",
      "Cell \u001B[1;32mIn[2], line 1\u001B[0m\n\u001B[1;32m----> 1\u001B[0m data \u001B[38;5;241m=\u001B[39m \u001B[43mdf\u001B[49m\u001B[38;5;241m.\u001B[39mdrop(columns\u001B[38;5;241m=\u001B[39m[\u001B[38;5;124m'\u001B[39m\u001B[38;5;124mOrderNumber\u001B[39m\u001B[38;5;124m'\u001B[39m,\u001B[38;5;124m'\u001B[39m\u001B[38;5;124mUnitPrice\u001B[39m\u001B[38;5;124m'\u001B[39m,\u001B[38;5;124m'\u001B[39m\u001B[38;5;124mRetailPrice\u001B[39m\u001B[38;5;124m'\u001B[39m,\u001B[38;5;124m'\u001B[39m\u001B[38;5;124mSales\u001B[39m\u001B[38;5;124m'\u001B[39m,\u001B[38;5;124m'\u001B[39m\u001B[38;5;124mProductSKU\u001B[39m\u001B[38;5;124m'\u001B[39m,\u001B[38;5;124m'\u001B[39m\u001B[38;5;124mProductID\u001B[39m\u001B[38;5;124m'\u001B[39m,\u001B[38;5;124m'\u001B[39m\u001B[38;5;124mProductName\u001B[39m\u001B[38;5;124m'\u001B[39m,\u001B[38;5;124m'\u001B[39m\u001B[38;5;124mShipDate\u001B[39m\u001B[38;5;124m'\u001B[39m,\u001B[38;5;124m'\u001B[39m\u001B[38;5;124mPromotionCode\u001B[39m\u001B[38;5;124m'\u001B[39m])\n",
      "\u001B[1;31mNameError\u001B[0m: name 'df' is not defined"
     ]
    }
   ],
   "execution_count": 2
  },
  {
   "cell_type": "code",
   "metadata": {
    "colab": {
     "base_uri": "https://localhost:8080/",
     "height": 771
    },
    "id": "l9mPmNisbWSY",
    "outputId": "288e210f-4c26-42ef-bb33-5899f616e950"
   },
   "source": [
    "from pycaret.regression import *\n",
    "s = setup(data, target='SalesDiscount', session_id=123, train_size=0.7, fold_shuffle=True, n_jobs=-1)"
   ],
   "outputs": [],
   "execution_count": null
  },
  {
   "cell_type": "code",
   "metadata": {
    "id": "fvLcIGa8bwTg"
   },
   "source": [
    "# import RegressionExperiment and init the class\n",
    "from pycaret.regression import RegressionExperiment\n",
    "exp = RegressionExperiment()"
   ],
   "outputs": [],
   "execution_count": null
  },
  {
   "cell_type": "code",
   "metadata": {
    "colab": {
     "base_uri": "https://localhost:8080/",
     "height": 121
    },
    "id": "QQBR4c1xcz6x",
    "outputId": "a441d095-a2f0-4f52-e67e-1ffea4136422"
   },
   "source": [
    "# check the type of exp\n",
    "type(exp)"
   ],
   "outputs": [],
   "execution_count": null
  },
  {
   "cell_type": "code",
   "metadata": {
    "colab": {
     "base_uri": "https://localhost:8080/",
     "height": 771
    },
    "id": "QqAg8Vowd_4j",
    "outputId": "6a9404e8-b3e1-45ee-80dc-2d8434d56448"
   },
   "source": [
    "exp = setup(data, target='SalesDiscount', session_id=123, train_size=0.7, fold_shuffle=True, n_jobs=-1)"
   ],
   "outputs": [],
   "execution_count": null
  },
  {
   "cell_type": "code",
   "metadata": {
    "colab": {
     "base_uri": "https://localhost:8080/",
     "height": 1000,
     "referenced_widgets": [
      "9cd5885d7939492592df01ac96b38849",
      "da89b60422d5485885f815e9ce31d477",
      "e0cf7f740ee7415bb30143ec330f7fa2",
      "2ceea3407cdb4b17bb39d37a2d40b147",
      "868f21e199d74d5ea7889959cac5be21",
      "5d33a5f3797a4bca9d134e6e578d38b0",
      "ffc06f2aea1741cd88c35a4567691c1f",
      "6c92bf6c23b0438dabf98a501ea2997e",
      "ddfd46cd39c24c63be4b926c915c50b8",
      "7c7eb588ccf64c94b49897f44a839ae4",
      "b895d52718c34c4999e853f58c2cefa2"
     ]
    },
    "id": "uZzb5LnCeQe7",
    "outputId": "7ce3d208-e5a9-4ae7-a559-570085034f6a"
   },
   "source": [
    "best_models = compare_models(fold=10, n_select=3, sort='RMSE')"
   ],
   "outputs": [],
   "execution_count": null
  },
  {
   "cell_type": "code",
   "metadata": {
    "colab": {
     "base_uri": "https://localhost:8080/",
     "height": 457,
     "referenced_widgets": [
      "f9fc56f34431487b9c5cd9d69460c3ed",
      "fe726e47677a4986a7f61edd6ef9923b",
      "1458cbf4b9374b6cbc247636b12b8392",
      "0cc889697fd84810a92c0c61c19ac20b",
      "ebd8138adb134627968f67de2154767e",
      "bc501a8513cf43409535351c4bcfacf0",
      "87479160e3784e8d8fe1894a76039c1e",
      "795f6927c6e34192b27dfc3ed76b7896",
      "6a83f9e11a0e4701ba087db1c97b30e8",
      "1487d512f19541fdafa6a9a41380e443",
      "01ed3b54240c4b0d9beded994f197470"
     ]
    },
    "id": "HYvlDw3-lFWc",
    "outputId": "42475ff7-f185-4f61-e3b6-df293207cbfc"
   },
   "source": [
    "best = create_model('dt')"
   ],
   "outputs": [],
   "execution_count": null
  },
  {
   "cell_type": "code",
   "metadata": {
    "colab": {
     "base_uri": "https://localhost:8080/",
     "height": 524
    },
    "id": "3AzeapPDnFie",
    "outputId": "f4eab4a9-01cc-4a5f-9b6e-42d01b6e4ed3"
   },
   "source": [
    "plot_model(best, plot = 'residuals')"
   ],
   "outputs": [],
   "execution_count": null
  },
  {
   "cell_type": "code",
   "metadata": {
    "colab": {
     "base_uri": "https://localhost:8080/",
     "height": 485
    },
    "id": "7xw7jWKenUzs",
    "outputId": "113aa7c7-9ded-476a-aa63-203103be656a"
   },
   "source": [
    "# plot feature importance\n",
    "plot_model(best, plot = 'feature')"
   ],
   "outputs": [],
   "execution_count": null
  },
  {
   "cell_type": "code",
   "metadata": {
    "colab": {
     "base_uri": "https://localhost:8080/",
     "height": 141
    },
    "id": "08ZIarkPnrFR",
    "outputId": "d8a1b58f-5816-49ae-8304-97b57205950b"
   },
   "source": [],
   "outputs": [],
   "execution_count": null
  }
 ],
 "metadata": {
  "colab": {
   "provenance": []
  },
  "kernelspec": {
   "display_name": "Python 3 (ipykernel)",
   "name": "python3",
   "language": "python"
  },
  "language_info": {
   "name": "python"
  },
  "widgets": {
   "application/vnd.jupyter.widget-state+json": {
    "f9fc56f34431487b9c5cd9d69460c3ed": {
     "model_module": "@jupyter-widgets/controls",
     "model_name": "HBoxModel",
     "model_module_version": "1.5.0",
     "state": {
      "_dom_classes": [],
      "_model_module": "@jupyter-widgets/controls",
      "_model_module_version": "1.5.0",
      "_model_name": "HBoxModel",
      "_view_count": null,
      "_view_module": "@jupyter-widgets/controls",
      "_view_module_version": "1.5.0",
      "_view_name": "HBoxView",
      "box_style": "",
      "children": [
       "IPY_MODEL_fe726e47677a4986a7f61edd6ef9923b",
       "IPY_MODEL_1458cbf4b9374b6cbc247636b12b8392",
       "IPY_MODEL_0cc889697fd84810a92c0c61c19ac20b"
      ],
      "layout": "IPY_MODEL_ebd8138adb134627968f67de2154767e"
     }
    },
    "fe726e47677a4986a7f61edd6ef9923b": {
     "model_module": "@jupyter-widgets/controls",
     "model_name": "HTMLModel",
     "model_module_version": "1.5.0",
     "state": {
      "_dom_classes": [],
      "_model_module": "@jupyter-widgets/controls",
      "_model_module_version": "1.5.0",
      "_model_name": "HTMLModel",
      "_view_count": null,
      "_view_module": "@jupyter-widgets/controls",
      "_view_module_version": "1.5.0",
      "_view_name": "HTMLView",
      "description": "",
      "description_tooltip": null,
      "layout": "IPY_MODEL_bc501a8513cf43409535351c4bcfacf0",
      "placeholder": "​",
      "style": "IPY_MODEL_87479160e3784e8d8fe1894a76039c1e",
      "value": "Processing: 100%"
     }
    },
    "1458cbf4b9374b6cbc247636b12b8392": {
     "model_module": "@jupyter-widgets/controls",
     "model_name": "FloatProgressModel",
     "model_module_version": "1.5.0",
     "state": {
      "_dom_classes": [],
      "_model_module": "@jupyter-widgets/controls",
      "_model_module_version": "1.5.0",
      "_model_name": "FloatProgressModel",
      "_view_count": null,
      "_view_module": "@jupyter-widgets/controls",
      "_view_module_version": "1.5.0",
      "_view_name": "ProgressView",
      "bar_style": "",
      "description": "",
      "description_tooltip": null,
      "layout": "IPY_MODEL_795f6927c6e34192b27dfc3ed76b7896",
      "max": 4,
      "min": 0,
      "orientation": "horizontal",
      "style": "IPY_MODEL_6a83f9e11a0e4701ba087db1c97b30e8",
      "value": 4
     }
    },
    "0cc889697fd84810a92c0c61c19ac20b": {
     "model_module": "@jupyter-widgets/controls",
     "model_name": "HTMLModel",
     "model_module_version": "1.5.0",
     "state": {
      "_dom_classes": [],
      "_model_module": "@jupyter-widgets/controls",
      "_model_module_version": "1.5.0",
      "_model_name": "HTMLModel",
      "_view_count": null,
      "_view_module": "@jupyter-widgets/controls",
      "_view_module_version": "1.5.0",
      "_view_name": "HTMLView",
      "description": "",
      "description_tooltip": null,
      "layout": "IPY_MODEL_1487d512f19541fdafa6a9a41380e443",
      "placeholder": "​",
      "style": "IPY_MODEL_01ed3b54240c4b0d9beded994f197470",
      "value": " 4/4 [00:53&lt;00:00, 12.52s/it]"
     }
    },
    "ebd8138adb134627968f67de2154767e": {
     "model_module": "@jupyter-widgets/base",
     "model_name": "LayoutModel",
     "model_module_version": "1.2.0",
     "state": {
      "_model_module": "@jupyter-widgets/base",
      "_model_module_version": "1.2.0",
      "_model_name": "LayoutModel",
      "_view_count": null,
      "_view_module": "@jupyter-widgets/base",
      "_view_module_version": "1.2.0",
      "_view_name": "LayoutView",
      "align_content": null,
      "align_items": null,
      "align_self": null,
      "border": null,
      "bottom": null,
      "display": null,
      "flex": null,
      "flex_flow": null,
      "grid_area": null,
      "grid_auto_columns": null,
      "grid_auto_flow": null,
      "grid_auto_rows": null,
      "grid_column": null,
      "grid_gap": null,
      "grid_row": null,
      "grid_template_areas": null,
      "grid_template_columns": null,
      "grid_template_rows": null,
      "height": null,
      "justify_content": null,
      "justify_items": null,
      "left": null,
      "margin": null,
      "max_height": null,
      "max_width": null,
      "min_height": null,
      "min_width": null,
      "object_fit": null,
      "object_position": null,
      "order": null,
      "overflow": null,
      "overflow_x": null,
      "overflow_y": null,
      "padding": null,
      "right": null,
      "top": null,
      "visibility": "hidden",
      "width": null
     }
    },
    "bc501a8513cf43409535351c4bcfacf0": {
     "model_module": "@jupyter-widgets/base",
     "model_name": "LayoutModel",
     "model_module_version": "1.2.0",
     "state": {
      "_model_module": "@jupyter-widgets/base",
      "_model_module_version": "1.2.0",
      "_model_name": "LayoutModel",
      "_view_count": null,
      "_view_module": "@jupyter-widgets/base",
      "_view_module_version": "1.2.0",
      "_view_name": "LayoutView",
      "align_content": null,
      "align_items": null,
      "align_self": null,
      "border": null,
      "bottom": null,
      "display": null,
      "flex": null,
      "flex_flow": null,
      "grid_area": null,
      "grid_auto_columns": null,
      "grid_auto_flow": null,
      "grid_auto_rows": null,
      "grid_column": null,
      "grid_gap": null,
      "grid_row": null,
      "grid_template_areas": null,
      "grid_template_columns": null,
      "grid_template_rows": null,
      "height": null,
      "justify_content": null,
      "justify_items": null,
      "left": null,
      "margin": null,
      "max_height": null,
      "max_width": null,
      "min_height": null,
      "min_width": null,
      "object_fit": null,
      "object_position": null,
      "order": null,
      "overflow": null,
      "overflow_x": null,
      "overflow_y": null,
      "padding": null,
      "right": null,
      "top": null,
      "visibility": null,
      "width": null
     }
    },
    "87479160e3784e8d8fe1894a76039c1e": {
     "model_module": "@jupyter-widgets/controls",
     "model_name": "DescriptionStyleModel",
     "model_module_version": "1.5.0",
     "state": {
      "_model_module": "@jupyter-widgets/controls",
      "_model_module_version": "1.5.0",
      "_model_name": "DescriptionStyleModel",
      "_view_count": null,
      "_view_module": "@jupyter-widgets/base",
      "_view_module_version": "1.2.0",
      "_view_name": "StyleView",
      "description_width": ""
     }
    },
    "795f6927c6e34192b27dfc3ed76b7896": {
     "model_module": "@jupyter-widgets/base",
     "model_name": "LayoutModel",
     "model_module_version": "1.2.0",
     "state": {
      "_model_module": "@jupyter-widgets/base",
      "_model_module_version": "1.2.0",
      "_model_name": "LayoutModel",
      "_view_count": null,
      "_view_module": "@jupyter-widgets/base",
      "_view_module_version": "1.2.0",
      "_view_name": "LayoutView",
      "align_content": null,
      "align_items": null,
      "align_self": null,
      "border": null,
      "bottom": null,
      "display": null,
      "flex": null,
      "flex_flow": null,
      "grid_area": null,
      "grid_auto_columns": null,
      "grid_auto_flow": null,
      "grid_auto_rows": null,
      "grid_column": null,
      "grid_gap": null,
      "grid_row": null,
      "grid_template_areas": null,
      "grid_template_columns": null,
      "grid_template_rows": null,
      "height": null,
      "justify_content": null,
      "justify_items": null,
      "left": null,
      "margin": null,
      "max_height": null,
      "max_width": null,
      "min_height": null,
      "min_width": null,
      "object_fit": null,
      "object_position": null,
      "order": null,
      "overflow": null,
      "overflow_x": null,
      "overflow_y": null,
      "padding": null,
      "right": null,
      "top": null,
      "visibility": null,
      "width": null
     }
    },
    "6a83f9e11a0e4701ba087db1c97b30e8": {
     "model_module": "@jupyter-widgets/controls",
     "model_name": "ProgressStyleModel",
     "model_module_version": "1.5.0",
     "state": {
      "_model_module": "@jupyter-widgets/controls",
      "_model_module_version": "1.5.0",
      "_model_name": "ProgressStyleModel",
      "_view_count": null,
      "_view_module": "@jupyter-widgets/base",
      "_view_module_version": "1.2.0",
      "_view_name": "StyleView",
      "bar_color": null,
      "description_width": ""
     }
    },
    "1487d512f19541fdafa6a9a41380e443": {
     "model_module": "@jupyter-widgets/base",
     "model_name": "LayoutModel",
     "model_module_version": "1.2.0",
     "state": {
      "_model_module": "@jupyter-widgets/base",
      "_model_module_version": "1.2.0",
      "_model_name": "LayoutModel",
      "_view_count": null,
      "_view_module": "@jupyter-widgets/base",
      "_view_module_version": "1.2.0",
      "_view_name": "LayoutView",
      "align_content": null,
      "align_items": null,
      "align_self": null,
      "border": null,
      "bottom": null,
      "display": null,
      "flex": null,
      "flex_flow": null,
      "grid_area": null,
      "grid_auto_columns": null,
      "grid_auto_flow": null,
      "grid_auto_rows": null,
      "grid_column": null,
      "grid_gap": null,
      "grid_row": null,
      "grid_template_areas": null,
      "grid_template_columns": null,
      "grid_template_rows": null,
      "height": null,
      "justify_content": null,
      "justify_items": null,
      "left": null,
      "margin": null,
      "max_height": null,
      "max_width": null,
      "min_height": null,
      "min_width": null,
      "object_fit": null,
      "object_position": null,
      "order": null,
      "overflow": null,
      "overflow_x": null,
      "overflow_y": null,
      "padding": null,
      "right": null,
      "top": null,
      "visibility": null,
      "width": null
     }
    },
    "01ed3b54240c4b0d9beded994f197470": {
     "model_module": "@jupyter-widgets/controls",
     "model_name": "DescriptionStyleModel",
     "model_module_version": "1.5.0",
     "state": {
      "_model_module": "@jupyter-widgets/controls",
      "_model_module_version": "1.5.0",
      "_model_name": "DescriptionStyleModel",
      "_view_count": null,
      "_view_module": "@jupyter-widgets/base",
      "_view_module_version": "1.2.0",
      "_view_name": "StyleView",
      "description_width": ""
     }
    },
    "9cd5885d7939492592df01ac96b38849": {
     "model_module": "@jupyter-widgets/controls",
     "model_name": "HBoxModel",
     "model_module_version": "1.5.0",
     "state": {
      "_dom_classes": [],
      "_model_module": "@jupyter-widgets/controls",
      "_model_module_version": "1.5.0",
      "_model_name": "HBoxModel",
      "_view_count": null,
      "_view_module": "@jupyter-widgets/controls",
      "_view_module_version": "1.5.0",
      "_view_name": "HBoxView",
      "box_style": "",
      "children": [
       "IPY_MODEL_da89b60422d5485885f815e9ce31d477",
       "IPY_MODEL_e0cf7f740ee7415bb30143ec330f7fa2",
       "IPY_MODEL_2ceea3407cdb4b17bb39d37a2d40b147"
      ],
      "layout": "IPY_MODEL_868f21e199d74d5ea7889959cac5be21"
     }
    },
    "da89b60422d5485885f815e9ce31d477": {
     "model_module": "@jupyter-widgets/controls",
     "model_name": "HTMLModel",
     "model_module_version": "1.5.0",
     "state": {
      "_dom_classes": [],
      "_model_module": "@jupyter-widgets/controls",
      "_model_module_version": "1.5.0",
      "_model_name": "HTMLModel",
      "_view_count": null,
      "_view_module": "@jupyter-widgets/controls",
      "_view_module_version": "1.5.0",
      "_view_name": "HTMLView",
      "description": "",
      "description_tooltip": null,
      "layout": "IPY_MODEL_5d33a5f3797a4bca9d134e6e578d38b0",
      "placeholder": "​",
      "style": "IPY_MODEL_ffc06f2aea1741cd88c35a4567691c1f",
      "value": "Processing:  86%"
     }
    },
    "e0cf7f740ee7415bb30143ec330f7fa2": {
     "model_module": "@jupyter-widgets/controls",
     "model_name": "FloatProgressModel",
     "model_module_version": "1.5.0",
     "state": {
      "_dom_classes": [],
      "_model_module": "@jupyter-widgets/controls",
      "_model_module_version": "1.5.0",
      "_model_name": "FloatProgressModel",
      "_view_count": null,
      "_view_module": "@jupyter-widgets/controls",
      "_view_module_version": "1.5.0",
      "_view_name": "ProgressView",
      "bar_style": "",
      "description": "",
      "description_tooltip": null,
      "layout": "IPY_MODEL_6c92bf6c23b0438dabf98a501ea2997e",
      "max": 87,
      "min": 0,
      "orientation": "horizontal",
      "style": "IPY_MODEL_ddfd46cd39c24c63be4b926c915c50b8",
      "value": 75
     }
    },
    "2ceea3407cdb4b17bb39d37a2d40b147": {
     "model_module": "@jupyter-widgets/controls",
     "model_name": "HTMLModel",
     "model_module_version": "1.5.0",
     "state": {
      "_dom_classes": [],
      "_model_module": "@jupyter-widgets/controls",
      "_model_module_version": "1.5.0",
      "_model_name": "HTMLModel",
      "_view_count": null,
      "_view_module": "@jupyter-widgets/controls",
      "_view_module_version": "1.5.0",
      "_view_name": "HTMLView",
      "description": "",
      "description_tooltip": null,
      "layout": "IPY_MODEL_7c7eb588ccf64c94b49897f44a839ae4",
      "placeholder": "​",
      "style": "IPY_MODEL_b895d52718c34c4999e853f58c2cefa2",
      "value": " 75/87 [58:28&lt;08:44, 43.71s/it]"
     }
    },
    "868f21e199d74d5ea7889959cac5be21": {
     "model_module": "@jupyter-widgets/base",
     "model_name": "LayoutModel",
     "model_module_version": "1.2.0",
     "state": {
      "_model_module": "@jupyter-widgets/base",
      "_model_module_version": "1.2.0",
      "_model_name": "LayoutModel",
      "_view_count": null,
      "_view_module": "@jupyter-widgets/base",
      "_view_module_version": "1.2.0",
      "_view_name": "LayoutView",
      "align_content": null,
      "align_items": null,
      "align_self": null,
      "border": null,
      "bottom": null,
      "display": null,
      "flex": null,
      "flex_flow": null,
      "grid_area": null,
      "grid_auto_columns": null,
      "grid_auto_flow": null,
      "grid_auto_rows": null,
      "grid_column": null,
      "grid_gap": null,
      "grid_row": null,
      "grid_template_areas": null,
      "grid_template_columns": null,
      "grid_template_rows": null,
      "height": null,
      "justify_content": null,
      "justify_items": null,
      "left": null,
      "margin": null,
      "max_height": null,
      "max_width": null,
      "min_height": null,
      "min_width": null,
      "object_fit": null,
      "object_position": null,
      "order": null,
      "overflow": null,
      "overflow_x": null,
      "overflow_y": null,
      "padding": null,
      "right": null,
      "top": null,
      "visibility": null,
      "width": null
     }
    },
    "5d33a5f3797a4bca9d134e6e578d38b0": {
     "model_module": "@jupyter-widgets/base",
     "model_name": "LayoutModel",
     "model_module_version": "1.2.0",
     "state": {
      "_model_module": "@jupyter-widgets/base",
      "_model_module_version": "1.2.0",
      "_model_name": "LayoutModel",
      "_view_count": null,
      "_view_module": "@jupyter-widgets/base",
      "_view_module_version": "1.2.0",
      "_view_name": "LayoutView",
      "align_content": null,
      "align_items": null,
      "align_self": null,
      "border": null,
      "bottom": null,
      "display": null,
      "flex": null,
      "flex_flow": null,
      "grid_area": null,
      "grid_auto_columns": null,
      "grid_auto_flow": null,
      "grid_auto_rows": null,
      "grid_column": null,
      "grid_gap": null,
      "grid_row": null,
      "grid_template_areas": null,
      "grid_template_columns": null,
      "grid_template_rows": null,
      "height": null,
      "justify_content": null,
      "justify_items": null,
      "left": null,
      "margin": null,
      "max_height": null,
      "max_width": null,
      "min_height": null,
      "min_width": null,
      "object_fit": null,
      "object_position": null,
      "order": null,
      "overflow": null,
      "overflow_x": null,
      "overflow_y": null,
      "padding": null,
      "right": null,
      "top": null,
      "visibility": null,
      "width": null
     }
    },
    "ffc06f2aea1741cd88c35a4567691c1f": {
     "model_module": "@jupyter-widgets/controls",
     "model_name": "DescriptionStyleModel",
     "model_module_version": "1.5.0",
     "state": {
      "_model_module": "@jupyter-widgets/controls",
      "_model_module_version": "1.5.0",
      "_model_name": "DescriptionStyleModel",
      "_view_count": null,
      "_view_module": "@jupyter-widgets/base",
      "_view_module_version": "1.2.0",
      "_view_name": "StyleView",
      "description_width": ""
     }
    },
    "6c92bf6c23b0438dabf98a501ea2997e": {
     "model_module": "@jupyter-widgets/base",
     "model_name": "LayoutModel",
     "model_module_version": "1.2.0",
     "state": {
      "_model_module": "@jupyter-widgets/base",
      "_model_module_version": "1.2.0",
      "_model_name": "LayoutModel",
      "_view_count": null,
      "_view_module": "@jupyter-widgets/base",
      "_view_module_version": "1.2.0",
      "_view_name": "LayoutView",
      "align_content": null,
      "align_items": null,
      "align_self": null,
      "border": null,
      "bottom": null,
      "display": null,
      "flex": null,
      "flex_flow": null,
      "grid_area": null,
      "grid_auto_columns": null,
      "grid_auto_flow": null,
      "grid_auto_rows": null,
      "grid_column": null,
      "grid_gap": null,
      "grid_row": null,
      "grid_template_areas": null,
      "grid_template_columns": null,
      "grid_template_rows": null,
      "height": null,
      "justify_content": null,
      "justify_items": null,
      "left": null,
      "margin": null,
      "max_height": null,
      "max_width": null,
      "min_height": null,
      "min_width": null,
      "object_fit": null,
      "object_position": null,
      "order": null,
      "overflow": null,
      "overflow_x": null,
      "overflow_y": null,
      "padding": null,
      "right": null,
      "top": null,
      "visibility": null,
      "width": null
     }
    },
    "ddfd46cd39c24c63be4b926c915c50b8": {
     "model_module": "@jupyter-widgets/controls",
     "model_name": "ProgressStyleModel",
     "model_module_version": "1.5.0",
     "state": {
      "_model_module": "@jupyter-widgets/controls",
      "_model_module_version": "1.5.0",
      "_model_name": "ProgressStyleModel",
      "_view_count": null,
      "_view_module": "@jupyter-widgets/base",
      "_view_module_version": "1.2.0",
      "_view_name": "StyleView",
      "bar_color": null,
      "description_width": ""
     }
    },
    "7c7eb588ccf64c94b49897f44a839ae4": {
     "model_module": "@jupyter-widgets/base",
     "model_name": "LayoutModel",
     "model_module_version": "1.2.0",
     "state": {
      "_model_module": "@jupyter-widgets/base",
      "_model_module_version": "1.2.0",
      "_model_name": "LayoutModel",
      "_view_count": null,
      "_view_module": "@jupyter-widgets/base",
      "_view_module_version": "1.2.0",
      "_view_name": "LayoutView",
      "align_content": null,
      "align_items": null,
      "align_self": null,
      "border": null,
      "bottom": null,
      "display": null,
      "flex": null,
      "flex_flow": null,
      "grid_area": null,
      "grid_auto_columns": null,
      "grid_auto_flow": null,
      "grid_auto_rows": null,
      "grid_column": null,
      "grid_gap": null,
      "grid_row": null,
      "grid_template_areas": null,
      "grid_template_columns": null,
      "grid_template_rows": null,
      "height": null,
      "justify_content": null,
      "justify_items": null,
      "left": null,
      "margin": null,
      "max_height": null,
      "max_width": null,
      "min_height": null,
      "min_width": null,
      "object_fit": null,
      "object_position": null,
      "order": null,
      "overflow": null,
      "overflow_x": null,
      "overflow_y": null,
      "padding": null,
      "right": null,
      "top": null,
      "visibility": null,
      "width": null
     }
    },
    "b895d52718c34c4999e853f58c2cefa2": {
     "model_module": "@jupyter-widgets/controls",
     "model_name": "DescriptionStyleModel",
     "model_module_version": "1.5.0",
     "state": {
      "_model_module": "@jupyter-widgets/controls",
      "_model_module_version": "1.5.0",
      "_model_name": "DescriptionStyleModel",
      "_view_count": null,
      "_view_module": "@jupyter-widgets/base",
      "_view_module_version": "1.2.0",
      "_view_name": "StyleView",
      "description_width": ""
     }
    }
   }
  }
 },
 "nbformat": 4,
 "nbformat_minor": 0
}
