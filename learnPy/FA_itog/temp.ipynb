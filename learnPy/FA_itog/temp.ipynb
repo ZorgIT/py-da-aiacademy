{
 "cells": [
  {
   "cell_type": "code",
   "id": "initial_id",
   "metadata": {
    "collapsed": true,
    "ExecuteTime": {
     "end_time": "2024-10-29T20:14:25.993836Z",
     "start_time": "2024-10-29T20:14:20.323749Z"
    }
   },
   "source": [
    "#Загрузка данных, первичная подготовка\n",
    "import pandas as pd\n",
    "\n",
    "# ID Google Sheets документа (Документ публичный, выгрузка в CSV из EXCEL)\n",
    "sheet_id = '1wHb0scCZ1J16vWyAxDCF6lqN7g4imGQg' #Сюда вставьте ID ВАШЕГО ДОКУМЕНТА\n",
    "sheet_name = 'Sheet1'  # Если лист в вашем файле у вас только 1, то НЕ ТРОГАТЬ\n",
    "#СЛЕДУЮЩУЮ СТРОКУ НЕ ТРОГАТЬ:\n",
    "url = f\"https://docs.google.com/spreadsheets/d/{sheet_id}/gviz/tq?tqx=out:csv&sheet={sheet_name}\"\n",
    "\n",
    "# Загрузка данных напрямую в DataFrame\n",
    "df = pd.read_csv(url)\n",
    "\n",
    "# Вывод первых строк\n",
    "print(df.head())\n"
   ],
   "outputs": [
    {
     "name": "stdout",
     "output_type": "stream",
     "text": [
      "   ProductKey OrderDate  ShipDate  CustomerKey  PromotionKey  \\\n",
      "0         310  1/1/2014  1/8/2014        21768             1   \n",
      "1         346  1/1/2014  1/8/2014        28389             1   \n",
      "2         346  1/1/2014  1/8/2014        25863             1   \n",
      "3         336  1/1/2014  1/8/2014        14501             1   \n",
      "4         346  1/1/2014  1/8/2014        11003             1   \n",
      "\n",
      "   SalesTerritoryKey SalesOrderNumber  SalesOrderLineNumber  OrderQuantity  \\\n",
      "0                  6          SO43697                     1              2   \n",
      "1                  7          SO43698                     1              2   \n",
      "2                  1          SO43699                     1              2   \n",
      "3                  4          SO43700                     1              2   \n",
      "4                  9          SO43701                     1              2   \n",
      "\n",
      "  UnitPrice TotalProductCost SalesAmount  TaxAmt  \n",
      "0  1 789,14         2 171,29    3 578,27  286,26  \n",
      "1  1 700,00         1 912,15    3 399,99  272,00  \n",
      "2  1 700,00         1 912,15    3 399,99  272,00  \n",
      "3    349,55           413,15      699,10   55,93  \n",
      "4  1 700,00         1 912,15    3 399,99  272,00  \n"
     ]
    }
   ],
   "execution_count": 9
  },
  {
   "metadata": {
    "ExecuteTime": {
     "end_time": "2024-10-29T20:14:28.998291Z",
     "start_time": "2024-10-29T20:14:28.911293Z"
    }
   },
   "cell_type": "code",
   "source": "df.info()",
   "id": "2f700fca4ceec3c2",
   "outputs": [
    {
     "name": "stdout",
     "output_type": "stream",
     "text": [
      "<class 'pandas.core.frame.DataFrame'>\n",
      "RangeIndex: 58189 entries, 0 to 58188\n",
      "Data columns (total 13 columns):\n",
      " #   Column                Non-Null Count  Dtype \n",
      "---  ------                --------------  ----- \n",
      " 0   ProductKey            58189 non-null  int64 \n",
      " 1   OrderDate             58189 non-null  object\n",
      " 2   ShipDate              58189 non-null  object\n",
      " 3   CustomerKey           58189 non-null  int64 \n",
      " 4   PromotionKey          58189 non-null  int64 \n",
      " 5   SalesTerritoryKey     58189 non-null  int64 \n",
      " 6   SalesOrderNumber      58189 non-null  object\n",
      " 7   SalesOrderLineNumber  58189 non-null  int64 \n",
      " 8   OrderQuantity         58189 non-null  int64 \n",
      " 9   UnitPrice             58189 non-null  object\n",
      " 10  TotalProductCost      58189 non-null  object\n",
      " 11  SalesAmount           58189 non-null  object\n",
      " 12  TaxAmt                58189 non-null  object\n",
      "dtypes: int64(6), object(7)\n",
      "memory usage: 5.8+ MB\n"
     ]
    }
   ],
   "execution_count": 10
  },
  {
   "metadata": {
    "ExecuteTime": {
     "end_time": "2024-10-29T20:14:30.964622Z",
     "start_time": "2024-10-29T20:14:30.430650Z"
    }
   },
   "cell_type": "code",
   "source": [
    "for col in ['UnitPrice', 'TotalProductCost', 'SalesAmount', 'TaxAmt']:\n",
    "    df[col] = df[col].str.replace(r'[^\\d,.]', '', regex=True).str.replace(',', '.').astype(float)\n",
    "\n",
    "\n",
    "#df['TotalProductCost'] = df['TotalProductCost'].astype('float64')\n",
    "#df['SalesAmount'] = df['SalesAmount'].astype('float64')\n",
    "#df['TaxAmt'] = df['TaxAmount'].astype('float64')\n",
    "df.info()"
   ],
   "id": "f53b15e6321df908",
   "outputs": [
    {
     "name": "stdout",
     "output_type": "stream",
     "text": [
      "<class 'pandas.core.frame.DataFrame'>\n",
      "RangeIndex: 58189 entries, 0 to 58188\n",
      "Data columns (total 13 columns):\n",
      " #   Column                Non-Null Count  Dtype  \n",
      "---  ------                --------------  -----  \n",
      " 0   ProductKey            58189 non-null  int64  \n",
      " 1   OrderDate             58189 non-null  object \n",
      " 2   ShipDate              58189 non-null  object \n",
      " 3   CustomerKey           58189 non-null  int64  \n",
      " 4   PromotionKey          58189 non-null  int64  \n",
      " 5   SalesTerritoryKey     58189 non-null  int64  \n",
      " 6   SalesOrderNumber      58189 non-null  object \n",
      " 7   SalesOrderLineNumber  58189 non-null  int64  \n",
      " 8   OrderQuantity         58189 non-null  int64  \n",
      " 9   UnitPrice             58189 non-null  float64\n",
      " 10  TotalProductCost      58189 non-null  float64\n",
      " 11  SalesAmount           58189 non-null  float64\n",
      " 12  TaxAmt                58189 non-null  float64\n",
      "dtypes: float64(4), int64(6), object(3)\n",
      "memory usage: 5.8+ MB\n"
     ]
    }
   ],
   "execution_count": 11
  }
 ],
 "metadata": {
  "kernelspec": {
   "display_name": "Python 3",
   "language": "python",
   "name": "python3"
  },
  "language_info": {
   "codemirror_mode": {
    "name": "ipython",
    "version": 2
   },
   "file_extension": ".py",
   "mimetype": "text/x-python",
   "name": "python",
   "nbconvert_exporter": "python",
   "pygments_lexer": "ipython2",
   "version": "2.7.6"
  }
 },
 "nbformat": 4,
 "nbformat_minor": 5
}
