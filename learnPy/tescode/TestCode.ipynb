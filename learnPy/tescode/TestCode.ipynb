{
 "cells": [
  {
   "cell_type": "code",
   "id": "initial_id",
   "metadata": {
    "collapsed": true,
    "ExecuteTime": {
     "end_time": "2024-11-18T19:21:12.773993Z",
     "start_time": "2024-11-18T19:21:12.753005Z"
    }
   },
   "source": [
    "def draw_box():\n",
    "    for _ in range(5):\n",
    "        print('*' * 7)\n",
    "        \n",
    "draw_box()\n",
    "print()\n",
    "draw_box()\n",
    "print()"
   ],
   "outputs": [
    {
     "name": "stdout",
     "output_type": "stream",
     "text": [
      "*******\n",
      "*******\n",
      "*******\n",
      "*******\n",
      "*******\n",
      "\n",
      "*******\n",
      "*******\n",
      "*******\n",
      "*******\n",
      "*******\n",
      "\n"
     ]
    }
   ],
   "execution_count": 3
  },
  {
   "metadata": {
    "ExecuteTime": {
     "end_time": "2024-11-18T19:28:57.994056Z",
     "start_time": "2024-11-18T19:28:57.983068Z"
    }
   },
   "cell_type": "code",
   "source": [
    "# объявление функции\n",
    "def draw_triangle():\n",
    "    for i in range(1,11):\n",
    "        print('*' * i)\n",
    "\n",
    "# основная программа\n",
    "draw_triangle()  # вызов функции"
   ],
   "id": "81a3a8d39fc646be",
   "outputs": [
    {
     "name": "stdout",
     "output_type": "stream",
     "text": [
      "*\n",
      "**\n",
      "***\n",
      "****\n",
      "*****\n",
      "******\n",
      "*******\n",
      "********\n",
      "*********\n",
      "**********\n"
     ]
    }
   ],
   "execution_count": 4
  },
  {
   "metadata": {
    "ExecuteTime": {
     "end_time": "2024-11-18T19:29:37.672453Z",
     "start_time": "2024-11-18T19:29:37.661455Z"
    }
   },
   "cell_type": "code",
   "source": [
    "def draw_box():\n",
    "    for i in range(5):\n",
    "        print('*' * 7)"
   ],
   "id": "e317c28bd92ccf49",
   "outputs": [],
   "execution_count": 5
  },
  {
   "metadata": {
    "ExecuteTime": {
     "end_time": "2024-11-18T19:30:58.006129Z",
     "start_time": "2024-11-18T19:30:57.995125Z"
    }
   },
   "cell_type": "code",
   "source": [
    "def print_number(a, b, c):\n",
    "    d = (a + c) // b\n",
    "    print(d)\n",
    "    \n",
    "print_number(2, 3, 11)"
   ],
   "id": "66606ad6a03c1837",
   "outputs": [
    {
     "name": "stdout",
     "output_type": "stream",
     "text": [
      "4\n"
     ]
    }
   ],
   "execution_count": 7
  },
  {
   "metadata": {
    "ExecuteTime": {
     "end_time": "2024-11-18T19:31:10.312934Z",
     "start_time": "2024-11-18T19:31:10.293934Z"
    }
   },
   "cell_type": "code",
   "source": [
    "def change_us(a, b):\n",
    "    a = 0\n",
    "    b = 0\n",
    "    print(a, b)\n",
    "\n",
    "x = 1\n",
    "y = 7\n",
    "print(x, y)\n",
    "change_us(x, y)\n",
    "print(x, y)"
   ],
   "id": "6bc7a799796abba7",
   "outputs": [
    {
     "name": "stdout",
     "output_type": "stream",
     "text": [
      "1 7\n",
      "0 0\n",
      "1 7\n"
     ]
    }
   ],
   "execution_count": 8
  },
  {
   "metadata": {
    "ExecuteTime": {
     "end_time": "2024-11-18T19:31:23.655817Z",
     "start_time": "2024-11-18T19:31:23.640811Z"
    }
   },
   "cell_type": "code",
   "source": [
    "def print_text(text, num):\n",
    "    while num > 0:\n",
    "        print(text, end='')\n",
    "        num -= 1\n",
    "\n",
    "print_text('Python', 4)"
   ],
   "id": "5378912131bfcac4",
   "outputs": [
    {
     "name": "stdout",
     "output_type": "stream",
     "text": [
      "PythonPythonPythonPython"
     ]
    }
   ],
   "execution_count": 9
  },
  {
   "metadata": {
    "ExecuteTime": {
     "end_time": "2024-11-18T20:26:07.853223Z",
     "start_time": "2024-11-18T20:26:07.841227Z"
    }
   },
   "cell_type": "code",
   "source": [
    "def swap(a, b):\n",
    "    a, b = b, a\n",
    "\n",
    "a = 4\n",
    "b = 3\n",
    "swap(a, b)\n",
    "print(a - b)"
   ],
   "id": "f92d165dee451dda",
   "outputs": [
    {
     "name": "stdout",
     "output_type": "stream",
     "text": [
      "1\n"
     ]
    }
   ],
   "execution_count": 10
  }
 ],
 "metadata": {
  "kernelspec": {
   "display_name": "Python 3",
   "language": "python",
   "name": "python3"
  },
  "language_info": {
   "codemirror_mode": {
    "name": "ipython",
    "version": 2
   },
   "file_extension": ".py",
   "mimetype": "text/x-python",
   "name": "python",
   "nbconvert_exporter": "python",
   "pygments_lexer": "ipython2",
   "version": "2.7.6"
  }
 },
 "nbformat": 4,
 "nbformat_minor": 5
}
