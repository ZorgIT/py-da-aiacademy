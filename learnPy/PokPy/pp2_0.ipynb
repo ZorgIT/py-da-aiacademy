{
 "cells": [
  {
   "cell_type": "code",
   "id": "initial_id",
   "metadata": {
    "collapsed": true,
    "ExecuteTime": {
     "end_time": "2024-10-24T21:32:22.270664Z",
     "start_time": "2024-10-24T21:32:22.247573Z"
    }
   },
   "source": [
    "# Ввод данных\n",
    "day = 35  # Номер дня похудения\n",
    "current_weight = 93.1  # Текущий вес Гвидо\n",
    "\n",
    "# Исходные данные\n",
    "initial_weight = 100.0  # Исходный вес\n",
    "target_weight = 88.0  # Целевая масса\n",
    "total_days = 60  # Всего дней для похудения\n",
    "\n",
    "# Расчет веса, который Гвидо должен терять каждый день\n",
    "weight_loss_per_day = (initial_weight - target_weight) / total_days\n",
    "\n",
    "# Расчет целевого веса на текущий день\n",
    "target_weight_today = initial_weight - weight_loss_per_day * day\n",
    "\n",
    "# Вывод результата\n",
    "if current_weight <= target_weight_today + 1e-9:  # Учитываем возможные проблемы с плавающей точкой\n",
    "    print(\"Все идет по плану\")\n",
    "else:\n",
    "    print(\"Что-то пошло не так\")\n",
    "\n",
    "def format_weight(weight):\n",
    "    # Преобразуем число в строку\n",
    "    weight_str = f\"{weight:.10f}\"  # Используем больше знаков после запятой на всякий случай\n",
    "    \n",
    "    # Убираем лишние нули и точку в конце\n",
    "    weight_str = weight_str.rstrip('0').rstrip('.')\n",
    "    \n",
    "    return float(weight_str)\n",
    "\n",
    "# Печатаем результаты\n",
    "print(f\"#{day} ДЕНЬ: ТЕКУЩИЙ ВЕС = {format_weight(current_weight)} кг, ЦЕЛЬ по ВЕСУ = {format_weight(target_weight_today)} кг\")\n"
   ],
   "outputs": [
    {
     "name": "stdout",
     "output_type": "stream",
     "text": [
      "Что-то пошло не так\n",
      "#35 ДЕНЬ: ТЕКУЩИЙ ВЕС = 93.1 кг, ЦЕЛЬ по ВЕСУ = 93.0 кг\n"
     ]
    }
   ],
   "execution_count": 21
  },
  {
   "metadata": {},
   "cell_type": "code",
   "outputs": [],
   "execution_count": null,
   "source": "",
   "id": "44edfd12da98b5e5"
  }
 ],
 "metadata": {
  "kernelspec": {
   "display_name": "Python 3",
   "language": "python",
   "name": "python3"
  },
  "language_info": {
   "codemirror_mode": {
    "name": "ipython",
    "version": 2
   },
   "file_extension": ".py",
   "mimetype": "text/x-python",
   "name": "python",
   "nbconvert_exporter": "python",
   "pygments_lexer": "ipython2",
   "version": "2.7.6"
  }
 },
 "nbformat": 4,
 "nbformat_minor": 5
}
